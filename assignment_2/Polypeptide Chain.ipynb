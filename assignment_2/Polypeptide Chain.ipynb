{
 "cells": [
  {
   "cell_type": "markdown",
   "metadata": {},
   "source": [
    "**CMP585 - Structural Bioinformatics**\n",
    "\n",
    "Cristian Lopes\n",
    "\n",
    "*Assignment 2*"
   ]
  },
  {
   "cell_type": "code",
   "execution_count": 1,
   "metadata": {},
   "outputs": [],
   "source": [
    "import pandas as pd\n",
    "import numpy as np\n",
    "import glob\n",
    "import matplotlib.pyplot as plt\n",
    "import time"
   ]
  },
  {
   "cell_type": "markdown",
   "metadata": {},
   "source": [
    "# Load Data"
   ]
  },
  {
   "cell_type": "markdown",
   "metadata": {},
   "source": [
    "Load the molecule whose id is 1CRN in the PDB "
   ]
  },
  {
   "cell_type": "code",
   "execution_count": 2,
   "metadata": {},
   "outputs": [],
   "source": [
    "def read_molecule(path):\n",
    "    atoms = []\n",
    "    with open(path, 'r') as f:\n",
    "        for line in f:\n",
    "            if line.startswith('ATOM'):\n",
    "                atoms.append({'atom_name': line[12:16].strip(), \n",
    "                             'residue_name': line[17:20].strip(),\n",
    "                             'residue_seq_number': line[22:26].strip(),\n",
    "                             'x': float(line[30:38].strip()), \n",
    "                             'y': float(line[38:46].strip()),\n",
    "                             'z': float(line[46:54].strip())})\n",
    "    return pd.DataFrame(atoms)"
   ]
  },
  {
   "cell_type": "code",
   "execution_count": 3,
   "metadata": {},
   "outputs": [],
   "source": [
    "molecule = read_molecule('./data/1crn.pdb')"
   ]
  },
  {
   "cell_type": "code",
   "execution_count": 4,
   "metadata": {},
   "outputs": [
    {
     "data": {
      "text/html": [
       "<div>\n",
       "<style scoped>\n",
       "    .dataframe tbody tr th:only-of-type {\n",
       "        vertical-align: middle;\n",
       "    }\n",
       "\n",
       "    .dataframe tbody tr th {\n",
       "        vertical-align: top;\n",
       "    }\n",
       "\n",
       "    .dataframe thead th {\n",
       "        text-align: right;\n",
       "    }\n",
       "</style>\n",
       "<table border=\"1\" class=\"dataframe\">\n",
       "  <thead>\n",
       "    <tr style=\"text-align: right;\">\n",
       "      <th></th>\n",
       "      <th>atom_name</th>\n",
       "      <th>residue_name</th>\n",
       "      <th>residue_seq_number</th>\n",
       "      <th>x</th>\n",
       "      <th>y</th>\n",
       "      <th>z</th>\n",
       "    </tr>\n",
       "  </thead>\n",
       "  <tbody>\n",
       "    <tr>\n",
       "      <th>0</th>\n",
       "      <td>N</td>\n",
       "      <td>THR</td>\n",
       "      <td>1</td>\n",
       "      <td>17.047</td>\n",
       "      <td>14.099</td>\n",
       "      <td>3.625</td>\n",
       "    </tr>\n",
       "    <tr>\n",
       "      <th>1</th>\n",
       "      <td>CA</td>\n",
       "      <td>THR</td>\n",
       "      <td>1</td>\n",
       "      <td>16.967</td>\n",
       "      <td>12.784</td>\n",
       "      <td>4.338</td>\n",
       "    </tr>\n",
       "    <tr>\n",
       "      <th>2</th>\n",
       "      <td>C</td>\n",
       "      <td>THR</td>\n",
       "      <td>1</td>\n",
       "      <td>15.685</td>\n",
       "      <td>12.755</td>\n",
       "      <td>5.133</td>\n",
       "    </tr>\n",
       "    <tr>\n",
       "      <th>3</th>\n",
       "      <td>O</td>\n",
       "      <td>THR</td>\n",
       "      <td>1</td>\n",
       "      <td>15.268</td>\n",
       "      <td>13.825</td>\n",
       "      <td>5.594</td>\n",
       "    </tr>\n",
       "    <tr>\n",
       "      <th>4</th>\n",
       "      <td>CB</td>\n",
       "      <td>THR</td>\n",
       "      <td>1</td>\n",
       "      <td>18.170</td>\n",
       "      <td>12.703</td>\n",
       "      <td>5.337</td>\n",
       "    </tr>\n",
       "    <tr>\n",
       "      <th>5</th>\n",
       "      <td>OG1</td>\n",
       "      <td>THR</td>\n",
       "      <td>1</td>\n",
       "      <td>19.334</td>\n",
       "      <td>12.829</td>\n",
       "      <td>4.463</td>\n",
       "    </tr>\n",
       "    <tr>\n",
       "      <th>6</th>\n",
       "      <td>CG2</td>\n",
       "      <td>THR</td>\n",
       "      <td>1</td>\n",
       "      <td>18.150</td>\n",
       "      <td>11.546</td>\n",
       "      <td>6.304</td>\n",
       "    </tr>\n",
       "    <tr>\n",
       "      <th>7</th>\n",
       "      <td>N</td>\n",
       "      <td>THR</td>\n",
       "      <td>2</td>\n",
       "      <td>15.115</td>\n",
       "      <td>11.555</td>\n",
       "      <td>5.265</td>\n",
       "    </tr>\n",
       "    <tr>\n",
       "      <th>8</th>\n",
       "      <td>CA</td>\n",
       "      <td>THR</td>\n",
       "      <td>2</td>\n",
       "      <td>13.856</td>\n",
       "      <td>11.469</td>\n",
       "      <td>6.066</td>\n",
       "    </tr>\n",
       "    <tr>\n",
       "      <th>9</th>\n",
       "      <td>C</td>\n",
       "      <td>THR</td>\n",
       "      <td>2</td>\n",
       "      <td>14.164</td>\n",
       "      <td>10.785</td>\n",
       "      <td>7.379</td>\n",
       "    </tr>\n",
       "    <tr>\n",
       "      <th>10</th>\n",
       "      <td>O</td>\n",
       "      <td>THR</td>\n",
       "      <td>2</td>\n",
       "      <td>14.993</td>\n",
       "      <td>9.862</td>\n",
       "      <td>7.443</td>\n",
       "    </tr>\n",
       "    <tr>\n",
       "      <th>11</th>\n",
       "      <td>CB</td>\n",
       "      <td>THR</td>\n",
       "      <td>2</td>\n",
       "      <td>12.732</td>\n",
       "      <td>10.711</td>\n",
       "      <td>5.261</td>\n",
       "    </tr>\n",
       "    <tr>\n",
       "      <th>12</th>\n",
       "      <td>OG1</td>\n",
       "      <td>THR</td>\n",
       "      <td>2</td>\n",
       "      <td>13.308</td>\n",
       "      <td>9.439</td>\n",
       "      <td>4.926</td>\n",
       "    </tr>\n",
       "    <tr>\n",
       "      <th>13</th>\n",
       "      <td>CG2</td>\n",
       "      <td>THR</td>\n",
       "      <td>2</td>\n",
       "      <td>12.484</td>\n",
       "      <td>11.442</td>\n",
       "      <td>3.895</td>\n",
       "    </tr>\n",
       "    <tr>\n",
       "      <th>14</th>\n",
       "      <td>N</td>\n",
       "      <td>CYS</td>\n",
       "      <td>3</td>\n",
       "      <td>13.488</td>\n",
       "      <td>11.241</td>\n",
       "      <td>8.417</td>\n",
       "    </tr>\n",
       "    <tr>\n",
       "      <th>15</th>\n",
       "      <td>CA</td>\n",
       "      <td>CYS</td>\n",
       "      <td>3</td>\n",
       "      <td>13.660</td>\n",
       "      <td>10.707</td>\n",
       "      <td>9.787</td>\n",
       "    </tr>\n",
       "    <tr>\n",
       "      <th>16</th>\n",
       "      <td>C</td>\n",
       "      <td>CYS</td>\n",
       "      <td>3</td>\n",
       "      <td>12.269</td>\n",
       "      <td>10.431</td>\n",
       "      <td>10.323</td>\n",
       "    </tr>\n",
       "    <tr>\n",
       "      <th>17</th>\n",
       "      <td>O</td>\n",
       "      <td>CYS</td>\n",
       "      <td>3</td>\n",
       "      <td>11.393</td>\n",
       "      <td>11.308</td>\n",
       "      <td>10.185</td>\n",
       "    </tr>\n",
       "    <tr>\n",
       "      <th>18</th>\n",
       "      <td>CB</td>\n",
       "      <td>CYS</td>\n",
       "      <td>3</td>\n",
       "      <td>14.368</td>\n",
       "      <td>11.748</td>\n",
       "      <td>10.691</td>\n",
       "    </tr>\n",
       "    <tr>\n",
       "      <th>19</th>\n",
       "      <td>SG</td>\n",
       "      <td>CYS</td>\n",
       "      <td>3</td>\n",
       "      <td>15.885</td>\n",
       "      <td>12.426</td>\n",
       "      <td>10.016</td>\n",
       "    </tr>\n",
       "  </tbody>\n",
       "</table>\n",
       "</div>"
      ],
      "text/plain": [
       "   atom_name residue_name residue_seq_number       x       y       z\n",
       "0          N          THR                  1  17.047  14.099   3.625\n",
       "1         CA          THR                  1  16.967  12.784   4.338\n",
       "2          C          THR                  1  15.685  12.755   5.133\n",
       "3          O          THR                  1  15.268  13.825   5.594\n",
       "4         CB          THR                  1  18.170  12.703   5.337\n",
       "5        OG1          THR                  1  19.334  12.829   4.463\n",
       "6        CG2          THR                  1  18.150  11.546   6.304\n",
       "7          N          THR                  2  15.115  11.555   5.265\n",
       "8         CA          THR                  2  13.856  11.469   6.066\n",
       "9          C          THR                  2  14.164  10.785   7.379\n",
       "10         O          THR                  2  14.993   9.862   7.443\n",
       "11        CB          THR                  2  12.732  10.711   5.261\n",
       "12       OG1          THR                  2  13.308   9.439   4.926\n",
       "13       CG2          THR                  2  12.484  11.442   3.895\n",
       "14         N          CYS                  3  13.488  11.241   8.417\n",
       "15        CA          CYS                  3  13.660  10.707   9.787\n",
       "16         C          CYS                  3  12.269  10.431  10.323\n",
       "17         O          CYS                  3  11.393  11.308  10.185\n",
       "18        CB          CYS                  3  14.368  11.748  10.691\n",
       "19        SG          CYS                  3  15.885  12.426  10.016"
      ]
     },
     "execution_count": 4,
     "metadata": {},
     "output_type": "execute_result"
    }
   ],
   "source": [
    "molecule.head(20)"
   ]
  },
  {
   "cell_type": "markdown",
   "metadata": {},
   "source": [
    "# Q1) Primary to Tertiary Structure"
   ]
  },
  {
   "cell_type": "markdown",
   "metadata": {},
   "source": [
    "## Symbol of each amino acid"
   ]
  },
  {
   "cell_type": "markdown",
   "metadata": {},
   "source": [
    "First of all, we define the symbol of each amino acid."
   ]
  },
  {
   "cell_type": "code",
   "execution_count": 5,
   "metadata": {},
   "outputs": [],
   "source": [
    "symbol_to_residue_name = {\n",
    "    'T': 'THR', 'C': 'CYS', 'P': 'PRO', 'S': 'SER', 'I': 'ILE',\n",
    "    'V': 'VAL', 'A': 'ALA', 'R': 'ARG', 'N': 'ASN', 'F': 'PHE',\n",
    "    'L': 'LEU', 'G': 'GLY', 'E': 'GLU', 'D': 'ASP', 'Y': 'TYR'\n",
    "}"
   ]
  },
  {
   "cell_type": "markdown",
   "metadata": {},
   "source": [
    "## Load Amino Acids "
   ]
  },
  {
   "cell_type": "markdown",
   "metadata": {},
   "source": [
    "Then, we load the amino acids from the Protein Data Bank."
   ]
  },
  {
   "cell_type": "code",
   "execution_count": 6,
   "metadata": {},
   "outputs": [],
   "source": [
    "AMINOACID_PATH = './data/amino_acids/'\n",
    "aminoacids = pd.DataFrame()\n",
    "\n",
    "for f in glob.glob(AMINOACID_PATH + \"*.pdb\"):\n",
    "    aminoacids = aminoacids.append(read_molecule(f))"
   ]
  },
  {
   "cell_type": "markdown",
   "metadata": {},
   "source": [
    "Right now, we have a dictionnary of amino acids containing the position of each atom inside the amino acid."
   ]
  },
  {
   "cell_type": "markdown",
   "metadata": {},
   "source": [
    "## Primary structure to tertiary structure"
   ]
  },
  {
   "cell_type": "markdown",
   "metadata": {},
   "source": [
    "### Translation and Rotation"
   ]
  },
  {
   "cell_type": "markdown",
   "metadata": {},
   "source": [
    "Next step is to replace each symbol of the primary structure by its corresponding residue. First, we define a translation and a rotation function to move and rotate the next amino acid given the position of the previous aminoacid."
   ]
  },
  {
   "cell_type": "code",
   "execution_count": 7,
   "metadata": {},
   "outputs": [],
   "source": [
    "def translate(aminoacid, translation):\n",
    "    aminoacid[['x', 'y', 'z']] = aminoacid[['x', 'y', 'z']] + translation\n",
    "    return aminoacid"
   ]
  },
  {
   "cell_type": "code",
   "execution_count": 8,
   "metadata": {},
   "outputs": [],
   "source": [
    "def translation_to_origin(aminoacid, ref_atom='N'):\n",
    "    ref_translation = aminoacid[aminoacid.atom_name == ref_atom][['x', 'y', 'z']].values.reshape(-1)\n",
    "    return ref_translation, translate(aminoacid, -ref_translation)\n",
    "    \n",
    "\n",
    "def rotate(aminoacid, angle_x, angle_y, angle_z):  \n",
    "    Rx = [[1, 0, 0], [0, np.cos(angle_x), -np.sin(angle_x)], [0, np.sin(angle_x), np.cos(angle_x)]]\n",
    "    Ry = [[np.cos(angle_y), 0, np.sin(angle_y)], [0, 1, 0], [-np.sin(angle_y), 0, np.cos(angle_y)]]\n",
    "    Rz = [[np.cos(angle_z), -np.sin(angle_z), 0], [np.sin(angle_z), np.cos(angle_z), 0], [0, 0, 1]]\n",
    "    R = np.dot(np.dot(Rx, Ry), Rz)\n",
    "    \n",
    "    ref_translation, aminoacid = translation_to_origin(aminoacid)\n",
    "    aminoacid[['x', 'y', 'z']] = R.dot(aminoacid[['x', 'y', 'z']].values.T).T\n",
    "    aminoacid = translate(aminoacid, ref_translation)\n",
    "    \n",
    "    return aminoacid"
   ]
  },
  {
   "cell_type": "markdown",
   "metadata": {},
   "source": [
    "### Planar Peptide Bond Constraints"
   ]
  },
  {
   "cell_type": "markdown",
   "metadata": {},
   "source": [
    "Given the position of  O, Ca (Alpha Carbon) and C (Carboxyl Carbon) from the previous amino acid and the position of N and Ca (Alpha Carbon) from the next one, we can calculate the necessary translation and rotation in the next amino acid in order to form a planar peptide bond. A planar peptide bond can be formed by setting 4 conditions: omega angle equals to 180°, distance of 1.33 (trans) or 1.32 (cis) ångström between C and N, angle of 123,5° (trans) or 123,0° (cis) between O-C and C-N, angle of 116,0° (trans) or 118,0° (cis) between Ca-C and C-N, angle of 122,0° (trans) or 126,0° (cis) between C-N and N-Ca as shown in the figure below."
   ]
  },
  {
   "cell_type": "markdown",
   "metadata": {},
   "source": [
    "<div style=\"text-align:center\"><img width=\"600px\" src=\"./images/planar_peptide_bond.png\"/></div>\n",
    "<br>\n",
    "<br>\n",
    "<div style=\"text-align:center\">Figure 1:  The average dimensions of the planar peptide group (in angstroms and degrees).</div>\n",
    "<div style=\"text-align:center\">Source: https://www.open.edu/openlearn/science-maths-technology/science/biology/proteins/content-section-1.2</div>"
   ]
  },
  {
   "cell_type": "code",
   "execution_count": 9,
   "metadata": {},
   "outputs": [],
   "source": [
    "# distance between C(i) and N(i+1) should be 1.33 (trans) or 1.32 (cis) ångström\n",
    "def calculate_distance(p1, p2):\n",
    "    return np.sqrt(np.sum((p1-p2) ** 2))"
   ]
  },
  {
   "cell_type": "code",
   "execution_count": 10,
   "metadata": {},
   "outputs": [],
   "source": [
    "# angle between O(i)-C(i) and C(i)-N(i+1) should be 123.5° (trans) or 123.0° (cis)\n",
    "# angle between Ca(i)-C(i) and C(i)-N(i+1) should be 116.0° (trans) or 118.0° (cis)\n",
    "# angle between C(i)-N(i+1) and N(i+1)-Ca(i+1) should be 122.0° (trans) or 126.0° (cis)\n",
    "def calculate_angle(p1, p2, p3):\n",
    "    p1, p2, p3 = np.array(p1), np.array(p2), np.array(p3)\n",
    "    \n",
    "    p1_ref = p1 - p2\n",
    "    p3_ref = p3 - p2\n",
    "    \n",
    "    cosine_angle = np.dot(p1_ref, p3_ref) / (np.linalg.norm(p1_ref) * np.linalg.norm(p3_ref))\n",
    "    angle = np.arccos(cosine_angle)\n",
    "    return np.degrees(angle)"
   ]
  },
  {
   "cell_type": "code",
   "execution_count": 11,
   "metadata": {},
   "outputs": [],
   "source": [
    "# dihedral angle between Ca(i)-C(i)-N(i+1) and C(i)-N(i+1)-Ca(i+1) should be 180°\n",
    "def calculate_dihedral_angle(p1, p2, p3, p4):\n",
    "    p1, p2, p3, p4 = np.array(p1), np.array(p2), np.array(p3), np.array(p4)\n",
    "    \n",
    "    b1 = -1.0 * (p2 - p1)\n",
    "    b2 = p3 - p2\n",
    "    b3 = p4 - p3\n",
    "    \n",
    "    # normalize b2\n",
    "    b2 /= np.linalg.norm(b2)\n",
    "    \n",
    "    # projections of b1 and b3 onto plane perpendicular to b2\n",
    "    v = b1 - np.dot(b1, b2) * b2\n",
    "    w = b3 - np.dot(b3, b2) * b2\n",
    "    \n",
    "    # angle between v and w is the torsion angle\n",
    "    x = np.dot(v, w)\n",
    "    y = np.dot(np.cross(b2, v), w)\n",
    "    return np.degrees(np.arctan2(y, x))"
   ]
  },
  {
   "cell_type": "markdown",
   "metadata": {},
   "source": [
    "### Calculate Next Amino Acid Translation and Rotation"
   ]
  },
  {
   "cell_type": "markdown",
   "metadata": {},
   "source": [
    "Based on the constraints, we can calculate the translation and rotation of the next amino acid given the previous one. We could calculate it analytically using Linear Algebra, but I am not really good in it. So I am going to use the Genetic Algorithm to calculate the necessary translation and rotation in order to satisfy the constraints.\n",
    "\n",
    "We define the Genetic Algorith fitness as the sum of the error of the 5 contraints each one devided by its desired value (normalization). Moreover, we give more weight to the 3 contraints that define the translation of the next amino acid, so the translation converges first and then we can focus on the 2 contraints that define the rotation."
   ]
  },
  {
   "cell_type": "code",
   "execution_count": 12,
   "metadata": {},
   "outputs": [],
   "source": [
    "class GeneticAlgorithm:\n",
    "    def __init__(self, dim_populaton, n_population, previous_aminoacid, next_aminoacid, peptide_group='trans'):\n",
    "        self.DIM_POPULATION = dim_populaton\n",
    "        self.N_POPULATION = n_population\n",
    "        self.peptide_group = peptide_group\n",
    "        \n",
    "        self.distances = []\n",
    "        self.dihedral_angles = []\n",
    "        self.angles_ocn = []\n",
    "        self.angles_ccn = []\n",
    "        self.angles_cnc = []\n",
    "        self.average_fitness = []\n",
    "        \n",
    "        if self.peptide_group == 'trans':\n",
    "            self.desired_distance = 1.33\n",
    "            self.desired_dihedral_angle = 180.0\n",
    "            self.desired_angle_ocn = 123.5\n",
    "            self.desired_angle_ccn = 116.0\n",
    "            self.desired_angle_cnc = 122.0\n",
    "        elif self.peptide_group == 'cis':\n",
    "            self.desired_distance = 1.32\n",
    "            self.desired_dihedral_angle = 180.0\n",
    "            self.desired_angle_ocn = 123.0\n",
    "            self.desired_angle_ccn = 118.0\n",
    "            self.desired_angle_cnc = 126.0\n",
    "        \n",
    "        self.previous_aminoacid = previous_aminoacid\n",
    "        self.next_aminoacid = next_aminoacid\n",
    "\n",
    "        self.population = self.initialize_population()\n",
    "        self.fitness = self.compute_population_fitness()\n",
    "        self.previous_fitness = None\n",
    "\n",
    "        self.iteration = 0\n",
    "\n",
    "\n",
    "    # Initialization\n",
    "    def initialize_population(self):\n",
    "        c_previous = self.previous_aminoacid[self.previous_aminoacid.atom_name == 'C'][['x', 'y', 'z']].values.reshape(-1)\n",
    "        n_next = self.next_aminoacid[self.next_aminoacid.atom_name == 'N'][['x', 'y', 'z']].values.reshape(-1)\n",
    "        \n",
    "        initial_amplitude = np.array([calculate_distance(c_previous, n_next)] * 3 + [1] * 3)\n",
    "        initial_population = [initial_amplitude * np.random.uniform(-1, 1, self.DIM_POPULATION) \n",
    "                              for _ in range(self.N_POPULATION)]\n",
    "\n",
    "        return initial_population\n",
    "\n",
    "    def generate_new_population(self):\n",
    "        new_population = []\n",
    "        for _ in range(self.N_POPULATION // 2):\n",
    "            childrens = self.intermediate_recombination()\n",
    "            new_population.extend([self.gaussian_convolution(children) for children in childrens])\n",
    "\n",
    "        return new_population\n",
    "\n",
    "    # Fitness\n",
    "    def individual_fitness(self, o_previous, c_previous, n_next, c_alpha_previous, c_alpha_next):                  \n",
    "        distance = calculate_distance(c_previous, n_next)\n",
    "        dihedral_angle = np.abs(calculate_dihedral_angle(c_alpha_previous, c_previous, n_next, c_alpha_next))\n",
    "        angle_ocn = calculate_angle(o_previous, c_previous, n_next)\n",
    "        angle_ccn = calculate_angle(c_alpha_previous, c_previous, n_next)\n",
    "        angle_cnc = calculate_angle(c_previous, n_next, c_alpha_next)\n",
    "        \n",
    "        self.distances.append(distance)\n",
    "        self.dihedral_angles.append(dihedral_angle)\n",
    "        self.angles_ocn.append(angle_ocn)\n",
    "        self.angles_ccn.append(angle_ccn)\n",
    "        self.angles_cnc.append(angle_cnc)\n",
    "        \n",
    "        fitness = (\n",
    "            2*np.abs(distance - self.desired_distance) / self.desired_distance +\n",
    "            np.abs(dihedral_angle - self.desired_dihedral_angle) / self.desired_dihedral_angle +\n",
    "            2*np.abs(angle_ocn - self.desired_angle_ocn) / self.desired_angle_ocn +\n",
    "            2*np.abs(angle_ccn - self.desired_angle_ccn) / self.desired_angle_ccn +\n",
    "            np.abs(angle_cnc - self.desired_angle_cnc) / self.desired_angle_cnc\n",
    "        )\n",
    "        \n",
    "        return fitness\n",
    "\n",
    "    def compute_population_fitness(self):\n",
    "        population_fitness = []\n",
    "        for individual in self.population:\n",
    "            p_aminoacid = self.previous_aminoacid.copy()\n",
    "            n_aminoacid = self.next_aminoacid.copy()\n",
    "            n_aminoacid = translate(n_aminoacid, individual[:3])\n",
    "            n_aminoacid = rotate(n_aminoacid, individual[3], individual[4], individual[5])\n",
    "            \n",
    "            o_previous = p_aminoacid[p_aminoacid.atom_name == 'O'][['x', 'y', 'z']].values.reshape(-1)\n",
    "            c_previous = p_aminoacid[p_aminoacid.atom_name == 'C'][['x', 'y', 'z']].values.reshape(-1)\n",
    "            n_next = n_aminoacid[n_aminoacid.atom_name == 'N'][['x', 'y', 'z']].values.reshape(-1)\n",
    "            c_alpha_previous = p_aminoacid[p_aminoacid.atom_name == 'CA'][['x', 'y', 'z']].values.reshape(-1)\n",
    "            c_alpha_next = n_aminoacid[n_aminoacid.atom_name == 'CA'][['x', 'y', 'z']].values.reshape(-1)\n",
    "\n",
    "            population_fitness.append(self.individual_fitness(o_previous, c_previous, n_next, c_alpha_previous, c_alpha_next))\n",
    "\n",
    "        return population_fitness\n",
    "    \n",
    "    # Selection\n",
    "    def fitness_proportionate_selection(self):\n",
    "        probabilities = (np.max(self.fitness) - self.fitness) / np.sum(np.max(self.fitness) - self.fitness)\n",
    "        idx = np.random.choice(self.N_POPULATION, replace=True, p=probabilities)\n",
    "\n",
    "        return self.population[idx]\n",
    "\n",
    "    # Crossover\n",
    "    def intermediate_recombination(self):\n",
    "        p = 0.1\n",
    "        alpha = np.random.uniform(-p, 1+p)\n",
    "        beta = np.random.uniform(-p, 1+p)\n",
    "\n",
    "        parent_1 = self.fitness_proportionate_selection()\n",
    "        parent_2 = self.fitness_proportionate_selection()\n",
    "\n",
    "        children_1 = alpha * parent_1 + (1 - alpha) * parent_2\n",
    "        children_2 = beta * parent_1 + (1 - beta) * parent_2\n",
    "\n",
    "        return [children_1, children_2]\n",
    "\n",
    "    # Mutation\n",
    "    def gaussian_convolution(self, children):\n",
    "        add_noise_prob = np.random.rand(self.DIM_POPULATION)\n",
    "\n",
    "        sigma = 0.02\n",
    "        noise = sigma * np.random.randn(self.DIM_POPULATION)\n",
    "\n",
    "        return children + noise * (add_noise_prob > 0.5)\n",
    "\n",
    "    def done(self, epsilon, max_iteration):\n",
    "        converged = (np.abs(np.mean(self.fitness) - np.mean(self.previous_fitness)) < epsilon) \\\n",
    "                     if self.previous_fitness is not None else False\n",
    "        taking_too_long = self.iteration > max_iteration\n",
    "\n",
    "        return converged or taking_too_long\n",
    "\n",
    "    def show_results(self):\n",
    "        print('\\nOptimal Solution:\\n')\n",
    "        print('Tx: %.2fÅ, Ty: %.2fÅ, Tz: %.2fÅ' % tuple(self.population[np.argmin(self.fitness)][:3]))\n",
    "        print('Ax: %.2f°, Ay: %.2f°, Az: %.2f°' % tuple(np.degrees(self.population[np.argmin(self.fitness)][3:])))\n",
    "        \n",
    "        print('\\nOptimized Metrics:\\n')\n",
    "        print('Distance C-N: %.3f (%.2f)' % (self.distances[-self.N_POPULATION + np.argmin(self.fitness)],\n",
    "                                            self.desired_distance))\n",
    "        print('Omega Dihedral Angle: %.2f (%.2f)' % (self.dihedral_angles[-self.N_POPULATION + np.argmin(self.fitness)],\n",
    "                                                    self.desired_dihedral_angle))\n",
    "        print('Angle O-C-N: %.2f (%.2f)' % (self.angles_ocn[-self.N_POPULATION + np.argmin(self.fitness)],\n",
    "                                           self.desired_angle_ocn))\n",
    "        print('Angle Calpha-C-N: %.2f (%.2f)' % (self.angles_ccn[-self.N_POPULATION + np.argmin(self.fitness)],\n",
    "                                                self.desired_angle_ccn))\n",
    "        print('Angle C-N-Calpha: %.2f (%.2f)\\n' % (self.angles_cnc[-self.N_POPULATION + np.argmin(self.fitness)],\n",
    "                                                  self.desired_angle_cnc))\n",
    "        \n",
    "        f, (ax1, ax2, ax3, ax4, ax5, ax6) = plt.subplots(1, 6, figsize=(22, 5))\n",
    "        ax1.plot(self.average_fitness)\n",
    "        ax1.set_title('Average Fitness Convergence.')\n",
    "        ax2.plot(np.convolve(self.distances, np.ones((10,)) / 10, mode='valid'))\n",
    "        ax2.set_title('Distance C-N.')\n",
    "        ax2.axis([-100, len(self.distances) + 100, 0, 5])\n",
    "        ax3.plot(np.convolve(self.dihedral_angles, np.ones((10,)) / 10, mode='valid'))\n",
    "        ax3.set_title('Omega Dihedral Angle.')\n",
    "        ax3.axis([-100, len(self.dihedral_angles) + 100, 0, 185])\n",
    "        ax4.plot(np.convolve(self.angles_ocn, np.ones((10,)) / 10, mode='valid'))\n",
    "        ax4.set_title('Angle O-C-N.')\n",
    "        ax4.axis([-100, len(self.angles_ocn) + 100, 0, 185])\n",
    "        ax5.plot(np.convolve(self.angles_ccn, np.ones((10,)) / 10, mode='valid'))\n",
    "        ax5.set_title('Angle Calpha-C-N.')\n",
    "        ax5.axis([-100, len(self.angles_ccn) + 100, 0, 185])\n",
    "        ax6.plot(np.convolve(self.angles_cnc, np.ones((10,)) / 10, mode='valid'))\n",
    "        ax6.set_title('Angle C-N-Calpha.')\n",
    "        ax6.axis([-100, len(self.angles_cnc) + 100, 0, 185])\n",
    "        plt.show()\n",
    "        \n",
    "    def optimize(self, max_iteration=500):\n",
    "        self.iteration = 0\n",
    "        \n",
    "        while not self.done(epsilon=1e-8, max_iteration=max_iteration):\n",
    "            self.iteration += 1\n",
    "            self.previous_fitness = self.fitness\n",
    "\n",
    "            self.population = self.generate_new_population()\n",
    "            self.fitness = self.compute_population_fitness()\n",
    "\n",
    "            self.average_fitness.append(np.mean(self.fitness))\n",
    "\n",
    "        self.show_results()\n",
    "        \n",
    "        return self.population[np.argmin(self.fitness)][:3], self.population[np.argmin(self.fitness)][3:]"
   ]
  },
  {
   "cell_type": "markdown",
   "metadata": {},
   "source": [
    "#### Testing next amino acid trasnlation and rotation"
   ]
  },
  {
   "cell_type": "markdown",
   "metadata": {},
   "source": [
    "Once we have the algorithm, we can test it."
   ]
  },
  {
   "cell_type": "code",
   "execution_count": 13,
   "metadata": {},
   "outputs": [],
   "source": [
    "previous_aminoacid = aminoacids[aminoacids.residue_name == 'THR']\n",
    "next_aminoacid = aminoacids[aminoacids.residue_name == 'THR']"
   ]
  },
  {
   "cell_type": "code",
   "execution_count": 14,
   "metadata": {
    "scrolled": false
   },
   "outputs": [],
   "source": [
    "g = GeneticAlgorithm(6, 10, previous_aminoacid, next_aminoacid)"
   ]
  },
  {
   "cell_type": "code",
   "execution_count": 34,
   "metadata": {
    "scrolled": false
   },
   "outputs": [
    {
     "name": "stdout",
     "output_type": "stream",
     "text": [
      "\n",
      "Optimal Solution:\n",
      "\n",
      "Tx: 3.28Å, Ty: 1.64Å, Tz: 0.04Å\n",
      "Ax: -0.13°, Ay: 4.98°, Az: 62.20°\n",
      "\n",
      "Optimized Metrics:\n",
      "\n",
      "Distance C-N: 1.339 (1.33)\n",
      "Omega Dihedral Angle: 177.06 (180.00)\n",
      "Angle O-C-N: 122.11 (123.50)\n",
      "Angle Calpha-C-N: 115.88 (116.00)\n",
      "Angle C-N-Calpha: 122.47 (122.00)\n",
      "\n"
     ]
    },
    {
     "data": {
      "image/png": "[encoded data removed]",
      "text/plain": [
       "<Figure size 1584x360 with 6 Axes>"
      ]
     },
     "metadata": {
      "needs_background": "light"
     },
     "output_type": "display_data"
    }
   ],
   "source": [
    "translation, rotation = g.optimize(1200)"
   ]
  },
  {
   "cell_type": "markdown",
   "metadata": {},
   "source": [
    "The values converged to values around the desired values given by the constraints. However, we can see that they do not converge to the exact value because the desired values are only approximations of the real values that can be achieved.\n",
    "\n",
    "We are ok with that and consider the Genetic Algorithm ready to be used."
   ]
  },
  {
   "cell_type": "markdown",
   "metadata": {},
   "source": [
    "### Generate Tertiary Structure"
   ]
  },
  {
   "cell_type": "markdown",
   "metadata": {},
   "source": [
    "Once we have a way to calculate the translation and rotation of the next aminoacid in the chain given the previous one, we can implement the routine to generate the tertiary structure of a protein given the primary structure. \n",
    "\n",
    "In that routine, we add an amino acid to the chain translating and rotating it based on the values calculated by the genetic algorithm. The values can be calculated for a *trans* peptide bond or a *cis* peptide bond (I considered *cis* for Proline and *trans* for everyone else). Before we add the amino acid to the structure, we also remove the carbonyl OH and the amino H. "
   ]
  },
  {
   "cell_type": "code",
   "execution_count": 18,
   "metadata": {},
   "outputs": [],
   "source": [
    "# I'm gonna use only part of the whole molecule because it takes a lot of time\n",
    "# to predict the translation and rotation of the next aminoacid\n",
    "# primary_structure = 'TTCCPSIVARSNFNVCRLPGTPEAICATYTGCIIIPGATCPGDYAN'\n",
    "primary_structure = 'TTCCPS'"
   ]
  },
  {
   "cell_type": "code",
   "execution_count": 19,
   "metadata": {},
   "outputs": [],
   "source": [
    "def remove_H2O(aminoacid):\n",
    "    return aminoacid[~aminoacid.atom_name.isin(['OC', 'HC', '1H'])]\n",
    "\n",
    "def _infer_tertiary_structure(primary_structure, aminoacids_df):\n",
    "    protein = pd.DataFrame(data=None, columns=['atom_name', 'residue_name', 'residue_seq_number', 'x', 'y', 'z'])    \n",
    "    previous_aminoacid = None\n",
    "    \n",
    "    for i, r in enumerate(primary_structure):\n",
    "        print('Adding amino acid %s...' % symbol_to_residue_name[r])\n",
    "        aminoacid = aminoacids_df[aminoacids_df.residue_name == symbol_to_residue_name[r]].copy()\n",
    "              \n",
    "        if previous_aminoacid is not None:\n",
    "            time.sleep(2)\n",
    "            peptide_group = 'cis' if r == 'P' else 'trans'\n",
    "            ga = GeneticAlgorithm(dim_populaton=6, n_population=10,\n",
    "                                  previous_aminoacid=previous_aminoacid, next_aminoacid=aminoacid,\n",
    "                                  peptide_group=peptide_group)\n",
    "            translation, rotation = ga.optimize(max_iteration=1200)\n",
    "            aminoacid = translate(aminoacid, translation)\n",
    "            aminoacid = rotate(aminoacid, rotation[0], rotation[1], rotation[2])\n",
    "        else:\n",
    "            print('This is the first amino acid.')\n",
    "        \n",
    "        aminoacid['residue_seq_number'] = str(i)\n",
    "        \n",
    "        previous_aminoacid = aminoacid\n",
    "        \n",
    "        aminoacid = remove_H2O(aminoacid)\n",
    "        protein = protein.append(aminoacid, sort=True, ignore_index=True)\n",
    "        print('Amino acid %s added.\\n' % symbol_to_residue_name[r])\n",
    "\n",
    "    return protein"
   ]
  },
  {
   "cell_type": "code",
   "execution_count": 35,
   "metadata": {
    "scrolled": false
   },
   "outputs": [
    {
     "name": "stdout",
     "output_type": "stream",
     "text": [
      "Adding amino acid THR...\n",
      "This is the first amino acid.\n",
      "Amino acid THR added.\n",
      "\n",
      "Adding amino acid THR...\n",
      "\n",
      "Optimal Solution:\n",
      "\n",
      "Tx: 3.28Å, Ty: 1.62Å, Tz: 0.10Å\n",
      "Ax: 20.27°, Ay: 34.00°, Az: 55.68°\n",
      "\n",
      "Optimized Metrics:\n",
      "\n",
      "Distance C-N: 1.335 (1.33)\n",
      "Omega Dihedral Angle: 179.87 (180.00)\n",
      "Angle O-C-N: 122.84 (123.50)\n",
      "Angle Calpha-C-N: 115.01 (116.00)\n",
      "Angle C-N-Calpha: 122.32 (122.00)\n",
      "\n"
     ]
    },
    {
     "data": {
      "image/png": "[encoded data removed]",
      "text/plain": [
       "<Figure size 1584x360 with 6 Axes>"
      ]
     },
     "metadata": {
      "needs_background": "light"
     },
     "output_type": "display_data"
    },
    {
     "name": "stdout",
     "output_type": "stream",
     "text": [
      "Amino acid THR added.\n",
      "\n",
      "Adding amino acid CYS...\n",
      "\n",
      "Optimal Solution:\n",
      "\n",
      "Tx: 3.67Å, Ty: 5.17Å, Tz: 1.09Å\n",
      "Ax: 27.55°, Ay: 18.13°, Az: 111.13°\n",
      "\n",
      "Optimized Metrics:\n",
      "\n",
      "Distance C-N: 1.325 (1.33)\n",
      "Omega Dihedral Angle: 178.30 (180.00)\n",
      "Angle O-C-N: 122.21 (123.50)\n",
      "Angle Calpha-C-N: 115.81 (116.00)\n",
      "Angle C-N-Calpha: 123.78 (122.00)\n",
      "\n"
     ]
    },
    {
     "data": {
      "image/png": "[encoded data removed]",
      "text/plain": [
       "<Figure size 1584x360 with 6 Axes>"
      ]
     },
     "metadata": {
      "needs_background": "light"
     },
     "output_type": "display_data"
    },
    {
     "name": "stdout",
     "output_type": "stream",
     "text": [
      "Amino acid CYS added.\n",
      "\n",
      "Adding amino acid CYS...\n",
      "\n",
      "Optimal Solution:\n",
      "\n",
      "Tx: 0.92Å, Ty: 6.92Å, Tz: 2.74Å\n",
      "Ax: 19.86°, Ay: 198.70°, Az: -6.47°\n",
      "\n",
      "Optimized Metrics:\n",
      "\n",
      "Distance C-N: 1.331 (1.33)\n",
      "Omega Dihedral Angle: 178.04 (180.00)\n",
      "Angle O-C-N: 121.07 (123.50)\n",
      "Angle Calpha-C-N: 115.82 (116.00)\n",
      "Angle C-N-Calpha: 120.71 (122.00)\n",
      "\n"
     ]
    },
    {
     "data": {
      "image/png": "[encoded data removed]",
      "text/plain": [
       "<Figure size 1584x360 with 6 Axes>"
      ]
     },
     "metadata": {
      "needs_background": "light"
     },
     "output_type": "display_data"
    },
    {
     "name": "stdout",
     "output_type": "stream",
     "text": [
      "Amino acid CYS added.\n",
      "\n",
      "Adding amino acid PRO...\n",
      "\n",
      "Optimal Solution:\n",
      "\n",
      "Tx: -2.21Å, Ty: 7.01Å, Tz: 4.25Å\n",
      "Ax: -34.13°, Ay: -128.93°, Az: 25.51°\n",
      "\n",
      "Optimized Metrics:\n",
      "\n",
      "Distance C-N: 1.317 (1.32)\n",
      "Omega Dihedral Angle: 180.00 (180.00)\n",
      "Angle O-C-N: 121.16 (123.00)\n",
      "Angle Calpha-C-N: 116.27 (118.00)\n",
      "Angle C-N-Calpha: 126.22 (126.00)\n",
      "\n"
     ]
    },
    {
     "data": {
      "image/png": "[encoded data removed]",
      "text/plain": [
       "<Figure size 1584x360 with 6 Axes>"
      ]
     },
     "metadata": {
      "needs_background": "light"
     },
     "output_type": "display_data"
    },
    {
     "name": "stdout",
     "output_type": "stream",
     "text": [
      "Amino acid PRO added.\n",
      "\n",
      "Adding amino acid SER...\n",
      "\n",
      "Optimal Solution:\n",
      "\n",
      "Tx: -3.08Å, Ty: 11.26Å, Tz: 5.20Å\n",
      "Ax: 30.67°, Ay: 62.47°, Az: 52.67°\n",
      "\n",
      "Optimized Metrics:\n",
      "\n",
      "Distance C-N: 1.333 (1.33)\n",
      "Omega Dihedral Angle: 178.62 (180.00)\n",
      "Angle O-C-N: 122.59 (123.50)\n",
      "Angle Calpha-C-N: 114.87 (116.00)\n",
      "Angle C-N-Calpha: 124.81 (122.00)\n",
      "\n"
     ]
    },
    {
     "data": {
      "image/png": "[encoded data removed]",
      "text/plain": [
       "<Figure size 1584x360 with 6 Axes>"
      ]
     },
     "metadata": {
      "needs_background": "light"
     },
     "output_type": "display_data"
    },
    {
     "name": "stdout",
     "output_type": "stream",
     "text": [
      "Amino acid SER added.\n",
      "\n"
     ]
    }
   ],
   "source": [
    "protein = _infer_tertiary_structure(primary_structure, aminoacids)"
   ]
  },
  {
   "cell_type": "markdown",
   "metadata": {},
   "source": [
    "We finally have the tertiary structure of the protein."
   ]
  },
  {
   "cell_type": "code",
   "execution_count": 21,
   "metadata": {
    "scrolled": false
   },
   "outputs": [
    {
     "data": {
      "text/html": [
       "<div>\n",
       "<style scoped>\n",
       "    .dataframe tbody tr th:only-of-type {\n",
       "        vertical-align: middle;\n",
       "    }\n",
       "\n",
       "    .dataframe tbody tr th {\n",
       "        vertical-align: top;\n",
       "    }\n",
       "\n",
       "    .dataframe thead th {\n",
       "        text-align: right;\n",
       "    }\n",
       "</style>\n",
       "<table border=\"1\" class=\"dataframe\">\n",
       "  <thead>\n",
       "    <tr style=\"text-align: right;\">\n",
       "      <th></th>\n",
       "      <th>atom_name</th>\n",
       "      <th>residue_name</th>\n",
       "      <th>residue_seq_number</th>\n",
       "      <th>x</th>\n",
       "      <th>y</th>\n",
       "      <th>z</th>\n",
       "    </tr>\n",
       "  </thead>\n",
       "  <tbody>\n",
       "    <tr>\n",
       "      <th>0</th>\n",
       "      <td>N</td>\n",
       "      <td>THR</td>\n",
       "      <td>0</td>\n",
       "      <td>0.080000</td>\n",
       "      <td>-0.083000</td>\n",
       "      <td>0.000000</td>\n",
       "    </tr>\n",
       "    <tr>\n",
       "      <th>1</th>\n",
       "      <td>CA</td>\n",
       "      <td>THR</td>\n",
       "      <td>0</td>\n",
       "      <td>1.539000</td>\n",
       "      <td>-0.033000</td>\n",
       "      <td>0.000000</td>\n",
       "    </tr>\n",
       "    <tr>\n",
       "      <th>2</th>\n",
       "      <td>C</td>\n",
       "      <td>THR</td>\n",
       "      <td>0</td>\n",
       "      <td>2.032000</td>\n",
       "      <td>1.394000</td>\n",
       "      <td>0.000000</td>\n",
       "    </tr>\n",
       "    <tr>\n",
       "      <th>3</th>\n",
       "      <td>O</td>\n",
       "      <td>THR</td>\n",
       "      <td>0</td>\n",
       "      <td>1.268000</td>\n",
       "      <td>2.339000</td>\n",
       "      <td>0.000000</td>\n",
       "    </tr>\n",
       "    <tr>\n",
       "      <th>4</th>\n",
       "      <td>CB</td>\n",
       "      <td>THR</td>\n",
       "      <td>0</td>\n",
       "      <td>2.116000</td>\n",
       "      <td>-0.818000</td>\n",
       "      <td>-1.226000</td>\n",
       "    </tr>\n",
       "    <tr>\n",
       "      <th>5</th>\n",
       "      <td>OG1</td>\n",
       "      <td>THR</td>\n",
       "      <td>0</td>\n",
       "      <td>1.743000</td>\n",
       "      <td>-2.188000</td>\n",
       "      <td>-1.162000</td>\n",
       "    </tr>\n",
       "    <tr>\n",
       "      <th>6</th>\n",
       "      <td>CG2</td>\n",
       "      <td>THR</td>\n",
       "      <td>0</td>\n",
       "      <td>3.654000</td>\n",
       "      <td>-0.842000</td>\n",
       "      <td>-1.361000</td>\n",
       "    </tr>\n",
       "    <tr>\n",
       "      <th>7</th>\n",
       "      <td>2H</td>\n",
       "      <td>THR</td>\n",
       "      <td>0</td>\n",
       "      <td>-0.461000</td>\n",
       "      <td>-1.018000</td>\n",
       "      <td>0.000000</td>\n",
       "    </tr>\n",
       "    <tr>\n",
       "      <th>8</th>\n",
       "      <td>HA</td>\n",
       "      <td>THR</td>\n",
       "      <td>0</td>\n",
       "      <td>1.904000</td>\n",
       "      <td>-0.508000</td>\n",
       "      <td>0.929000</td>\n",
       "    </tr>\n",
       "    <tr>\n",
       "      <th>9</th>\n",
       "      <td>HB</td>\n",
       "      <td>THR</td>\n",
       "      <td>0</td>\n",
       "      <td>1.691000</td>\n",
       "      <td>-0.378000</td>\n",
       "      <td>-2.154000</td>\n",
       "    </tr>\n",
       "    <tr>\n",
       "      <th>10</th>\n",
       "      <td>HG1</td>\n",
       "      <td>THR</td>\n",
       "      <td>0</td>\n",
       "      <td>2.066000</td>\n",
       "      <td>-2.592000</td>\n",
       "      <td>-1.973000</td>\n",
       "    </tr>\n",
       "    <tr>\n",
       "      <th>11</th>\n",
       "      <td>1HG2</td>\n",
       "      <td>THR</td>\n",
       "      <td>0</td>\n",
       "      <td>3.986000</td>\n",
       "      <td>-1.433000</td>\n",
       "      <td>-2.235000</td>\n",
       "    </tr>\n",
       "    <tr>\n",
       "      <th>12</th>\n",
       "      <td>2HG2</td>\n",
       "      <td>THR</td>\n",
       "      <td>0</td>\n",
       "      <td>4.083000</td>\n",
       "      <td>0.168000</td>\n",
       "      <td>-1.502000</td>\n",
       "    </tr>\n",
       "    <tr>\n",
       "      <th>13</th>\n",
       "      <td>3HG2</td>\n",
       "      <td>THR</td>\n",
       "      <td>0</td>\n",
       "      <td>4.138000</td>\n",
       "      <td>-1.279000</td>\n",
       "      <td>-0.467000</td>\n",
       "    </tr>\n",
       "    <tr>\n",
       "      <th>14</th>\n",
       "      <td>N</td>\n",
       "      <td>THR</td>\n",
       "      <td>1</td>\n",
       "      <td>3.342825</td>\n",
       "      <td>1.548961</td>\n",
       "      <td>-0.154146</td>\n",
       "    </tr>\n",
       "    <tr>\n",
       "      <th>15</th>\n",
       "      <td>CA</td>\n",
       "      <td>THR</td>\n",
       "      <td>1</td>\n",
       "      <td>4.031948</td>\n",
       "      <td>2.835804</td>\n",
       "      <td>-0.136099</td>\n",
       "    </tr>\n",
       "    <tr>\n",
       "      <th>16</th>\n",
       "      <td>C</td>\n",
       "      <td>THR</td>\n",
       "      <td>1</td>\n",
       "      <td>3.045448</td>\n",
       "      <td>3.978641</td>\n",
       "      <td>-0.146981</td>\n",
       "    </tr>\n",
       "    <tr>\n",
       "      <th>17</th>\n",
       "      <td>O</td>\n",
       "      <td>THR</td>\n",
       "      <td>1</td>\n",
       "      <td>1.844784</td>\n",
       "      <td>3.792419</td>\n",
       "      <td>-0.168126</td>\n",
       "    </tr>\n",
       "    <tr>\n",
       "      <th>18</th>\n",
       "      <td>CB</td>\n",
       "      <td>THR</td>\n",
       "      <td>1</td>\n",
       "      <td>5.021025</td>\n",
       "      <td>2.946785</td>\n",
       "      <td>-1.345081</td>\n",
       "    </tr>\n",
       "    <tr>\n",
       "      <th>19</th>\n",
       "      <td>OG1</td>\n",
       "      <td>THR</td>\n",
       "      <td>1</td>\n",
       "      <td>6.017393</td>\n",
       "      <td>1.936022</td>\n",
       "      <td>-1.269362</td>\n",
       "    </tr>\n",
       "  </tbody>\n",
       "</table>\n",
       "</div>"
      ],
      "text/plain": [
       "   atom_name residue_name residue_seq_number         x         y         z\n",
       "0          N          THR                  0  0.080000 -0.083000  0.000000\n",
       "1         CA          THR                  0  1.539000 -0.033000  0.000000\n",
       "2          C          THR                  0  2.032000  1.394000  0.000000\n",
       "3          O          THR                  0  1.268000  2.339000  0.000000\n",
       "4         CB          THR                  0  2.116000 -0.818000 -1.226000\n",
       "5        OG1          THR                  0  1.743000 -2.188000 -1.162000\n",
       "6        CG2          THR                  0  3.654000 -0.842000 -1.361000\n",
       "7         2H          THR                  0 -0.461000 -1.018000  0.000000\n",
       "8         HA          THR                  0  1.904000 -0.508000  0.929000\n",
       "9         HB          THR                  0  1.691000 -0.378000 -2.154000\n",
       "10       HG1          THR                  0  2.066000 -2.592000 -1.973000\n",
       "11      1HG2          THR                  0  3.986000 -1.433000 -2.235000\n",
       "12      2HG2          THR                  0  4.083000  0.168000 -1.502000\n",
       "13      3HG2          THR                  0  4.138000 -1.279000 -0.467000\n",
       "14         N          THR                  1  3.342825  1.548961 -0.154146\n",
       "15        CA          THR                  1  4.031948  2.835804 -0.136099\n",
       "16         C          THR                  1  3.045448  3.978641 -0.146981\n",
       "17         O          THR                  1  1.844784  3.792419 -0.168126\n",
       "18        CB          THR                  1  5.021025  2.946785 -1.345081\n",
       "19       OG1          THR                  1  6.017393  1.936022 -1.269362"
      ]
     },
     "execution_count": 21,
     "metadata": {},
     "output_type": "execute_result"
    }
   ],
   "source": [
    "protein.head(20)"
   ]
  },
  {
   "cell_type": "markdown",
   "metadata": {},
   "source": [
    "# Q2) PHI and PSI angles"
   ]
  },
  {
   "cell_type": "markdown",
   "metadata": {},
   "source": [
    "**Reference Plane:** The reference plane for both phi and psi contains three atoms: the nitrogen in the amino group, the alpha carbon, and the carbon in the carboxyl group.\n",
    "\n",
    "**Phi:** The plane for phi contains the carboxyl carbon from the previous segment, plus the amino nitrogen and the alpha carbon from the segment in question. Phi is the angle between this plane and the reference plane.\n",
    "\n",
    "<h5><center>Phi atoms: C(i-1)-N(i)-Calpha(i)-C(i)</center></h5>\n",
    "\n",
    "**Psi:** The plane for psi contains the amino nitrogen from the next segment, plus carboxyl carbon and the alpha carbon from the segment in question. Psi is the angle between this plane and the reference plane.\n",
    "\n",
    "<h5><center>Psi atoms: N(i)-Calpha(i)-C(i)-N(i+1)</center></h5>\n",
    "\n",
    "Source: https://www.open.edu/openlearn/science-maths-technology/science/biology/proteins/content-section-1.2"
   ]
  },
  {
   "cell_type": "markdown",
   "metadata": {},
   "source": [
    "In order to calculate Phi and Psi of each amino acid, we implement a routine that calculates the dihedral angle using 4 atoms as described above."
   ]
  },
  {
   "cell_type": "code",
   "execution_count": 22,
   "metadata": {},
   "outputs": [],
   "source": [
    "def _infer_phi(c_previous, n_current, c_alpha_current, c_current):\n",
    "    return calculate_dihedral_angle(c_previous, n_current, c_alpha_current, c_current)\n",
    "\n",
    "\n",
    "def _infer_psi(n_current, c_alpha_current, c_current, n_next):\n",
    "    return calculate_dihedral_angle(n_current, c_alpha_current, c_current, n_next)\n",
    "\n",
    "\n",
    "def infer_phi_psi(protein):\n",
    "    phi_psi = pd.DataFrame(data=None, columns=['amino', 'phi', 'psi'])    \n",
    "    previous_aminoacid = None\n",
    "    \n",
    "    for i in protein.residue_seq_number.unique():\n",
    "        current_aminoacid = protein[protein.residue_seq_number == str(i)].copy()\n",
    "        next_aminoacid = protein[protein.residue_seq_number == str(int(i)+1)].copy() \n",
    "        next_aminoacid = next_aminoacid if not next_aminoacid.empty else None\n",
    "        \n",
    "        c_previous = previous_aminoacid[previous_aminoacid.atom_name == 'C'][['x', 'y', 'z']].values.reshape(-1)\\\n",
    "                     if previous_aminoacid is not None else None\n",
    "        n_current = current_aminoacid[current_aminoacid.atom_name == 'N'][['x', 'y', 'z']].values.reshape(-1)\n",
    "        c_alpha_current = current_aminoacid[current_aminoacid.atom_name == 'CA'][['x', 'y', 'z']].values.reshape(-1)\n",
    "        c_current = current_aminoacid[current_aminoacid.atom_name == 'C'][['x', 'y', 'z']].values.reshape(-1)\n",
    "        n_next = next_aminoacid[next_aminoacid.atom_name == 'N'][['x', 'y', 'z']].values.reshape(-1)\\\n",
    "                 if next_aminoacid is not None else None\n",
    "\n",
    "        \n",
    "        phi = _infer_phi(c_previous, n_current, c_alpha_current, c_current) if previous_aminoacid is not None else None\n",
    "        psi = _infer_psi(n_current, c_alpha_current, c_current, n_next) if next_aminoacid is not None else None\n",
    "        \n",
    "        previous_aminoacid = current_aminoacid\n",
    "        \n",
    "        new_phi_psi = pd.DataFrame(data={'amino': [current_aminoacid.residue_name.iloc[0]], \n",
    "                                         'phi': [phi], \n",
    "                                         'psi': [psi]})  \n",
    "        phi_psi = phi_psi.append(new_phi_psi, sort=True, ignore_index=True)\n",
    "\n",
    "    return phi_psi"
   ]
  },
  {
   "cell_type": "markdown",
   "metadata": {},
   "source": [
    "Then we run the routine in the 3D protein assembled above."
   ]
  },
  {
   "cell_type": "code",
   "execution_count": 23,
   "metadata": {},
   "outputs": [],
   "source": [
    "phi_psi = infer_phi_psi(protein)"
   ]
  },
  {
   "cell_type": "code",
   "execution_count": 25,
   "metadata": {},
   "outputs": [
    {
     "data": {
      "text/html": [
       "<div>\n",
       "<style scoped>\n",
       "    .dataframe tbody tr th:only-of-type {\n",
       "        vertical-align: middle;\n",
       "    }\n",
       "\n",
       "    .dataframe tbody tr th {\n",
       "        vertical-align: top;\n",
       "    }\n",
       "\n",
       "    .dataframe thead th {\n",
       "        text-align: right;\n",
       "    }\n",
       "</style>\n",
       "<table border=\"1\" class=\"dataframe\">\n",
       "  <thead>\n",
       "    <tr style=\"text-align: right;\">\n",
       "      <th></th>\n",
       "      <th>amino</th>\n",
       "      <th>phi</th>\n",
       "      <th>psi</th>\n",
       "    </tr>\n",
       "  </thead>\n",
       "  <tbody>\n",
       "    <tr>\n",
       "      <th>0</th>\n",
       "      <td>THR</td>\n",
       "      <td>NaN</td>\n",
       "      <td>-172.609</td>\n",
       "    </tr>\n",
       "    <tr>\n",
       "      <th>1</th>\n",
       "      <td>THR</td>\n",
       "      <td>-9.303012</td>\n",
       "      <td>177.361</td>\n",
       "    </tr>\n",
       "    <tr>\n",
       "      <th>2</th>\n",
       "      <td>CYS</td>\n",
       "      <td>-101.401693</td>\n",
       "      <td>-178.849</td>\n",
       "    </tr>\n",
       "    <tr>\n",
       "      <th>3</th>\n",
       "      <td>CYS</td>\n",
       "      <td>-145.016028</td>\n",
       "      <td>176.289</td>\n",
       "    </tr>\n",
       "    <tr>\n",
       "      <th>4</th>\n",
       "      <td>PRO</td>\n",
       "      <td>-55.606046</td>\n",
       "      <td>77.0439</td>\n",
       "    </tr>\n",
       "    <tr>\n",
       "      <th>5</th>\n",
       "      <td>SER</td>\n",
       "      <td>-64.986726</td>\n",
       "      <td>None</td>\n",
       "    </tr>\n",
       "  </tbody>\n",
       "</table>\n",
       "</div>"
      ],
      "text/plain": [
       "  amino         phi      psi\n",
       "0   THR         NaN -172.609\n",
       "1   THR   -9.303012  177.361\n",
       "2   CYS -101.401693 -178.849\n",
       "3   CYS -145.016028  176.289\n",
       "4   PRO  -55.606046  77.0439\n",
       "5   SER  -64.986726     None"
      ]
     },
     "execution_count": 25,
     "metadata": {},
     "output_type": "execute_result"
    }
   ],
   "source": [
    "phi_psi.head(20)"
   ]
  },
  {
   "cell_type": "markdown",
   "metadata": {},
   "source": [
    "# Q3) Ramachandran Plot"
   ]
  },
  {
   "cell_type": "markdown",
   "metadata": {},
   "source": [
    "The Ramachandran Plot is a way to visualize dihedral angles ψ against φ of amino acid residues in protein structure.\n",
    "\n",
    "We run the Phi and Psi calculation algorithm in the 1CRDN protein of PDB."
   ]
  },
  {
   "cell_type": "code",
   "execution_count": 26,
   "metadata": {},
   "outputs": [],
   "source": [
    "ramachandran = infer_phi_psi(molecule)"
   ]
  },
  {
   "cell_type": "code",
   "execution_count": 27,
   "metadata": {},
   "outputs": [
    {
     "data": {
      "text/html": [
       "<div>\n",
       "<style scoped>\n",
       "    .dataframe tbody tr th:only-of-type {\n",
       "        vertical-align: middle;\n",
       "    }\n",
       "\n",
       "    .dataframe tbody tr th {\n",
       "        vertical-align: top;\n",
       "    }\n",
       "\n",
       "    .dataframe thead th {\n",
       "        text-align: right;\n",
       "    }\n",
       "</style>\n",
       "<table border=\"1\" class=\"dataframe\">\n",
       "  <thead>\n",
       "    <tr style=\"text-align: right;\">\n",
       "      <th></th>\n",
       "      <th>amino</th>\n",
       "      <th>phi</th>\n",
       "      <th>psi</th>\n",
       "    </tr>\n",
       "  </thead>\n",
       "  <tbody>\n",
       "    <tr>\n",
       "      <th>0</th>\n",
       "      <td>THR</td>\n",
       "      <td>NaN</td>\n",
       "      <td>147.66</td>\n",
       "    </tr>\n",
       "    <tr>\n",
       "      <th>1</th>\n",
       "      <td>THR</td>\n",
       "      <td>-107.832573</td>\n",
       "      <td>144.346</td>\n",
       "    </tr>\n",
       "    <tr>\n",
       "      <th>2</th>\n",
       "      <td>CYS</td>\n",
       "      <td>-131.170389</td>\n",
       "      <td>133.291</td>\n",
       "    </tr>\n",
       "    <tr>\n",
       "      <th>3</th>\n",
       "      <td>CYS</td>\n",
       "      <td>-118.896523</td>\n",
       "      <td>151.203</td>\n",
       "    </tr>\n",
       "    <tr>\n",
       "      <th>4</th>\n",
       "      <td>PRO</td>\n",
       "      <td>-76.181506</td>\n",
       "      <td>-18.9794</td>\n",
       "    </tr>\n",
       "  </tbody>\n",
       "</table>\n",
       "</div>"
      ],
      "text/plain": [
       "  amino         phi      psi\n",
       "0   THR         NaN   147.66\n",
       "1   THR -107.832573  144.346\n",
       "2   CYS -131.170389  133.291\n",
       "3   CYS -118.896523  151.203\n",
       "4   PRO  -76.181506 -18.9794"
      ]
     },
     "execution_count": 27,
     "metadata": {},
     "output_type": "execute_result"
    }
   ],
   "source": [
    "ramachandran.head()"
   ]
  },
  {
   "cell_type": "code",
   "execution_count": 37,
   "metadata": {},
   "outputs": [
    {
     "data": {
      "image/png": "[encoded data removed]",
      "text/plain": [
       "<Figure size 576x576 with 1 Axes>"
      ]
     },
     "metadata": {
      "needs_background": "light"
     },
     "output_type": "display_data"
    }
   ],
   "source": [
    "plt.figure(figsize=(8,8))\n",
    "plt.title('Ramachandran Plot for 1CRN.')\n",
    "plt.plot(ramachandran.phi, ramachandran.psi, '*')\n",
    "plt.plot(np.linspace(-180, 180, len(ramachandran.phi)), np.zeros(len(ramachandran.psi)), 'k')\n",
    "plt.plot(np.zeros(len(ramachandran.phi)), np.linspace(-180, 180, len(ramachandran.psi)), 'k')\n",
    "plt.xlabel('Phi')\n",
    "plt.ylabel('Psi')\n",
    "plt.grid()\n",
    "plt.axis([-180, 180, -180, 180])\n",
    "plt.show()"
   ]
  },
  {
   "cell_type": "markdown",
   "metadata": {},
   "source": [
    "# Q4) Tertiary to Secondary Structure"
   ]
  },
  {
   "cell_type": "markdown",
   "metadata": {},
   "source": [
    "First of all, let's take a look on the most populated regions in the Ramachandran Plot for Alpha Helix and Beta Sheets based on data from the Protein Data Bank.\n",
    "\n",
    "**Alpha Helix:** *'As many as 39% of all 237 384 amino acids were found here, in an area just 2% of the Ramachandran plot (-89° < Phi < -39°, -66° < Psi < -16°)'*\n",
    "\n",
    "**Beta Sheets:** *'The conformations of the amino acids in five of the six groups were surprisingly similar with respect to both the average and values (all within -130° < Phi < -105° and 128° < Psi < 147°) for the first five groups and the standard deviations (15±26°).'*\n",
    "\n",
    "Source: HOVMOLLER S1, ZHOU T, OHLSON T. *Conformations of amino acids in proteins. Acta Crystallogr D Biol Crystallogr.* \n",
    "2002 May;58(Pt 5):768-76. Epub 2002 Apr 26."
   ]
  },
  {
   "cell_type": "code",
   "execution_count": 29,
   "metadata": {},
   "outputs": [],
   "source": [
    "alpha_helix_phi_range = (-89, -39)\n",
    "alpha_helix_psi_range = (-66, -16)\n",
    "\n",
    "beta_sheet_phi_range = (-130, -105)\n",
    "beta_sheet_psi_range = (128, 147)"
   ]
  },
  {
   "cell_type": "markdown",
   "metadata": {},
   "source": [
    "After defining the most populated regions, we can just verify if Phi and Psi of the amino acid is inside the region. If it is inside the Alpha Helix region, we atribute a H to the amino acid and if it is inside the Beta Sheet region, we atribute an S to the amino acid."
   ]
  },
  {
   "cell_type": "code",
   "execution_count": 30,
   "metadata": {},
   "outputs": [],
   "source": [
    "def is_between(value, _range):\n",
    "    return _range[0] < value < _range[1]\n",
    "\n",
    "def is_alpha_helix(phi, psi):\n",
    "    is_helix_phi = is_between(phi, alpha_helix_phi_range)\n",
    "    is_helix_psi = is_between(psi, alpha_helix_psi_range)\n",
    "    return is_helix_phi and is_helix_phi\n",
    "\n",
    "def is_beta_sheet(phi, psi):\n",
    "    is_sheet_phi = is_between(phi, beta_sheet_phi_range)\n",
    "    is_sheet_psi = is_between(psi, beta_sheet_psi_range)\n",
    "    return is_sheet_phi and is_sheet_phi"
   ]
  },
  {
   "cell_type": "code",
   "execution_count": 31,
   "metadata": {},
   "outputs": [],
   "source": [
    "def infer_secondary_structure(phi_psi_df):\n",
    "    secondary_structure = ''\n",
    "    for i, row in phi_psi_df.iterrows():\n",
    "        phi, psi = row.phi, row.psi\n",
    "        \n",
    "        if phi is not None and psi is not None:\n",
    "            if is_alpha_helix(phi, psi):\n",
    "                secondary_structure += ('H')\n",
    "            elif is_beta_sheet(phi, psi):\n",
    "                secondary_structure += ('S')\n",
    "            else:\n",
    "                secondary_structure += ('-')\n",
    "        else:\n",
    "            secondary_structure += ('-')\n",
    "\n",
    "    return secondary_structure"
   ]
  },
  {
   "cell_type": "code",
   "execution_count": 32,
   "metadata": {},
   "outputs": [],
   "source": [
    "secondary_structure = infer_secondary_structure(ramachandran)"
   ]
  },
  {
   "cell_type": "code",
   "execution_count": 39,
   "metadata": {},
   "outputs": [
    {
     "name": "stdout",
     "output_type": "stream",
     "text": [
      "Primary Structure:\n",
      "TTCCPSIVARSNFNVCRLPGTPEAICATYTGCIIIPGATCPGDYAN\n",
      "\n",
      "Secondary Structure:\n",
      "-S-SH-HHHHHHHHHHHHH-HHHHHHHHHS-HSSSH-SSHHH--H-\n"
     ]
    }
   ],
   "source": [
    "print('Primary Structure:')\n",
    "print('TTCCPSIVARSNFNVCRLPGTPEAICATYTGCIIIPGATCPGDYAN\\n')\n",
    "print('Secondary Structure:')\n",
    "print(secondary_structure)"
   ]
  },
  {
   "cell_type": "markdown",
   "metadata": {},
   "source": [
    "Done!"
   ]
  }
 ],
 "metadata": {
  "kernelspec": {
   "display_name": "Python 3",
   "language": "python",
   "name": "python3"
  },
  "language_info": {
   "codemirror_mode": {
    "name": "ipython",
    "version": 3
   },
   "file_extension": ".py",
   "mimetype": "text/x-python",
   "name": "python",
   "nbconvert_exporter": "python",
   "pygments_lexer": "ipython3",
   "version": "3.6.5"
  },
  "toc": {
   "base_numbering": 1,
   "nav_menu": {},
   "number_sections": true,
   "sideBar": true,
   "skip_h1_title": false,
   "title_cell": "Table of Contents",
   "title_sidebar": "Contents",
   "toc_cell": false,
   "toc_position": {},
   "toc_section_display": true,
   "toc_window_display": false
  }
 },
 "nbformat": 4,
 "nbformat_minor": 2
}
