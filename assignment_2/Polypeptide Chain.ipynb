{
 "cells": [
  {
   "cell_type": "markdown",
   "metadata": {},
   "source": [
    "**CMP585 - Structural Bioinformatics**\n",
    "\n",
    "Cristian Lopes\n",
    "\n",
    "*Assignment 2*"
   ]
  },
  {
   "cell_type": "code",
   "execution_count": 1,
   "metadata": {},
   "outputs": [],
   "source": [
    "import pandas as pd\n",
    "import numpy as np\n",
    "import glob"
   ]
  },
  {
   "cell_type": "markdown",
   "metadata": {},
   "source": [
    "# Load Data"
   ]
  },
  {
   "cell_type": "code",
   "execution_count": 2,
   "metadata": {},
   "outputs": [],
   "source": [
    "def read_molecule(path):\n",
    "    atoms = []\n",
    "    with open(path, 'r') as f:\n",
    "        for line in f:\n",
    "            if line.startswith('ATOM'):\n",
    "                atoms.append({'atom_name': line[12:16].strip(), \n",
    "                             'residue_name': line[17:20].strip(),\n",
    "                             'residue_seq_number': line[22:26].strip(),\n",
    "                             'x': float(line[30:38].strip()), \n",
    "                             'y': float(line[38:46].strip()),\n",
    "                             'z': float(line[46:54].strip())})\n",
    "    return pd.DataFrame(atoms)"
   ]
  },
  {
   "cell_type": "code",
   "execution_count": 3,
   "metadata": {},
   "outputs": [],
   "source": [
    "molecule = read_molecule('./data/1crn.pdb')"
   ]
  },
  {
   "cell_type": "code",
   "execution_count": 4,
   "metadata": {},
   "outputs": [
    {
     "data": {
      "text/html": [
       "<div>\n",
       "<style scoped>\n",
       "    .dataframe tbody tr th:only-of-type {\n",
       "        vertical-align: middle;\n",
       "    }\n",
       "\n",
       "    .dataframe tbody tr th {\n",
       "        vertical-align: top;\n",
       "    }\n",
       "\n",
       "    .dataframe thead th {\n",
       "        text-align: right;\n",
       "    }\n",
       "</style>\n",
       "<table border=\"1\" class=\"dataframe\">\n",
       "  <thead>\n",
       "    <tr style=\"text-align: right;\">\n",
       "      <th></th>\n",
       "      <th>atom_name</th>\n",
       "      <th>residue_name</th>\n",
       "      <th>residue_seq_number</th>\n",
       "      <th>x</th>\n",
       "      <th>y</th>\n",
       "      <th>z</th>\n",
       "    </tr>\n",
       "  </thead>\n",
       "  <tbody>\n",
       "    <tr>\n",
       "      <th>0</th>\n",
       "      <td>N</td>\n",
       "      <td>THR</td>\n",
       "      <td>1</td>\n",
       "      <td>17.047</td>\n",
       "      <td>14.099</td>\n",
       "      <td>3.625</td>\n",
       "    </tr>\n",
       "    <tr>\n",
       "      <th>1</th>\n",
       "      <td>CA</td>\n",
       "      <td>THR</td>\n",
       "      <td>1</td>\n",
       "      <td>16.967</td>\n",
       "      <td>12.784</td>\n",
       "      <td>4.338</td>\n",
       "    </tr>\n",
       "    <tr>\n",
       "      <th>2</th>\n",
       "      <td>C</td>\n",
       "      <td>THR</td>\n",
       "      <td>1</td>\n",
       "      <td>15.685</td>\n",
       "      <td>12.755</td>\n",
       "      <td>5.133</td>\n",
       "    </tr>\n",
       "    <tr>\n",
       "      <th>3</th>\n",
       "      <td>O</td>\n",
       "      <td>THR</td>\n",
       "      <td>1</td>\n",
       "      <td>15.268</td>\n",
       "      <td>13.825</td>\n",
       "      <td>5.594</td>\n",
       "    </tr>\n",
       "    <tr>\n",
       "      <th>4</th>\n",
       "      <td>CB</td>\n",
       "      <td>THR</td>\n",
       "      <td>1</td>\n",
       "      <td>18.170</td>\n",
       "      <td>12.703</td>\n",
       "      <td>5.337</td>\n",
       "    </tr>\n",
       "    <tr>\n",
       "      <th>5</th>\n",
       "      <td>OG1</td>\n",
       "      <td>THR</td>\n",
       "      <td>1</td>\n",
       "      <td>19.334</td>\n",
       "      <td>12.829</td>\n",
       "      <td>4.463</td>\n",
       "    </tr>\n",
       "    <tr>\n",
       "      <th>6</th>\n",
       "      <td>CG2</td>\n",
       "      <td>THR</td>\n",
       "      <td>1</td>\n",
       "      <td>18.150</td>\n",
       "      <td>11.546</td>\n",
       "      <td>6.304</td>\n",
       "    </tr>\n",
       "    <tr>\n",
       "      <th>7</th>\n",
       "      <td>N</td>\n",
       "      <td>THR</td>\n",
       "      <td>2</td>\n",
       "      <td>15.115</td>\n",
       "      <td>11.555</td>\n",
       "      <td>5.265</td>\n",
       "    </tr>\n",
       "    <tr>\n",
       "      <th>8</th>\n",
       "      <td>CA</td>\n",
       "      <td>THR</td>\n",
       "      <td>2</td>\n",
       "      <td>13.856</td>\n",
       "      <td>11.469</td>\n",
       "      <td>6.066</td>\n",
       "    </tr>\n",
       "    <tr>\n",
       "      <th>9</th>\n",
       "      <td>C</td>\n",
       "      <td>THR</td>\n",
       "      <td>2</td>\n",
       "      <td>14.164</td>\n",
       "      <td>10.785</td>\n",
       "      <td>7.379</td>\n",
       "    </tr>\n",
       "    <tr>\n",
       "      <th>10</th>\n",
       "      <td>O</td>\n",
       "      <td>THR</td>\n",
       "      <td>2</td>\n",
       "      <td>14.993</td>\n",
       "      <td>9.862</td>\n",
       "      <td>7.443</td>\n",
       "    </tr>\n",
       "    <tr>\n",
       "      <th>11</th>\n",
       "      <td>CB</td>\n",
       "      <td>THR</td>\n",
       "      <td>2</td>\n",
       "      <td>12.732</td>\n",
       "      <td>10.711</td>\n",
       "      <td>5.261</td>\n",
       "    </tr>\n",
       "    <tr>\n",
       "      <th>12</th>\n",
       "      <td>OG1</td>\n",
       "      <td>THR</td>\n",
       "      <td>2</td>\n",
       "      <td>13.308</td>\n",
       "      <td>9.439</td>\n",
       "      <td>4.926</td>\n",
       "    </tr>\n",
       "    <tr>\n",
       "      <th>13</th>\n",
       "      <td>CG2</td>\n",
       "      <td>THR</td>\n",
       "      <td>2</td>\n",
       "      <td>12.484</td>\n",
       "      <td>11.442</td>\n",
       "      <td>3.895</td>\n",
       "    </tr>\n",
       "    <tr>\n",
       "      <th>14</th>\n",
       "      <td>N</td>\n",
       "      <td>CYS</td>\n",
       "      <td>3</td>\n",
       "      <td>13.488</td>\n",
       "      <td>11.241</td>\n",
       "      <td>8.417</td>\n",
       "    </tr>\n",
       "    <tr>\n",
       "      <th>15</th>\n",
       "      <td>CA</td>\n",
       "      <td>CYS</td>\n",
       "      <td>3</td>\n",
       "      <td>13.660</td>\n",
       "      <td>10.707</td>\n",
       "      <td>9.787</td>\n",
       "    </tr>\n",
       "    <tr>\n",
       "      <th>16</th>\n",
       "      <td>C</td>\n",
       "      <td>CYS</td>\n",
       "      <td>3</td>\n",
       "      <td>12.269</td>\n",
       "      <td>10.431</td>\n",
       "      <td>10.323</td>\n",
       "    </tr>\n",
       "    <tr>\n",
       "      <th>17</th>\n",
       "      <td>O</td>\n",
       "      <td>CYS</td>\n",
       "      <td>3</td>\n",
       "      <td>11.393</td>\n",
       "      <td>11.308</td>\n",
       "      <td>10.185</td>\n",
       "    </tr>\n",
       "    <tr>\n",
       "      <th>18</th>\n",
       "      <td>CB</td>\n",
       "      <td>CYS</td>\n",
       "      <td>3</td>\n",
       "      <td>14.368</td>\n",
       "      <td>11.748</td>\n",
       "      <td>10.691</td>\n",
       "    </tr>\n",
       "    <tr>\n",
       "      <th>19</th>\n",
       "      <td>SG</td>\n",
       "      <td>CYS</td>\n",
       "      <td>3</td>\n",
       "      <td>15.885</td>\n",
       "      <td>12.426</td>\n",
       "      <td>10.016</td>\n",
       "    </tr>\n",
       "  </tbody>\n",
       "</table>\n",
       "</div>"
      ],
      "text/plain": [
       "   atom_name residue_name residue_seq_number       x       y       z\n",
       "0          N          THR                  1  17.047  14.099   3.625\n",
       "1         CA          THR                  1  16.967  12.784   4.338\n",
       "2          C          THR                  1  15.685  12.755   5.133\n",
       "3          O          THR                  1  15.268  13.825   5.594\n",
       "4         CB          THR                  1  18.170  12.703   5.337\n",
       "5        OG1          THR                  1  19.334  12.829   4.463\n",
       "6        CG2          THR                  1  18.150  11.546   6.304\n",
       "7          N          THR                  2  15.115  11.555   5.265\n",
       "8         CA          THR                  2  13.856  11.469   6.066\n",
       "9          C          THR                  2  14.164  10.785   7.379\n",
       "10         O          THR                  2  14.993   9.862   7.443\n",
       "11        CB          THR                  2  12.732  10.711   5.261\n",
       "12       OG1          THR                  2  13.308   9.439   4.926\n",
       "13       CG2          THR                  2  12.484  11.442   3.895\n",
       "14         N          CYS                  3  13.488  11.241   8.417\n",
       "15        CA          CYS                  3  13.660  10.707   9.787\n",
       "16         C          CYS                  3  12.269  10.431  10.323\n",
       "17         O          CYS                  3  11.393  11.308  10.185\n",
       "18        CB          CYS                  3  14.368  11.748  10.691\n",
       "19        SG          CYS                  3  15.885  12.426  10.016"
      ]
     },
     "execution_count": 4,
     "metadata": {},
     "output_type": "execute_result"
    }
   ],
   "source": [
    "molecule.head(20)"
   ]
  },
  {
   "cell_type": "markdown",
   "metadata": {},
   "source": [
    "# Q1) Primary to Tertiary Structure"
   ]
  },
  {
   "cell_type": "markdown",
   "metadata": {},
   "source": [
    "## Symbol of each amino acid"
   ]
  },
  {
   "cell_type": "markdown",
   "metadata": {},
   "source": [
    "First of all, we define the symbol of each amino acid."
   ]
  },
  {
   "cell_type": "code",
   "execution_count": 5,
   "metadata": {},
   "outputs": [],
   "source": [
    "symbol_to_residue_name = {\n",
    "    'T': 'THR', 'C': 'CYS', 'P': 'PRO', 'S': 'SER', 'I': 'ILE',\n",
    "    'V': 'VAL', 'A': 'ALA', 'R': 'ARG', 'N': 'ASN', 'F': 'PHE',\n",
    "    'L': 'LEU', 'G': 'GLY', 'E': 'GLU', 'D': 'ASP', 'Y': 'TYR'\n",
    "}"
   ]
  },
  {
   "cell_type": "markdown",
   "metadata": {},
   "source": [
    "## Load Amino Acids "
   ]
  },
  {
   "cell_type": "markdown",
   "metadata": {},
   "source": [
    "Then, we load the amino acids from the Protein Data Bank."
   ]
  },
  {
   "cell_type": "code",
   "execution_count": 6,
   "metadata": {},
   "outputs": [],
   "source": [
    "AMINOACID_PATH = './data/amino_acids/'\n",
    "aminoacids = pd.DataFrame()\n",
    "\n",
    "for f in glob.glob(AMINOACID_PATH + \"*.pdb\"):\n",
    "    aminoacids = aminoacids.append(read_molecule(f))"
   ]
  },
  {
   "cell_type": "code",
   "execution_count": 7,
   "metadata": {},
   "outputs": [
    {
     "data": {
      "text/html": [
       "<div>\n",
       "<style scoped>\n",
       "    .dataframe tbody tr th:only-of-type {\n",
       "        vertical-align: middle;\n",
       "    }\n",
       "\n",
       "    .dataframe tbody tr th {\n",
       "        vertical-align: top;\n",
       "    }\n",
       "\n",
       "    .dataframe thead th {\n",
       "        text-align: right;\n",
       "    }\n",
       "</style>\n",
       "<table border=\"1\" class=\"dataframe\">\n",
       "  <thead>\n",
       "    <tr style=\"text-align: right;\">\n",
       "      <th></th>\n",
       "      <th>atom_name</th>\n",
       "      <th>residue_name</th>\n",
       "      <th>residue_seq_number</th>\n",
       "      <th>x</th>\n",
       "      <th>y</th>\n",
       "      <th>z</th>\n",
       "    </tr>\n",
       "  </thead>\n",
       "  <tbody>\n",
       "    <tr>\n",
       "      <th>0</th>\n",
       "      <td>N</td>\n",
       "      <td>ALA</td>\n",
       "      <td>1</td>\n",
       "      <td>0.039</td>\n",
       "      <td>-0.028</td>\n",
       "      <td>0.000</td>\n",
       "    </tr>\n",
       "    <tr>\n",
       "      <th>1</th>\n",
       "      <td>CA</td>\n",
       "      <td>ALA</td>\n",
       "      <td>1</td>\n",
       "      <td>1.499</td>\n",
       "      <td>-0.043</td>\n",
       "      <td>0.000</td>\n",
       "    </tr>\n",
       "    <tr>\n",
       "      <th>2</th>\n",
       "      <td>C</td>\n",
       "      <td>ALA</td>\n",
       "      <td>1</td>\n",
       "      <td>2.055</td>\n",
       "      <td>1.361</td>\n",
       "      <td>0.000</td>\n",
       "    </tr>\n",
       "    <tr>\n",
       "      <th>3</th>\n",
       "      <td>O</td>\n",
       "      <td>ALA</td>\n",
       "      <td>1</td>\n",
       "      <td>1.321</td>\n",
       "      <td>2.356</td>\n",
       "      <td>0.011</td>\n",
       "    </tr>\n",
       "    <tr>\n",
       "      <th>4</th>\n",
       "      <td>CB</td>\n",
       "      <td>ALA</td>\n",
       "      <td>1</td>\n",
       "      <td>1.956</td>\n",
       "      <td>-0.866</td>\n",
       "      <td>-1.217</td>\n",
       "    </tr>\n",
       "    <tr>\n",
       "      <th>5</th>\n",
       "      <td>1H</td>\n",
       "      <td>ALA</td>\n",
       "      <td>1</td>\n",
       "      <td>-0.524</td>\n",
       "      <td>0.894</td>\n",
       "      <td>0.000</td>\n",
       "    </tr>\n",
       "    <tr>\n",
       "      <th>6</th>\n",
       "      <td>2H</td>\n",
       "      <td>ALA</td>\n",
       "      <td>1</td>\n",
       "      <td>-0.543</td>\n",
       "      <td>-0.938</td>\n",
       "      <td>0.000</td>\n",
       "    </tr>\n",
       "    <tr>\n",
       "      <th>7</th>\n",
       "      <td>HA</td>\n",
       "      <td>ALA</td>\n",
       "      <td>1</td>\n",
       "      <td>1.847</td>\n",
       "      <td>-0.534</td>\n",
       "      <td>0.928</td>\n",
       "    </tr>\n",
       "    <tr>\n",
       "      <th>8</th>\n",
       "      <td>1HB</td>\n",
       "      <td>ALA</td>\n",
       "      <td>1</td>\n",
       "      <td>3.058</td>\n",
       "      <td>-0.939</td>\n",
       "      <td>-1.274</td>\n",
       "    </tr>\n",
       "    <tr>\n",
       "      <th>9</th>\n",
       "      <td>2HB</td>\n",
       "      <td>ALA</td>\n",
       "      <td>1</td>\n",
       "      <td>1.571</td>\n",
       "      <td>-1.903</td>\n",
       "      <td>-1.181</td>\n",
       "    </tr>\n",
       "    <tr>\n",
       "      <th>10</th>\n",
       "      <td>3HB</td>\n",
       "      <td>ALA</td>\n",
       "      <td>1</td>\n",
       "      <td>1.610</td>\n",
       "      <td>-0.425</td>\n",
       "      <td>-2.172</td>\n",
       "    </tr>\n",
       "    <tr>\n",
       "      <th>11</th>\n",
       "      <td>OC</td>\n",
       "      <td>ALA</td>\n",
       "      <td>1</td>\n",
       "      <td>3.481</td>\n",
       "      <td>1.470</td>\n",
       "      <td>0.000</td>\n",
       "    </tr>\n",
       "    <tr>\n",
       "      <th>12</th>\n",
       "      <td>HOC</td>\n",
       "      <td>ALA</td>\n",
       "      <td>1</td>\n",
       "      <td>3.898</td>\n",
       "      <td>0.528</td>\n",
       "      <td>0.000</td>\n",
       "    </tr>\n",
       "    <tr>\n",
       "      <th>0</th>\n",
       "      <td>N</td>\n",
       "      <td>ARG</td>\n",
       "      <td>1</td>\n",
       "      <td>0.735</td>\n",
       "      <td>2.219</td>\n",
       "      <td>1.389</td>\n",
       "    </tr>\n",
       "    <tr>\n",
       "      <th>1</th>\n",
       "      <td>CA</td>\n",
       "      <td>ARG</td>\n",
       "      <td>1</td>\n",
       "      <td>2.189</td>\n",
       "      <td>2.285</td>\n",
       "      <td>1.274</td>\n",
       "    </tr>\n",
       "    <tr>\n",
       "      <th>2</th>\n",
       "      <td>C</td>\n",
       "      <td>ARG</td>\n",
       "      <td>1</td>\n",
       "      <td>2.600</td>\n",
       "      <td>3.010</td>\n",
       "      <td>0.014</td>\n",
       "    </tr>\n",
       "    <tr>\n",
       "      <th>3</th>\n",
       "      <td>O</td>\n",
       "      <td>ARG</td>\n",
       "      <td>1</td>\n",
       "      <td>1.774</td>\n",
       "      <td>3.463</td>\n",
       "      <td>-0.774</td>\n",
       "    </tr>\n",
       "    <tr>\n",
       "      <th>4</th>\n",
       "      <td>CB</td>\n",
       "      <td>ARG</td>\n",
       "      <td>1</td>\n",
       "      <td>2.760</td>\n",
       "      <td>0.838</td>\n",
       "      <td>1.308</td>\n",
       "    </tr>\n",
       "    <tr>\n",
       "      <th>5</th>\n",
       "      <td>CG</td>\n",
       "      <td>ARG</td>\n",
       "      <td>1</td>\n",
       "      <td>4.302</td>\n",
       "      <td>0.731</td>\n",
       "      <td>1.473</td>\n",
       "    </tr>\n",
       "    <tr>\n",
       "      <th>6</th>\n",
       "      <td>CD</td>\n",
       "      <td>ARG</td>\n",
       "      <td>1</td>\n",
       "      <td>4.786</td>\n",
       "      <td>-0.729</td>\n",
       "      <td>1.460</td>\n",
       "    </tr>\n",
       "  </tbody>\n",
       "</table>\n",
       "</div>"
      ],
      "text/plain": [
       "   atom_name residue_name residue_seq_number      x      y      z\n",
       "0          N          ALA                  1  0.039 -0.028  0.000\n",
       "1         CA          ALA                  1  1.499 -0.043  0.000\n",
       "2          C          ALA                  1  2.055  1.361  0.000\n",
       "3          O          ALA                  1  1.321  2.356  0.011\n",
       "4         CB          ALA                  1  1.956 -0.866 -1.217\n",
       "5         1H          ALA                  1 -0.524  0.894  0.000\n",
       "6         2H          ALA                  1 -0.543 -0.938  0.000\n",
       "7         HA          ALA                  1  1.847 -0.534  0.928\n",
       "8        1HB          ALA                  1  3.058 -0.939 -1.274\n",
       "9        2HB          ALA                  1  1.571 -1.903 -1.181\n",
       "10       3HB          ALA                  1  1.610 -0.425 -2.172\n",
       "11        OC          ALA                  1  3.481  1.470  0.000\n",
       "12       HOC          ALA                  1  3.898  0.528  0.000\n",
       "0          N          ARG                  1  0.735  2.219  1.389\n",
       "1         CA          ARG                  1  2.189  2.285  1.274\n",
       "2          C          ARG                  1  2.600  3.010  0.014\n",
       "3          O          ARG                  1  1.774  3.463 -0.774\n",
       "4         CB          ARG                  1  2.760  0.838  1.308\n",
       "5         CG          ARG                  1  4.302  0.731  1.473\n",
       "6         CD          ARG                  1  4.786 -0.729  1.460"
      ]
     },
     "execution_count": 7,
     "metadata": {},
     "output_type": "execute_result"
    }
   ],
   "source": [
    "aminoacids.head(20)"
   ]
  },
  {
   "cell_type": "markdown",
   "metadata": {},
   "source": [
    "Right now, we have a dictionnary of amino acids containing the position of each atom inside the amino acid."
   ]
  },
  {
   "cell_type": "markdown",
   "metadata": {},
   "source": [
    "## Primary structure to tertiary structure"
   ]
  },
  {
   "cell_type": "markdown",
   "metadata": {},
   "source": [
    "### Translation and Rotation"
   ]
  },
  {
   "cell_type": "markdown",
   "metadata": {},
   "source": [
    "Next step is to replace each symbol of the primary structure by its corresponding residue. First, we define a translation and a rotation function to move and rotate the next amino acid given the position of the previous aminoacid."
   ]
  },
  {
   "cell_type": "code",
   "execution_count": 180,
   "metadata": {},
   "outputs": [],
   "source": [
    "def translate(aminoacid, translation):\n",
    "    aminoacid[['x', 'y', 'z']] = aminoacid[['x', 'y', 'z']] + translation.values.reshape(-1)\n",
    "    return aminoacid"
   ]
  },
  {
   "cell_type": "code",
   "execution_count": 182,
   "metadata": {},
   "outputs": [],
   "source": [
    "def translation_to_origin(aminoacid):\n",
    "    ref_atom = 'N'\n",
    "    ref_translation = aminoacid[aminoacid.atom_name == ref_atom][['x', 'y', 'z']]\n",
    "    return ref_translation, translate(aminoacid, -ref_translation)\n",
    "    \n",
    "\n",
    "def rotate(aminoacid, angle_x, angle_y, angle_z):  \n",
    "    Rx = [[1, 0, 0], [0, np.cos(angle_x), -np.sin(angle_x)], [0, np.sin(angle_x), np.cos(angle_x)]]\n",
    "    Ry = [[np.cos(angle_y), 0, np.sin(angle_y)], [0, 1, 0], [-np.sin(angle_y), 0, np.cos(angle_y)]]\n",
    "    Rz = [[np.cos(angle_z), -np.sin(angle_z), 0], [np.sin(angle_z), np.cos(angle_z), 0], [0, 0, 1]]\n",
    "    R = np.dot(np.dot(Rx, Ry), Rz)\n",
    "    \n",
    "    ref_translation, aminoacid = translation_to_origin(aminoacid)\n",
    "    aminoacid[['x', 'y', 'z']] = R.dot(aminoacid[['x', 'y', 'z']].values.T).T\n",
    "    aminoacid = translate(aminoacid, ref_translation)\n",
    "    \n",
    "    return aminoacid"
   ]
  },
  {
   "cell_type": "markdown",
   "metadata": {},
   "source": [
    "### Planar Peptide Bond Constraints"
   ]
  },
  {
   "cell_type": "markdown",
   "metadata": {},
   "source": [
    "Given the position of  O and C (Carboxyl) from the previous amino acid and the position of N from the next one, we can calculate the necessary translation and rotation in the next amino acid in order to form a planar peptide bond, that means, Omega equals to 180° (considering a distance of 1.33 ångström between C and N and an angle of 123,5° between O-C and C-N as shown in the figure below)."
   ]
  },
  {
   "cell_type": "markdown",
   "metadata": {},
   "source": [
    "<div style=\"text-align:center\"><img width=\"600px\" src=\"./images/planar_peptide_bond.png\"/></div>\n",
    "<br>\n",
    "<br>\n",
    "<div style=\"text-align:center\">Figure 1:  The average dimensions of the planar peptide group (in angstroms and degrees).</div>\n",
    "<div style=\"text-align:center\">**Source:** https://www.open.edu/openlearn/science-maths-technology/science/biology/proteins/content-section-1.2)</div>"
   ]
  },
  {
   "cell_type": "code",
   "execution_count": null,
   "metadata": {},
   "outputs": [],
   "source": [
    "def calculate_distance(p1, p2): # distance between Ci and Ni+1 should be 1.33 ångström\n",
    "    return np.sqrt(np.sum((p1-p2) ** 2))"
   ]
  },
  {
   "cell_type": "code",
   "execution_count": null,
   "metadata": {},
   "outputs": [],
   "source": [
    "def calculate_angle(p1, p2, p3): # angle between Oi-Ci and Ci-Ni+1 should be 123.5°\n",
    "    p1, p2, p3 = np.array(p1), np.array(p2), np.array(p3)\n",
    "    \n",
    "    p1_ref = p1 - p2\n",
    "    p3_ref = p3 - p2\n",
    "    \n",
    "    cosine_angle = np.dot(p1_ref, p3_ref) / (np.linalg.norm(p1_ref) * np.linalg.norm(p3_ref))\n",
    "    angle = np.arccos(cosine_angle)\n",
    "    return np.degrees(angle)"
   ]
  },
  {
   "cell_type": "code",
   "execution_count": null,
   "metadata": {},
   "outputs": [],
   "source": [
    "def calculate_dihedral_angle(p1, p2, p3, p4): # dihedral angle between Calphai-Ci-Ni+1 and Ci-Ni+1-Calphai+1 should be 180°\n",
    "    p1, p2, p3, p4 = np.array(p1), np.array(p2), np.array(p3), np.array(p4)\n",
    "    \n",
    "    b1 = -1.0 * (p2 - p1)\n",
    "    b2 = p3 - p2\n",
    "    b3 = p4 - p3\n",
    "    \n",
    "    # normalize b2\n",
    "    b2 /= np.linalg.norm(b2)\n",
    "    \n",
    "    # projections of b1 and b3 onto plane perpendicular to b2\n",
    "    v = b1 - np.dot(b1, b2) * b2\n",
    "    w = b3 - np.dot(b3, b2) * b2\n",
    "    \n",
    "    # angle between v and w is the torsion angle\n",
    "    x = np.dot(v, w)\n",
    "    y = np.dot(np.cross(b2, v), w)\n",
    "    return np.degrees(np.arctan2(y, x))"
   ]
  },
  {
   "cell_type": "markdown",
   "metadata": {},
   "source": [
    "### Calculate Next Amino Acid Translation and Rotation"
   ]
  },
  {
   "cell_type": "markdown",
   "metadata": {},
   "source": [
    "Based on the constraints, we can calculate the translation and rotation of the next amino acid given the previous one."
   ]
  },
  {
   "cell_type": "code",
   "execution_count": null,
   "metadata": {},
   "outputs": [],
   "source": [
    "def _calculate_next_residue_translation(previous_aminoacid, next_aminoacid):\n",
    "    pass\n",
    "\n",
    "def _calculate_next_residue_rotation(previous_aminoacid, next_aminoacid):\n",
    "    pass"
   ]
  },
  {
   "cell_type": "markdown",
   "metadata": {},
   "source": [
    "### Generate Tertiary Structure"
   ]
  },
  {
   "cell_type": "markdown",
   "metadata": {},
   "source": [
    "Once we have a way to calculate the translation and rotation of the next aminoacidd in the chain given the previous one, we can implement the routine to generate the tertiary structure of a protein given the primary structure."
   ]
  },
  {
   "cell_type": "code",
   "execution_count": null,
   "metadata": {},
   "outputs": [],
   "source": [
    "primary_structure = 'TTCCPSIVARSNFNVCRLPGTPEAICATYTGCIIIPGATCPGDYAN'"
   ]
  },
  {
   "cell_type": "code",
   "execution_count": null,
   "metadata": {},
   "outputs": [],
   "source": [
    "def _infer_tertiary_structure(primary_structure, aminoacids_df):\n",
    "    protein = pd.DataFrame(data=None, columns=['atom_name', 'residue_name', 'residue_seq_number', 'x', 'y', 'z'])    \n",
    "    previous_aminoacid = None\n",
    "    \n",
    "    for i, r in enumerate(primary_structure):\n",
    "        aminoacid = aminoacids_df[aminoacids_df.residue_name == symbol_to_residue_name[r]].copy()\n",
    "\n",
    "        if previous_aminoacid is not None:\n",
    "            translation = _calculate_next_residue_translation(previous_aminoacid, aminoacid)\n",
    "            rotation = _calculate_next_residue_rotation(previous_aminoacid, aminoacid)\n",
    "        \n",
    "        aminoacid = translate(aminoacid, translation)\n",
    "        aminoacid = rotate(aminoacid, rotation)\n",
    "        aminoacid['residue_seq_number'] = i\n",
    "        \n",
    "        previous_aminoacid = aminoacid\n",
    "        protein = protein.append(aminoacid, sort=True, ignore_index=True)\n",
    "    return protein"
   ]
  },
  {
   "cell_type": "code",
   "execution_count": null,
   "metadata": {
    "scrolled": false
   },
   "outputs": [],
   "source": [
    "protein = _infer_tertiary_structure(primary_structure, aminoacids)"
   ]
  },
  {
   "cell_type": "code",
   "execution_count": null,
   "metadata": {},
   "outputs": [],
   "source": [
    "protein.head(20)"
   ]
  },
  {
   "cell_type": "markdown",
   "metadata": {},
   "source": [
    "Done!"
   ]
  }
 ],
 "metadata": {
  "kernelspec": {
   "display_name": "Python 3",
   "language": "python",
   "name": "python3"
  },
  "language_info": {
   "codemirror_mode": {
    "name": "ipython",
    "version": 3
   },
   "file_extension": ".py",
   "mimetype": "text/x-python",
   "name": "python",
   "nbconvert_exporter": "python",
   "pygments_lexer": "ipython3",
   "version": "3.6.5"
  }
 },
 "nbformat": 4,
 "nbformat_minor": 2
}
