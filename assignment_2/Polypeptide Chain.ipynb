{
 "cells": [
  {
   "cell_type": "markdown",
   "metadata": {},
   "source": [
    "**CMP585 - Structural Bioinformatics**\n",
    "\n",
    "Cristian Lopes\n",
    "\n",
    "*Assignment 2*"
   ]
  },
  {
   "cell_type": "code",
   "execution_count": null,
   "metadata": {},
   "outputs": [],
   "source": [
    "import pandas as pd\n",
    "import numpy as np\n",
    "import glob\n",
    "import matplotlib.pyplot as plt\n",
    "import time"
   ]
  },
  {
   "cell_type": "markdown",
   "metadata": {},
   "source": [
    "# Load Data"
   ]
  },
  {
   "cell_type": "code",
   "execution_count": null,
   "metadata": {},
   "outputs": [],
   "source": [
    "def read_molecule(path):\n",
    "    atoms = []\n",
    "    with open(path, 'r') as f:\n",
    "        for line in f:\n",
    "            if line.startswith('ATOM'):\n",
    "                atoms.append({'atom_name': line[12:16].strip(), \n",
    "                             'residue_name': line[17:20].strip(),\n",
    "                             'residue_seq_number': line[22:26].strip(),\n",
    "                             'x': float(line[30:38].strip()), \n",
    "                             'y': float(line[38:46].strip()),\n",
    "                             'z': float(line[46:54].strip())})\n",
    "    return pd.DataFrame(atoms)"
   ]
  },
  {
   "cell_type": "code",
   "execution_count": null,
   "metadata": {},
   "outputs": [],
   "source": [
    "molecule = read_molecule('./data/1crn.pdb')"
   ]
  },
  {
   "cell_type": "code",
   "execution_count": null,
   "metadata": {},
   "outputs": [],
   "source": [
    "molecule.head(20)"
   ]
  },
  {
   "cell_type": "markdown",
   "metadata": {},
   "source": [
    "# Q1) Primary to Tertiary Structure"
   ]
  },
  {
   "cell_type": "markdown",
   "metadata": {},
   "source": [
    "## Symbol of each amino acid"
   ]
  },
  {
   "cell_type": "markdown",
   "metadata": {},
   "source": [
    "First of all, we define the symbol of each amino acid."
   ]
  },
  {
   "cell_type": "code",
   "execution_count": null,
   "metadata": {},
   "outputs": [],
   "source": [
    "symbol_to_residue_name = {\n",
    "    'T': 'THR', 'C': 'CYS', 'P': 'PRO', 'S': 'SER', 'I': 'ILE',\n",
    "    'V': 'VAL', 'A': 'ALA', 'R': 'ARG', 'N': 'ASN', 'F': 'PHE',\n",
    "    'L': 'LEU', 'G': 'GLY', 'E': 'GLU', 'D': 'ASP', 'Y': 'TYR'\n",
    "}"
   ]
  },
  {
   "cell_type": "markdown",
   "metadata": {},
   "source": [
    "## Load Amino Acids "
   ]
  },
  {
   "cell_type": "markdown",
   "metadata": {},
   "source": [
    "Then, we load the amino acids from the Protein Data Bank."
   ]
  },
  {
   "cell_type": "code",
   "execution_count": null,
   "metadata": {},
   "outputs": [],
   "source": [
    "AMINOACID_PATH = './data/amino_acids/'\n",
    "aminoacids = pd.DataFrame()\n",
    "\n",
    "for f in glob.glob(AMINOACID_PATH + \"*.pdb\"):\n",
    "    aminoacids = aminoacids.append(read_molecule(f))"
   ]
  },
  {
   "cell_type": "markdown",
   "metadata": {},
   "source": [
    "Right now, we have a dictionnary of amino acids containing the position of each atom inside the amino acid."
   ]
  },
  {
   "cell_type": "markdown",
   "metadata": {},
   "source": [
    "## Primary structure to tertiary structure"
   ]
  },
  {
   "cell_type": "markdown",
   "metadata": {},
   "source": [
    "### Translation and Rotation"
   ]
  },
  {
   "cell_type": "markdown",
   "metadata": {},
   "source": [
    "Next step is to replace each symbol of the primary structure by its corresponding residue. First, we define a translation and a rotation function to move and rotate the next amino acid given the position of the previous aminoacid."
   ]
  },
  {
   "cell_type": "code",
   "execution_count": null,
   "metadata": {},
   "outputs": [],
   "source": [
    "def translate(aminoacid, translation):\n",
    "    aminoacid[['x', 'y', 'z']] = aminoacid[['x', 'y', 'z']] + translation\n",
    "    return aminoacid"
   ]
  },
  {
   "cell_type": "code",
   "execution_count": null,
   "metadata": {},
   "outputs": [],
   "source": [
    "def translation_to_origin(aminoacid, ref_atom='N'):\n",
    "    ref_translation = aminoacid[aminoacid.atom_name == ref_atom][['x', 'y', 'z']].values.reshape(-1)\n",
    "    return ref_translation, translate(aminoacid, -ref_translation)\n",
    "    \n",
    "\n",
    "def rotate(aminoacid, angle_x, angle_y, angle_z):  \n",
    "    Rx = [[1, 0, 0], [0, np.cos(angle_x), -np.sin(angle_x)], [0, np.sin(angle_x), np.cos(angle_x)]]\n",
    "    Ry = [[np.cos(angle_y), 0, np.sin(angle_y)], [0, 1, 0], [-np.sin(angle_y), 0, np.cos(angle_y)]]\n",
    "    Rz = [[np.cos(angle_z), -np.sin(angle_z), 0], [np.sin(angle_z), np.cos(angle_z), 0], [0, 0, 1]]\n",
    "    R = np.dot(np.dot(Rx, Ry), Rz)\n",
    "    \n",
    "    ref_translation, aminoacid = translation_to_origin(aminoacid)\n",
    "    aminoacid[['x', 'y', 'z']] = R.dot(aminoacid[['x', 'y', 'z']].values.T).T\n",
    "    aminoacid = translate(aminoacid, ref_translation)\n",
    "    \n",
    "    return aminoacid"
   ]
  },
  {
   "cell_type": "markdown",
   "metadata": {},
   "source": [
    "### Planar Peptide Bond Constraints"
   ]
  },
  {
   "cell_type": "markdown",
   "metadata": {},
   "source": [
    "Given the position of  O, Ca (Alpha Carbon) and C (Carboxyl Carbon) from the previous amino acid and the position of N and Ca (Alpha Carbon) from the next one, we can calculate the necessary translation and rotation in the next amino acid in order to form a planar peptide bond. A planar peptide bond can be formed by setting 4 conditions: omega angle equals to 180° (trans) or 0° (cis), distance of 1.33 ångström between C and N, angle of 123,5° (trans) or 123,0° (cis) between O-C and C-N, angle of 116,0° (trans) or 118,0° (cis) between Ca-C and C-N, angle of 122,0° (trans) or 126,0° (cis) between C-N and N-Ca as shown in the figure below."
   ]
  },
  {
   "cell_type": "markdown",
   "metadata": {},
   "source": [
    "<div style=\"text-align:center\"><img width=\"600px\" src=\"./images/planar_peptide_bond.png\"/></div>\n",
    "<br>\n",
    "<br>\n",
    "<div style=\"text-align:center\">Figure 1:  The average dimensions of the planar peptide group (in angstroms and degrees).</div>\n",
    "<div style=\"text-align:center\">Source: https://www.open.edu/openlearn/science-maths-technology/science/biology/proteins/content-section-1.2)</div>"
   ]
  },
  {
   "cell_type": "code",
   "execution_count": null,
   "metadata": {},
   "outputs": [],
   "source": [
    "# distance between C(i) and N(i+1) should be 1.33 ångström\n",
    "def calculate_distance(p1, p2):\n",
    "    return np.sqrt(np.sum((p1-p2) ** 2))"
   ]
  },
  {
   "cell_type": "code",
   "execution_count": null,
   "metadata": {},
   "outputs": [],
   "source": [
    "# angle between O(i)-C(i) and C(i)-N(i+1) should be 123.5° (trans) or 123.0° (cis)\n",
    "# angle between Ca(i)-C(i) and C(i)-N(i+1) should be 116.0° (trans) or 118.0° (cis)\n",
    "# angle between C(i)-N(i+1) and N(i+1)-Ca(i+1) should be 122.0° (trans) or 126.0° (cis)\n",
    "def calculate_angle(p1, p2, p3):\n",
    "    p1, p2, p3 = np.array(p1), np.array(p2), np.array(p3)\n",
    "    \n",
    "    p1_ref = p1 - p2\n",
    "    p3_ref = p3 - p2\n",
    "    \n",
    "    cosine_angle = np.dot(p1_ref, p3_ref) / (np.linalg.norm(p1_ref) * np.linalg.norm(p3_ref))\n",
    "    angle = np.arccos(cosine_angle)\n",
    "    return np.degrees(angle)"
   ]
  },
  {
   "cell_type": "code",
   "execution_count": null,
   "metadata": {},
   "outputs": [],
   "source": [
    "# dihedral angle between Calphai-Ci-Ni+1 and Ci-Ni+1-Calphai+1 should be 180°\n",
    "def calculate_dihedral_angle(p1, p2, p3, p4):\n",
    "    p1, p2, p3, p4 = np.array(p1), np.array(p2), np.array(p3), np.array(p4)\n",
    "    \n",
    "    b1 = -1.0 * (p2 - p1)\n",
    "    b2 = p3 - p2\n",
    "    b3 = p4 - p3\n",
    "    \n",
    "    # normalize b2\n",
    "    b2 /= np.linalg.norm(b2)\n",
    "    \n",
    "    # projections of b1 and b3 onto plane perpendicular to b2\n",
    "    v = b1 - np.dot(b1, b2) * b2\n",
    "    w = b3 - np.dot(b3, b2) * b2\n",
    "    \n",
    "    # angle between v and w is the torsion angle\n",
    "    cosine_angle = np.dot(v, w) / (np.linalg.norm(v) * np.linalg.norm(w))\n",
    "    dihedral_angle = np.arccos(cosine_angle)\n",
    "    return np.degrees(np.abs(dihedral_angle))"
   ]
  },
  {
   "cell_type": "markdown",
   "metadata": {},
   "source": [
    "### Calculate Next Amino Acid Translation and Rotation"
   ]
  },
  {
   "cell_type": "markdown",
   "metadata": {},
   "source": [
    "Based on the constraints, we can calculate the translation and rotation of the next amino acid given the previous one. We are going to use the Genetic Algorithm to calculate the necessary translation and rotation in order to satisfy the constraints."
   ]
  },
  {
   "cell_type": "code",
   "execution_count": null,
   "metadata": {},
   "outputs": [],
   "source": [
    "class GeneticAlgorithm:\n",
    "    def __init__(self, dim_populaton, n_population, previous_aminoacid, next_aminoacid, peptide_group='trans'):\n",
    "        self.DIM_POPULATION = dim_populaton\n",
    "        self.N_POPULATION = n_population\n",
    "        self.peptide_group = peptide_group\n",
    "        \n",
    "        self.distances = []\n",
    "        self.dihedral_angles = []\n",
    "        self.angles_ocn = []\n",
    "        self.angles_ccn = []\n",
    "        self.angles_cnc = []\n",
    "        self.average_fitness = []\n",
    "        \n",
    "        if self.peptide_group == 'trans':\n",
    "            self.desired_distance = 1.33\n",
    "            self.desired_dihedral_angle = 180.0\n",
    "            self.desired_angle_ocn = 123.5\n",
    "            self.desired_angle_ccn = 116.0\n",
    "            self.desired_angle_cnc = 122.0\n",
    "        elif self.peptide_group == 'cis':\n",
    "            self.desired_distance = 1.32\n",
    "            self.desired_dihedral_angle = 0.0\n",
    "            self.desired_angle_ocn = 123.0\n",
    "            self.desired_angle_ccn = 118.0\n",
    "            self.desired_angle_cnc = 126.0\n",
    "        \n",
    "        self.previous_aminoacid = previous_aminoacid\n",
    "        self.next_aminoacid = next_aminoacid\n",
    "\n",
    "        self.population = self.initialize_population()\n",
    "        self.fitness = self.compute_population_fitness()\n",
    "        self.previous_fitness = None\n",
    "\n",
    "        self.iteration = 0\n",
    "\n",
    "\n",
    "    # Initialization\n",
    "    def initialize_population(self):\n",
    "        c_previous = self.previous_aminoacid[self.previous_aminoacid.atom_name == 'C'][['x', 'y', 'z']].values.reshape(-1)\n",
    "        n_next = self.next_aminoacid[self.next_aminoacid.atom_name == 'N'][['x', 'y', 'z']].values.reshape(-1)\n",
    "        \n",
    "        initial_amplitude = np.array([calculate_distance(c_previous, n_next)] * 3 + [1] * 3)\n",
    "        initial_population = [initial_amplitude * np.random.uniform(-1, 1, self.DIM_POPULATION) \n",
    "                              for _ in range(self.N_POPULATION)]\n",
    "\n",
    "        return initial_population\n",
    "\n",
    "    def generate_new_population(self):\n",
    "        new_population = []\n",
    "        for _ in range(self.N_POPULATION // 2):\n",
    "            childrens = self.intermediate_recombination()\n",
    "            new_population.extend([self.gaussian_convolution(children) for children in childrens])\n",
    "\n",
    "        return new_population\n",
    "\n",
    "    # Fitness\n",
    "    def individual_fitness(self, o_previous, c_previous, n_next, c_alpha_previous, c_alpha_next):                  \n",
    "        distance = calculate_distance(c_previous, n_next)\n",
    "        dihedral_angle = calculate_dihedral_angle(c_alpha_previous, c_previous, n_next, c_alpha_next)\n",
    "        angle_ocn = calculate_angle(o_previous, c_previous, n_next)\n",
    "        angle_ccn = calculate_angle(c_alpha_previous, c_previous, n_next)\n",
    "        angle_cnc = calculate_angle(c_previous, n_next, c_alpha_next)\n",
    "        \n",
    "        self.distances.append(distance)\n",
    "        self.dihedral_angles.append(dihedral_angle)\n",
    "        self.angles_ocn.append(angle_ocn)\n",
    "        self.angles_ccn.append(angle_ccn)\n",
    "        self.angles_cnc.append(angle_cnc)\n",
    "        \n",
    "        fitness = (\n",
    "            2*np.abs(distance - self.desired_distance) / self.desired_distance +\n",
    "            np.abs(dihedral_angle - self.desired_dihedral_angle) / self.desired_dihedral_angle +\n",
    "            2*np.abs(angle_ocn - self.desired_angle_ocn) / self.desired_angle_ocn +\n",
    "            2*np.abs(angle_ccn - self.desired_angle_ccn) / self.desired_angle_ccn +\n",
    "            np.abs(angle_cnc - self.desired_angle_cnc) / self.desired_angle_cnc\n",
    "        )\n",
    "        \n",
    "        return fitness\n",
    "\n",
    "    def compute_population_fitness(self):\n",
    "        population_fitness = []\n",
    "        for individual in self.population:\n",
    "            p_aminoacid = self.previous_aminoacid.copy()\n",
    "            n_aminoacid = self.next_aminoacid.copy()\n",
    "            n_aminoacid = translate(n_aminoacid, individual[:3])\n",
    "            n_aminoacid = rotate(n_aminoacid, individual[3], individual[4], individual[5])\n",
    "            \n",
    "            o_previous = p_aminoacid[p_aminoacid.atom_name == 'O'][['x', 'y', 'z']].values.reshape(-1)\n",
    "            c_previous = p_aminoacid[p_aminoacid.atom_name == 'C'][['x', 'y', 'z']].values.reshape(-1)\n",
    "            n_next = n_aminoacid[n_aminoacid.atom_name == 'N'][['x', 'y', 'z']].values.reshape(-1)\n",
    "            c_alpha_previous = p_aminoacid[p_aminoacid.atom_name == 'CA'][['x', 'y', 'z']].values.reshape(-1)\n",
    "            c_alpha_next = n_aminoacid[n_aminoacid.atom_name == 'CA'][['x', 'y', 'z']].values.reshape(-1)\n",
    "\n",
    "            population_fitness.append(self.individual_fitness(o_previous, c_previous, n_next, c_alpha_previous, c_alpha_next))\n",
    "\n",
    "        return population_fitness\n",
    "    \n",
    "    # Selection\n",
    "    def fitness_proportionate_selection(self):\n",
    "        probabilities = (np.max(self.fitness) - self.fitness) / np.sum(np.max(self.fitness) - self.fitness)\n",
    "        idx = np.random.choice(self.N_POPULATION, replace=True, p=probabilities)\n",
    "\n",
    "        return self.population[idx]\n",
    "\n",
    "    # Crossover\n",
    "    def intermediate_recombination(self):\n",
    "        p = 0.1\n",
    "        alpha = np.random.uniform(-p, 1+p)\n",
    "        beta = np.random.uniform(-p, 1+p)\n",
    "\n",
    "        parent_1 = self.fitness_proportionate_selection()\n",
    "        parent_2 = self.fitness_proportionate_selection()\n",
    "\n",
    "        children_1 = alpha * parent_1 + (1 - alpha) * parent_2\n",
    "        children_2 = beta * parent_1 + (1 - beta) * parent_2\n",
    "\n",
    "        return [children_1, children_2]\n",
    "\n",
    "    # Mutation\n",
    "    def gaussian_convolution(self, children):\n",
    "        add_noise_prob = np.random.rand(self.DIM_POPULATION)\n",
    "\n",
    "        sigma = 0.02\n",
    "        noise = sigma * np.random.randn(self.DIM_POPULATION)\n",
    "\n",
    "        return children + noise * (add_noise_prob > 0.5)\n",
    "\n",
    "    def done(self, epsilon, max_iteration):\n",
    "        converged = (np.abs(np.mean(self.fitness) - np.mean(self.previous_fitness)) < epsilon) \\\n",
    "                     if self.previous_fitness is not None else False\n",
    "        taking_too_long = self.iteration > max_iteration\n",
    "\n",
    "        return converged or taking_too_long\n",
    "\n",
    "    def show_results(self):\n",
    "        print('\\nOptimal Solution:\\n')\n",
    "        print('Tx: %.2fÅ, Ty: %.2fÅ, Tz: %.2fÅ' % tuple(self.population[np.argmin(self.fitness)][:3]))\n",
    "        print('Ax: %.2f°, Ay: %.2f°, Az: %.2f°' % tuple(np.degrees(self.population[np.argmin(self.fitness)][3:])))\n",
    "        \n",
    "        print('\\nOptimized Metrics:\\n')\n",
    "        print('Distance C-N: %.3f (%.2f)' % (self.distances[-self.N_POPULATION + np.argmin(self.fitness)],\n",
    "                                            self.desired_distance))\n",
    "        print('Omega Dihedral Angle: %.2f (%.2f)' % (self.dihedral_angles[-self.N_POPULATION + np.argmin(self.fitness)],\n",
    "                                                    self.desired_dihedral_angle))\n",
    "        print('Angle O-C-N: %.2f (%.2f)' % (self.angles_ocn[-self.N_POPULATION + np.argmin(self.fitness)],\n",
    "                                           self.desired_angle_ocn))\n",
    "        print('Angle Calpha-C-N: %.2f (%.2f)' % (self.angles_ccn[-self.N_POPULATION + np.argmin(self.fitness)],\n",
    "                                                self.desired_angle_ccn))\n",
    "        print('Angle C-N-Calpha: %.2f (%.2f)\\n' % (self.angles_cnc[-self.N_POPULATION + np.argmin(self.fitness)],\n",
    "                                                  self.desired_angle_cnc))\n",
    "        \n",
    "        f, (ax1, ax2, ax3, ax4, ax5, ax6) = plt.subplots(1, 6, figsize=(22, 5))\n",
    "        ax1.plot(self.average_fitness)\n",
    "        ax1.set_title('Average Fitness Convergence.')\n",
    "        ax2.plot(np.convolve(self.distances, np.ones((10,)) / 10, mode='valid'))\n",
    "        ax2.set_title('Distance C-N.')\n",
    "        ax2.axis([-100, len(self.distances) + 100, 0, 5])\n",
    "        ax3.plot(np.convolve(self.dihedral_angles, np.ones((10,)) / 10, mode='valid'))\n",
    "        ax3.set_title('Omega Dihedral Angle.')\n",
    "        ax3.axis([-100, len(self.dihedral_angles) + 100, 0, 185])\n",
    "        ax4.plot(np.convolve(self.angles_ocn, np.ones((10,)) / 10, mode='valid'))\n",
    "        ax4.set_title('Angle O-C-N.')\n",
    "        ax4.axis([-100, len(self.angles_ocn) + 100, 0, 185])\n",
    "        ax5.plot(np.convolve(self.angles_ccn, np.ones((10,)) / 10, mode='valid'))\n",
    "        ax5.set_title('Angle Calpha-C-N.')\n",
    "        ax5.axis([-100, len(self.angles_ccn) + 100, 0, 185])\n",
    "        ax6.plot(np.convolve(self.angles_cnc, np.ones((10,)) / 10, mode='valid'))\n",
    "        ax6.set_title('Angle C-N-Calpha.')\n",
    "        ax6.axis([-100, len(self.angles_cnc) + 100, 0, 185])\n",
    "        plt.show()\n",
    "        \n",
    "    def optimize(self, max_iteration=500):\n",
    "        self.iteration = 0\n",
    "        \n",
    "        while not self.done(epsilon=1e-8, max_iteration=max_iteration):\n",
    "            self.iteration += 1\n",
    "            self.previous_fitness = self.fitness\n",
    "\n",
    "            self.population = self.generate_new_population()\n",
    "            self.fitness = self.compute_population_fitness()\n",
    "\n",
    "            self.average_fitness.append(np.mean(self.fitness))\n",
    "\n",
    "        self.show_results()\n",
    "        \n",
    "        return self.population[np.argmin(self.fitness)][:3], self.population[np.argmin(self.fitness)][3:]"
   ]
  },
  {
   "cell_type": "markdown",
   "metadata": {},
   "source": [
    "#### Testing next amino acid traslation and rotation"
   ]
  },
  {
   "cell_type": "code",
   "execution_count": null,
   "metadata": {},
   "outputs": [],
   "source": [
    "previous_aminoacid = aminoacids[aminoacids.residue_name == 'THR']\n",
    "next_aminoacid = aminoacids[aminoacids.residue_name == 'THR']"
   ]
  },
  {
   "cell_type": "code",
   "execution_count": null,
   "metadata": {
    "scrolled": false
   },
   "outputs": [],
   "source": [
    "g = GeneticAlgorithm(6, 10, previous_aminoacid, next_aminoacid)"
   ]
  },
  {
   "cell_type": "code",
   "execution_count": null,
   "metadata": {
    "scrolled": false
   },
   "outputs": [],
   "source": [
    "translation, rotation = g.optimize(100)"
   ]
  },
  {
   "cell_type": "code",
   "execution_count": null,
   "metadata": {},
   "outputs": [],
   "source": [
    "a = next_aminoacid.copy()\n",
    "aminoacid = translate(a, translation)\n",
    "aminoacid = rotate(a, rotation[0], rotation[1], rotation[2])"
   ]
  },
  {
   "cell_type": "code",
   "execution_count": null,
   "metadata": {},
   "outputs": [],
   "source": [
    "aminoacid"
   ]
  },
  {
   "cell_type": "markdown",
   "metadata": {},
   "source": [
    "### Generate Tertiary Structure"
   ]
  },
  {
   "cell_type": "markdown",
   "metadata": {},
   "source": [
    "Once we have a way to calculate the translation and rotation of the next aminoacidd in the chain given the previous one, we can implement the routine to generate the tertiary structure of a protein given the primary structure."
   ]
  },
  {
   "cell_type": "code",
   "execution_count": null,
   "metadata": {},
   "outputs": [],
   "source": [
    "primary_structure = 'TTCC'\n",
    "# primary_structure = 'TTCCPSIVARSNFNVCRLPGTPEAICATYTGCIIIPGATCPGDYAN'"
   ]
  },
  {
   "cell_type": "code",
   "execution_count": null,
   "metadata": {},
   "outputs": [],
   "source": [
    "def remove_H2O(aminoacid):\n",
    "    return aminoacid[~aminoacid.atom_name.isin(['OC', 'HC', '1H'])]\n",
    "\n",
    "def _infer_tertiary_structure(primary_structure, aminoacids_df):\n",
    "    protein = pd.DataFrame(data=None, columns=['atom_name', 'residue_name', 'residue_seq_number', 'x', 'y', 'z'])    \n",
    "    previous_aminoacid = None\n",
    "    \n",
    "    for i, r in enumerate(primary_structure):\n",
    "        print('Adding amino acid %s...' % symbol_to_residue_name[r])\n",
    "        aminoacid = aminoacids_df[aminoacids_df.residue_name == symbol_to_residue_name[r]].copy()\n",
    "              \n",
    "        if previous_aminoacid is not None:\n",
    "            time.sleep(2)\n",
    "            peptide_group = 'cis' if r == 'P' else 'trans'\n",
    "            ga = GeneticAlgorithm(dim_populaton=6, n_population=10,\n",
    "                                  previous_aminoacid=previous_aminoacid, next_aminoacid=aminoacid,\n",
    "                                  peptide_group=peptide_group)\n",
    "            translation, rotation = ga.optimize(max_iteration=1000)\n",
    "            aminoacid = translate(aminoacid, translation)\n",
    "            aminoacid = rotate(aminoacid, rotation[0], rotation[1], rotation[2])\n",
    "        else:\n",
    "            print('This is the first amino acid.')\n",
    "        \n",
    "        aminoacid['residue_seq_number'] = str(i)\n",
    "        \n",
    "        previous_aminoacid = aminoacid\n",
    "        \n",
    "        aminoacid = remove_H2O(aminoacid)\n",
    "        protein = protein.append(aminoacid, sort=True, ignore_index=True)\n",
    "        print('Amino acid %s added.\\n' % symbol_to_residue_name[r])\n",
    "\n",
    "    return protein"
   ]
  },
  {
   "cell_type": "code",
   "execution_count": null,
   "metadata": {
    "scrolled": false
   },
   "outputs": [],
   "source": [
    "protein = _infer_tertiary_structure(primary_structure, aminoacids)"
   ]
  },
  {
   "cell_type": "code",
   "execution_count": null,
   "metadata": {
    "scrolled": false
   },
   "outputs": [],
   "source": [
    "protein.head(20)"
   ]
  },
  {
   "cell_type": "markdown",
   "metadata": {},
   "source": [
    "# Q2) PHI and PSI angles"
   ]
  },
  {
   "cell_type": "markdown",
   "metadata": {},
   "source": [
    "**Reference Plane:** The reference plane for both phi and psi contains three atoms: the nitrogen in the amino group, the alpha carbon, and the carbon in the carboxyl group.\n",
    "\n",
    "**PHI:** The plane for phi contains the carboxyl carbon from the previous segment, plus the amino nitrogen and the alpha carbon from the segment in question. Phi is the angle between this plane and the reference plane.\n",
    "\n",
    "<h5><center>PHI atoms: C(i-1)-N(i)-Calpha(i)-C(i)</center></h5>\n",
    "\n",
    "**PHI:** The plane for psi contains the amino nitrogen from the next segment, plus carboxyl carbon and the alpha carbon from the segment in question. Psi is the angle between this plane and the reference plane.\n",
    "\n",
    "<h5><center>PSI atoms: N(i)-Calpha(i)-C(i)-N(i+1)</center></h5>\n",
    "\n",
    "Source: https://www.open.edu/openlearn/science-maths-technology/science/biology/proteins/content-section-1.2"
   ]
  },
  {
   "cell_type": "code",
   "execution_count": null,
   "metadata": {},
   "outputs": [],
   "source": [
    "def _infer_phi(c_previous, n_current, c_alpha_current, c_current):\n",
    "    return calculate_dihedral_angle(c_previous, n_current, c_alpha_current, c_current)\n",
    "\n",
    "\n",
    "def _infer_psi(n_current, c_alpha_current, c_current, n_next):\n",
    "    return calculate_dihedral_angle(n_current, c_alpha_current, c_current, n_next)\n",
    "\n",
    "\n",
    "def infer_phi_psi(protein):\n",
    "    phi_psi = pd.DataFrame(data=None, columns=['amino', 'phi', 'psi'])    \n",
    "    previous_aminoacid = None\n",
    "    \n",
    "    for i in protein.residue_seq_number.unique():\n",
    "        current_aminoacid = protein[protein.residue_seq_number == str(i)].copy()\n",
    "        next_aminoacid = protein[protein.residue_seq_number == str(int(i)+1)].copy() \n",
    "        next_aminoacid = next_aminoacid if not next_aminoacid.empty else None\n",
    "        \n",
    "        c_previous = previous_aminoacid[previous_aminoacid.atom_name == 'C'][['x', 'y', 'z']].values.reshape(-1)\\\n",
    "                     if previous_aminoacid is not None else None\n",
    "        n_current = current_aminoacid[current_aminoacid.atom_name == 'N'][['x', 'y', 'z']].values.reshape(-1)\n",
    "        c_alpha_current = current_aminoacid[current_aminoacid.atom_name == 'CA'][['x', 'y', 'z']].values.reshape(-1)\n",
    "        c_current = current_aminoacid[current_aminoacid.atom_name == 'C'][['x', 'y', 'z']].values.reshape(-1)\n",
    "        n_next = next_aminoacid[next_aminoacid.atom_name == 'N'][['x', 'y', 'z']].values.reshape(-1)\\\n",
    "                 if next_aminoacid is not None else None\n",
    "\n",
    "        \n",
    "        phi = _infer_phi(c_previous, n_current, c_alpha_current, c_current) if previous_aminoacid is not None else None\n",
    "        psi = _infer_psi(n_current, c_alpha_current, c_current, n_next) if next_aminoacid is not None else None\n",
    "        \n",
    "        previous_aminoacid = current_aminoacid\n",
    "        \n",
    "        new_phi_psi = pd.DataFrame(data={'amino': [current_aminoacid.residue_name.iloc[0]], \n",
    "                                         'phi': [phi], \n",
    "                                         'psi':[psi]})  \n",
    "        phi_psi = phi_psi.append(new_phi_psi, sort=True, ignore_index=True)\n",
    "\n",
    "    return phi_psi"
   ]
  },
  {
   "cell_type": "code",
   "execution_count": null,
   "metadata": {},
   "outputs": [],
   "source": [
    "phi_psi = infer_phi_psi(protein)"
   ]
  },
  {
   "cell_type": "code",
   "execution_count": null,
   "metadata": {},
   "outputs": [],
   "source": [
    "phi_psi"
   ]
  },
  {
   "cell_type": "markdown",
   "metadata": {},
   "source": [
    "# Q3) Ramachandran Plot"
   ]
  },
  {
   "cell_type": "code",
   "execution_count": null,
   "metadata": {},
   "outputs": [],
   "source": [
    "ramachandran = infer_phi_psi(molecule)"
   ]
  },
  {
   "cell_type": "code",
   "execution_count": null,
   "metadata": {},
   "outputs": [],
   "source": [
    "ramachandran.head()"
   ]
  },
  {
   "cell_type": "code",
   "execution_count": null,
   "metadata": {},
   "outputs": [],
   "source": [
    "plt.figure(figsize=(8,8))\n",
    "plt.title('Ramachandran Plot for 1CRN.')\n",
    "plt.plot(ramachandran.phi, ramachandran.psi, '*')\n",
    "plt.plot(np.linspace(-180, 180, len(ramachandran.phi)), np.zeros(len(ramachandran.psi)), 'k')\n",
    "plt.plot(np.zeros(len(ramachandran.phi)), np.linspace(-180, 180, len(ramachandran.psi)), 'k')\n",
    "plt.grid()\n",
    "plt.axis([-180, 180, -180, 180])\n",
    "plt.show()"
   ]
  },
  {
   "cell_type": "markdown",
   "metadata": {},
   "source": [
    "Done!"
   ]
  }
 ],
 "metadata": {
  "kernelspec": {
   "display_name": "Python 3",
   "language": "python",
   "name": "python3"
  },
  "language_info": {
   "codemirror_mode": {
    "name": "ipython",
    "version": 3
   },
   "file_extension": ".py",
   "mimetype": "text/x-python",
   "name": "python",
   "nbconvert_exporter": "python",
   "pygments_lexer": "ipython3",
   "version": "3.6.5"
  }
 },
 "nbformat": 4,
 "nbformat_minor": 2
}
