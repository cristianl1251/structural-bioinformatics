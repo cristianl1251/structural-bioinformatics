{
 "cells": [
  {
   "cell_type": "markdown",
   "metadata": {},
   "source": [
    "**CMP585 - Structural Bioinformatics**\n",
    "\n",
    "Cristian Lopes\n",
    "\n",
    "*Assignment 2*"
   ]
  },
  {
   "cell_type": "code",
   "execution_count": 1,
   "metadata": {},
   "outputs": [],
   "source": [
    "import pandas as pd\n",
    "import numpy as np\n",
    "import glob\n",
    "import matplotlib.pyplot as plt\n",
    "import time"
   ]
  },
  {
   "cell_type": "markdown",
   "metadata": {},
   "source": [
    "# Load Data"
   ]
  },
  {
   "cell_type": "code",
   "execution_count": 2,
   "metadata": {},
   "outputs": [],
   "source": [
    "def read_molecule(path):\n",
    "    atoms = []\n",
    "    with open(path, 'r') as f:\n",
    "        for line in f:\n",
    "            if line.startswith('ATOM'):\n",
    "                atoms.append({'atom_name': line[12:16].strip(), \n",
    "                             'residue_name': line[17:20].strip(),\n",
    "                             'residue_seq_number': line[22:26].strip(),\n",
    "                             'x': float(line[30:38].strip()), \n",
    "                             'y': float(line[38:46].strip()),\n",
    "                             'z': float(line[46:54].strip())})\n",
    "    return pd.DataFrame(atoms)"
   ]
  },
  {
   "cell_type": "code",
   "execution_count": 3,
   "metadata": {},
   "outputs": [],
   "source": [
    "molecule = read_molecule('./data/1crn.pdb')"
   ]
  },
  {
   "cell_type": "code",
   "execution_count": 4,
   "metadata": {},
   "outputs": [
    {
     "data": {
      "text/html": [
       "<div>\n",
       "<style scoped>\n",
       "    .dataframe tbody tr th:only-of-type {\n",
       "        vertical-align: middle;\n",
       "    }\n",
       "\n",
       "    .dataframe tbody tr th {\n",
       "        vertical-align: top;\n",
       "    }\n",
       "\n",
       "    .dataframe thead th {\n",
       "        text-align: right;\n",
       "    }\n",
       "</style>\n",
       "<table border=\"1\" class=\"dataframe\">\n",
       "  <thead>\n",
       "    <tr style=\"text-align: right;\">\n",
       "      <th></th>\n",
       "      <th>atom_name</th>\n",
       "      <th>residue_name</th>\n",
       "      <th>residue_seq_number</th>\n",
       "      <th>x</th>\n",
       "      <th>y</th>\n",
       "      <th>z</th>\n",
       "    </tr>\n",
       "  </thead>\n",
       "  <tbody>\n",
       "    <tr>\n",
       "      <th>0</th>\n",
       "      <td>N</td>\n",
       "      <td>THR</td>\n",
       "      <td>1</td>\n",
       "      <td>17.047</td>\n",
       "      <td>14.099</td>\n",
       "      <td>3.625</td>\n",
       "    </tr>\n",
       "    <tr>\n",
       "      <th>1</th>\n",
       "      <td>CA</td>\n",
       "      <td>THR</td>\n",
       "      <td>1</td>\n",
       "      <td>16.967</td>\n",
       "      <td>12.784</td>\n",
       "      <td>4.338</td>\n",
       "    </tr>\n",
       "    <tr>\n",
       "      <th>2</th>\n",
       "      <td>C</td>\n",
       "      <td>THR</td>\n",
       "      <td>1</td>\n",
       "      <td>15.685</td>\n",
       "      <td>12.755</td>\n",
       "      <td>5.133</td>\n",
       "    </tr>\n",
       "    <tr>\n",
       "      <th>3</th>\n",
       "      <td>O</td>\n",
       "      <td>THR</td>\n",
       "      <td>1</td>\n",
       "      <td>15.268</td>\n",
       "      <td>13.825</td>\n",
       "      <td>5.594</td>\n",
       "    </tr>\n",
       "    <tr>\n",
       "      <th>4</th>\n",
       "      <td>CB</td>\n",
       "      <td>THR</td>\n",
       "      <td>1</td>\n",
       "      <td>18.170</td>\n",
       "      <td>12.703</td>\n",
       "      <td>5.337</td>\n",
       "    </tr>\n",
       "    <tr>\n",
       "      <th>5</th>\n",
       "      <td>OG1</td>\n",
       "      <td>THR</td>\n",
       "      <td>1</td>\n",
       "      <td>19.334</td>\n",
       "      <td>12.829</td>\n",
       "      <td>4.463</td>\n",
       "    </tr>\n",
       "    <tr>\n",
       "      <th>6</th>\n",
       "      <td>CG2</td>\n",
       "      <td>THR</td>\n",
       "      <td>1</td>\n",
       "      <td>18.150</td>\n",
       "      <td>11.546</td>\n",
       "      <td>6.304</td>\n",
       "    </tr>\n",
       "    <tr>\n",
       "      <th>7</th>\n",
       "      <td>N</td>\n",
       "      <td>THR</td>\n",
       "      <td>2</td>\n",
       "      <td>15.115</td>\n",
       "      <td>11.555</td>\n",
       "      <td>5.265</td>\n",
       "    </tr>\n",
       "    <tr>\n",
       "      <th>8</th>\n",
       "      <td>CA</td>\n",
       "      <td>THR</td>\n",
       "      <td>2</td>\n",
       "      <td>13.856</td>\n",
       "      <td>11.469</td>\n",
       "      <td>6.066</td>\n",
       "    </tr>\n",
       "    <tr>\n",
       "      <th>9</th>\n",
       "      <td>C</td>\n",
       "      <td>THR</td>\n",
       "      <td>2</td>\n",
       "      <td>14.164</td>\n",
       "      <td>10.785</td>\n",
       "      <td>7.379</td>\n",
       "    </tr>\n",
       "    <tr>\n",
       "      <th>10</th>\n",
       "      <td>O</td>\n",
       "      <td>THR</td>\n",
       "      <td>2</td>\n",
       "      <td>14.993</td>\n",
       "      <td>9.862</td>\n",
       "      <td>7.443</td>\n",
       "    </tr>\n",
       "    <tr>\n",
       "      <th>11</th>\n",
       "      <td>CB</td>\n",
       "      <td>THR</td>\n",
       "      <td>2</td>\n",
       "      <td>12.732</td>\n",
       "      <td>10.711</td>\n",
       "      <td>5.261</td>\n",
       "    </tr>\n",
       "    <tr>\n",
       "      <th>12</th>\n",
       "      <td>OG1</td>\n",
       "      <td>THR</td>\n",
       "      <td>2</td>\n",
       "      <td>13.308</td>\n",
       "      <td>9.439</td>\n",
       "      <td>4.926</td>\n",
       "    </tr>\n",
       "    <tr>\n",
       "      <th>13</th>\n",
       "      <td>CG2</td>\n",
       "      <td>THR</td>\n",
       "      <td>2</td>\n",
       "      <td>12.484</td>\n",
       "      <td>11.442</td>\n",
       "      <td>3.895</td>\n",
       "    </tr>\n",
       "    <tr>\n",
       "      <th>14</th>\n",
       "      <td>N</td>\n",
       "      <td>CYS</td>\n",
       "      <td>3</td>\n",
       "      <td>13.488</td>\n",
       "      <td>11.241</td>\n",
       "      <td>8.417</td>\n",
       "    </tr>\n",
       "    <tr>\n",
       "      <th>15</th>\n",
       "      <td>CA</td>\n",
       "      <td>CYS</td>\n",
       "      <td>3</td>\n",
       "      <td>13.660</td>\n",
       "      <td>10.707</td>\n",
       "      <td>9.787</td>\n",
       "    </tr>\n",
       "    <tr>\n",
       "      <th>16</th>\n",
       "      <td>C</td>\n",
       "      <td>CYS</td>\n",
       "      <td>3</td>\n",
       "      <td>12.269</td>\n",
       "      <td>10.431</td>\n",
       "      <td>10.323</td>\n",
       "    </tr>\n",
       "    <tr>\n",
       "      <th>17</th>\n",
       "      <td>O</td>\n",
       "      <td>CYS</td>\n",
       "      <td>3</td>\n",
       "      <td>11.393</td>\n",
       "      <td>11.308</td>\n",
       "      <td>10.185</td>\n",
       "    </tr>\n",
       "    <tr>\n",
       "      <th>18</th>\n",
       "      <td>CB</td>\n",
       "      <td>CYS</td>\n",
       "      <td>3</td>\n",
       "      <td>14.368</td>\n",
       "      <td>11.748</td>\n",
       "      <td>10.691</td>\n",
       "    </tr>\n",
       "    <tr>\n",
       "      <th>19</th>\n",
       "      <td>SG</td>\n",
       "      <td>CYS</td>\n",
       "      <td>3</td>\n",
       "      <td>15.885</td>\n",
       "      <td>12.426</td>\n",
       "      <td>10.016</td>\n",
       "    </tr>\n",
       "  </tbody>\n",
       "</table>\n",
       "</div>"
      ],
      "text/plain": [
       "   atom_name residue_name residue_seq_number       x       y       z\n",
       "0          N          THR                  1  17.047  14.099   3.625\n",
       "1         CA          THR                  1  16.967  12.784   4.338\n",
       "2          C          THR                  1  15.685  12.755   5.133\n",
       "3          O          THR                  1  15.268  13.825   5.594\n",
       "4         CB          THR                  1  18.170  12.703   5.337\n",
       "5        OG1          THR                  1  19.334  12.829   4.463\n",
       "6        CG2          THR                  1  18.150  11.546   6.304\n",
       "7          N          THR                  2  15.115  11.555   5.265\n",
       "8         CA          THR                  2  13.856  11.469   6.066\n",
       "9          C          THR                  2  14.164  10.785   7.379\n",
       "10         O          THR                  2  14.993   9.862   7.443\n",
       "11        CB          THR                  2  12.732  10.711   5.261\n",
       "12       OG1          THR                  2  13.308   9.439   4.926\n",
       "13       CG2          THR                  2  12.484  11.442   3.895\n",
       "14         N          CYS                  3  13.488  11.241   8.417\n",
       "15        CA          CYS                  3  13.660  10.707   9.787\n",
       "16         C          CYS                  3  12.269  10.431  10.323\n",
       "17         O          CYS                  3  11.393  11.308  10.185\n",
       "18        CB          CYS                  3  14.368  11.748  10.691\n",
       "19        SG          CYS                  3  15.885  12.426  10.016"
      ]
     },
     "execution_count": 4,
     "metadata": {},
     "output_type": "execute_result"
    }
   ],
   "source": [
    "molecule.head(20)"
   ]
  },
  {
   "cell_type": "markdown",
   "metadata": {},
   "source": [
    "# Q1) Primary to Tertiary Structure"
   ]
  },
  {
   "cell_type": "markdown",
   "metadata": {},
   "source": [
    "## Symbol of each amino acid"
   ]
  },
  {
   "cell_type": "markdown",
   "metadata": {},
   "source": [
    "First of all, we define the symbol of each amino acid."
   ]
  },
  {
   "cell_type": "code",
   "execution_count": 5,
   "metadata": {},
   "outputs": [],
   "source": [
    "symbol_to_residue_name = {\n",
    "    'T': 'THR', 'C': 'CYS', 'P': 'PRO', 'S': 'SER', 'I': 'ILE',\n",
    "    'V': 'VAL', 'A': 'ALA', 'R': 'ARG', 'N': 'ASN', 'F': 'PHE',\n",
    "    'L': 'LEU', 'G': 'GLY', 'E': 'GLU', 'D': 'ASP', 'Y': 'TYR'\n",
    "}"
   ]
  },
  {
   "cell_type": "markdown",
   "metadata": {},
   "source": [
    "## Load Amino Acids "
   ]
  },
  {
   "cell_type": "markdown",
   "metadata": {},
   "source": [
    "Then, we load the amino acids from the Protein Data Bank."
   ]
  },
  {
   "cell_type": "code",
   "execution_count": 6,
   "metadata": {},
   "outputs": [],
   "source": [
    "AMINOACID_PATH = './data/amino_acids/'\n",
    "aminoacids = pd.DataFrame()\n",
    "\n",
    "for f in glob.glob(AMINOACID_PATH + \"*.pdb\"):\n",
    "    aminoacids = aminoacids.append(read_molecule(f))"
   ]
  },
  {
   "cell_type": "markdown",
   "metadata": {},
   "source": [
    "Right now, we have a dictionnary of amino acids containing the position of each atom inside the amino acid."
   ]
  },
  {
   "cell_type": "markdown",
   "metadata": {},
   "source": [
    "## Primary structure to tertiary structure"
   ]
  },
  {
   "cell_type": "markdown",
   "metadata": {},
   "source": [
    "### Translation and Rotation"
   ]
  },
  {
   "cell_type": "markdown",
   "metadata": {},
   "source": [
    "Next step is to replace each symbol of the primary structure by its corresponding residue. First, we define a translation and a rotation function to move and rotate the next amino acid given the position of the previous aminoacid."
   ]
  },
  {
   "cell_type": "code",
   "execution_count": 7,
   "metadata": {},
   "outputs": [],
   "source": [
    "def translate(aminoacid, translation):\n",
    "    aminoacid[['x', 'y', 'z']] = aminoacid[['x', 'y', 'z']] + translation\n",
    "    return aminoacid"
   ]
  },
  {
   "cell_type": "code",
   "execution_count": 8,
   "metadata": {},
   "outputs": [],
   "source": [
    "def translation_to_origin(aminoacid, ref_atom='N'):\n",
    "    ref_translation = aminoacid[aminoacid.atom_name == ref_atom][['x', 'y', 'z']].values.reshape(-1)\n",
    "    return ref_translation, translate(aminoacid, -ref_translation)\n",
    "    \n",
    "\n",
    "def rotate(aminoacid, angle_x, angle_y, angle_z):  \n",
    "    Rx = [[1, 0, 0], [0, np.cos(angle_x), -np.sin(angle_x)], [0, np.sin(angle_x), np.cos(angle_x)]]\n",
    "    Ry = [[np.cos(angle_y), 0, np.sin(angle_y)], [0, 1, 0], [-np.sin(angle_y), 0, np.cos(angle_y)]]\n",
    "    Rz = [[np.cos(angle_z), -np.sin(angle_z), 0], [np.sin(angle_z), np.cos(angle_z), 0], [0, 0, 1]]\n",
    "    R = np.dot(np.dot(Rx, Ry), Rz)\n",
    "    \n",
    "    ref_translation, aminoacid = translation_to_origin(aminoacid)\n",
    "    aminoacid[['x', 'y', 'z']] = R.dot(aminoacid[['x', 'y', 'z']].values.T).T\n",
    "    aminoacid = translate(aminoacid, ref_translation)\n",
    "    \n",
    "    return aminoacid"
   ]
  },
  {
   "cell_type": "markdown",
   "metadata": {},
   "source": [
    "### Planar Peptide Bond Constraints"
   ]
  },
  {
   "cell_type": "markdown",
   "metadata": {},
   "source": [
    "Given the position of  O and C (Carboxyl) from the previous amino acid and the position of N from the next one, we can calculate the necessary translation and rotation in the next amino acid in order to form a planar peptide bond, that means, Omega equals to 180° (considering a distance of 1.33 ångström between C and N, an angle of 123,5° (trans) or 123,0° (cis) between O-C and C-N and an angle of 116,0° (trans) or 118,0° (cis) between Ca-C and C-N as shown in the figure below)."
   ]
  },
  {
   "cell_type": "markdown",
   "metadata": {},
   "source": [
    "<div style=\"text-align:center\"><img width=\"600px\" src=\"./images/planar_peptide_bond.png\"/></div>\n",
    "<br>\n",
    "<br>\n",
    "<div style=\"text-align:center\">Figure 1:  The average dimensions of the planar peptide group (in angstroms and degrees).</div>\n",
    "<div style=\"text-align:center\">Source: https://www.open.edu/openlearn/science-maths-technology/science/biology/proteins/content-section-1.2)</div>"
   ]
  },
  {
   "cell_type": "code",
   "execution_count": 9,
   "metadata": {},
   "outputs": [],
   "source": [
    "# distance between Ci and Ni+1 should be 1.33 ångström\n",
    "def calculate_distance(p1, p2):\n",
    "    return np.sqrt(np.sum((p1-p2) ** 2))"
   ]
  },
  {
   "cell_type": "code",
   "execution_count": 10,
   "metadata": {},
   "outputs": [],
   "source": [
    "# angle between Oi-Ci and Ci-Ni+1 should be 123.5° (trans) or 123.0° (cis)\n",
    "# angle between Calphai-Ci and Ci-Ni+1 should be 116.0° (trans) or 118.0° (cis)\n",
    "def calculate_angle(p1, p2, p3):\n",
    "    p1, p2, p3 = np.array(p1), np.array(p2), np.array(p3)\n",
    "    \n",
    "    p1_ref = p1 - p2\n",
    "    p3_ref = p3 - p2\n",
    "    \n",
    "    cosine_angle = np.dot(p1_ref, p3_ref) / (np.linalg.norm(p1_ref) * np.linalg.norm(p3_ref))\n",
    "    angle = np.arccos(cosine_angle)\n",
    "    return np.degrees(angle)"
   ]
  },
  {
   "cell_type": "code",
   "execution_count": 11,
   "metadata": {},
   "outputs": [],
   "source": [
    "# dihedral angle between Calphai-Ci-Ni+1 and Ci-Ni+1-Calphai+1 should be 180°\n",
    "def calculate_dihedral_angle(p1, p2, p3, p4):\n",
    "    p1, p2, p3, p4 = np.array(p1), np.array(p2), np.array(p3), np.array(p4)\n",
    "    \n",
    "    b1 = -1.0 * (p2 - p1)\n",
    "    b2 = p3 - p2\n",
    "    b3 = p4 - p3\n",
    "    \n",
    "    # normalize b2\n",
    "    b2 /= np.linalg.norm(b2)\n",
    "    \n",
    "    # projections of b1 and b3 onto plane perpendicular to b2\n",
    "    v = b1 - np.dot(b1, b2) * b2\n",
    "    w = b3 - np.dot(b3, b2) * b2\n",
    "    \n",
    "    # angle between v and w is the torsion angle\n",
    "    cosine_angle = np.dot(v, w) / (np.linalg.norm(v) * np.linalg.norm(w))\n",
    "    dihedral_angle = np.arccos(cosine_angle)\n",
    "    return np.degrees(np.abs(dihedral_angle))"
   ]
  },
  {
   "cell_type": "markdown",
   "metadata": {},
   "source": [
    "### Calculate Next Amino Acid Translation and Rotation"
   ]
  },
  {
   "cell_type": "markdown",
   "metadata": {},
   "source": [
    "Based on the constraints, we can calculate the translation and rotation of the next amino acid given the previous one. We are going to use the Genetic Algorithm to calculate the necessary translation and rotation in order to satisfy the constraints."
   ]
  },
  {
   "cell_type": "code",
   "execution_count": 12,
   "metadata": {},
   "outputs": [],
   "source": [
    "class GeneticAlgorithm:\n",
    "    def __init__(self, dim_populaton, n_population, previous_aminoacid, next_aminoacid, peptide_group='trans'):\n",
    "        self.DIM_POPULATION = dim_populaton\n",
    "        self.N_POPULATION = n_population\n",
    "        self.peptide_group = peptide_group\n",
    "        \n",
    "        self.distances = []\n",
    "        self.dihedral_angles = []\n",
    "        self.angles_ocn = []\n",
    "        self.angles_ccn = []\n",
    "        self.average_fitness = []\n",
    "        \n",
    "        self.previous_aminoacid = previous_aminoacid\n",
    "        self.next_aminoacid = next_aminoacid\n",
    "\n",
    "        self.population = self.initialize_population()\n",
    "        self.fitness = self.compute_population_fitness()\n",
    "        self.previous_fitness = None\n",
    "\n",
    "        self.iteration = 0\n",
    "\n",
    "\n",
    "    # Initialization\n",
    "    def initialize_population(self):\n",
    "        c_previous = self.previous_aminoacid[self.previous_aminoacid.atom_name == 'C'][['x', 'y', 'z']].values.reshape(-1)\n",
    "        n_next = self.next_aminoacid[self.next_aminoacid.atom_name == 'N'][['x', 'y', 'z']].values.reshape(-1)\n",
    "        \n",
    "        initial_amplitude = np.array([calculate_distance(c_previous, n_next)] * 3 + [1] * 3)\n",
    "        initial_population = [initial_amplitude * np.random.uniform(-1, 1, self.DIM_POPULATION) \n",
    "                              for _ in range(self.N_POPULATION)]\n",
    "\n",
    "        return initial_population\n",
    "\n",
    "    def generate_new_population(self):\n",
    "        new_population = []\n",
    "        for _ in range(self.N_POPULATION // 2):\n",
    "            childrens = self.intermediate_recombination()\n",
    "            new_population.extend([self.gaussian_convolution(children) for children in childrens])\n",
    "\n",
    "        return new_population\n",
    "\n",
    "    # Fitness\n",
    "    def individual_fitness(self, o_previous, c_previous, n_next, c_alpha_previous, c_alpha_next):\n",
    "        desired_dihedral_angle = 180.0\n",
    "        \n",
    "        if self.peptide_group == 'trans':\n",
    "            desired_distance = 1.33\n",
    "            desired_angle_ocn = 123.5\n",
    "            desired_angle_ccn = 116.0\n",
    "        elif self.peptide_group == 'cis':\n",
    "            desired_distance = 1.32\n",
    "            desired_angle_ocn = 123.0\n",
    "            desired_angle_ccn = 118.0\n",
    "        \n",
    "        distance = calculate_distance(c_previous, n_next)\n",
    "        dihedral_angle = calculate_dihedral_angle(c_alpha_previous, c_previous, n_next, c_alpha_next)\n",
    "        angle_ocn = calculate_angle(o_previous, c_previous, n_next)\n",
    "        angle_ccn = calculate_angle(c_alpha_previous, c_previous, n_next)\n",
    "        \n",
    "        self.distances.append(distance)\n",
    "        self.dihedral_angles.append(dihedral_angle)\n",
    "        self.angles_ocn.append(angle_ocn)\n",
    "        self.angles_ccn.append(angle_ccn)\n",
    "        \n",
    "        fitness = (\n",
    "            np.abs(distance - desired_distance) / desired_distance +\n",
    "            np.abs(dihedral_angle - desired_dihedral_angle) / desired_dihedral_angle +\n",
    "            10*np.abs(angle_ocn - desired_angle_ocn) / desired_angle_ocn +\n",
    "            10*np.abs(angle_ccn - desired_angle_ccn) / desired_angle_ccn\n",
    "        )\n",
    "        \n",
    "        return fitness\n",
    "\n",
    "    def compute_population_fitness(self):\n",
    "        population_fitness = []\n",
    "        for individual in self.population:\n",
    "            p_aminoacid = self.previous_aminoacid.copy()\n",
    "            n_aminoacid = self.next_aminoacid.copy()\n",
    "            n_aminoacid = translate(n_aminoacid, individual[:3])\n",
    "            n_aminoacid = rotate(n_aminoacid, individual[3], individual[4], individual[5])\n",
    "            \n",
    "            o_previous = p_aminoacid[p_aminoacid.atom_name == 'O'][['x', 'y', 'z']].values.reshape(-1)\n",
    "            c_previous = p_aminoacid[p_aminoacid.atom_name == 'C'][['x', 'y', 'z']].values.reshape(-1)\n",
    "            n_next = n_aminoacid[n_aminoacid.atom_name == 'N'][['x', 'y', 'z']].values.reshape(-1)\n",
    "            c_alpha_previous = p_aminoacid[p_aminoacid.atom_name == 'CA'][['x', 'y', 'z']].values.reshape(-1)\n",
    "            c_alpha_next = n_aminoacid[n_aminoacid.atom_name == 'CA'][['x', 'y', 'z']].values.reshape(-1)\n",
    "\n",
    "            population_fitness.append(self.individual_fitness(o_previous, c_previous, n_next, c_alpha_previous, c_alpha_next))\n",
    "\n",
    "        return population_fitness\n",
    "    \n",
    "    # Selection\n",
    "    def fitness_proportionate_selection(self):\n",
    "        probabilities = (np.max(self.fitness) - self.fitness) / np.sum(np.max(self.fitness) - self.fitness)\n",
    "        idx = np.random.choice(self.N_POPULATION, replace=True, p=probabilities)\n",
    "\n",
    "        return self.population[idx]\n",
    "\n",
    "    # Crossover\n",
    "    def intermediate_recombination(self):\n",
    "        p = 0.1\n",
    "        alpha = np.random.uniform(-p, 1+p)\n",
    "        beta = np.random.uniform(-p, 1+p)\n",
    "\n",
    "        parent_1 = self.fitness_proportionate_selection()\n",
    "        parent_2 = self.fitness_proportionate_selection()\n",
    "\n",
    "        children_1 = alpha * parent_1 + (1 - alpha) * parent_2\n",
    "        children_2 = beta * parent_1 + (1 - beta) * parent_2\n",
    "\n",
    "        return [children_1, children_2]\n",
    "\n",
    "    # Mutation\n",
    "    def gaussian_convolution(self, children):\n",
    "        add_noise_prob = np.random.rand(self.DIM_POPULATION)\n",
    "\n",
    "        sigma = 0.02\n",
    "        noise = sigma * np.random.randn(self.DIM_POPULATION)\n",
    "\n",
    "        return children + noise * (add_noise_prob > 0.5)\n",
    "\n",
    "    def done(self, epsilon, max_iteration):\n",
    "        converged = (np.abs(np.mean(self.fitness) - np.mean(self.previous_fitness)) < epsilon) \\\n",
    "                     if self.previous_fitness is not None else False\n",
    "        taking_too_long = self.iteration > max_iteration\n",
    "\n",
    "        return converged or taking_too_long\n",
    "\n",
    "    def show_results(self):\n",
    "        print('\\nOptimal Solution:\\n')\n",
    "        print('Tx: %.2fÅ, Ty: %.2fÅ, Tz: %.2fÅ' % tuple(self.population[np.argmin(self.fitness)][:3]))\n",
    "        print('Ax: %.2f°, Ay: %.2f°, Az: %.2f°' % tuple(np.degrees(self.population[np.argmin(self.fitness)][3:])))\n",
    "        \n",
    "        print('\\nOptimized Metrics:\\n')\n",
    "        print('Distance C-N: %.4f' % self.distances[-self.N_POPULATION + np.argmin(self.fitness)])\n",
    "        print('Omega Dihedral Angle: %.2f' % self.dihedral_angles[-self.N_POPULATION + np.argmin(self.fitness)])\n",
    "        print('Angle O-C-N: %.2f' % self.angles_ocn[-self.N_POPULATION + np.argmin(self.fitness)])\n",
    "        print('Angle Calpha-C-N: %.2f\\n' % self.angles_ccn[-self.N_POPULATION + np.argmin(self.fitness)])\n",
    "        \n",
    "        f, (ax1, ax2, ax3, ax4, ax5) = plt.subplots(1, 5, figsize=(22, 5))\n",
    "        ax1.plot(self.average_fitness)\n",
    "        ax1.set_title('Average Fitness Convergence.')\n",
    "        ax2.plot(np.convolve(self.distances, np.ones((10,)) / 10, mode='valid'))\n",
    "        ax2.set_title('Distance C-N.')\n",
    "        ax2.axis([-100, len(self.distances) + 100, 0, 5])\n",
    "        ax3.plot(np.convolve(self.dihedral_angles, np.ones((10,)) / 10, mode='valid'))\n",
    "        ax3.set_title('Omega Dihedral Angle.')\n",
    "        ax3.axis([-100, len(self.dihedral_angles) + 100, 0, 185])\n",
    "        ax4.plot(np.convolve(self.angles_ocn, np.ones((10,)) / 10, mode='valid'))\n",
    "        ax4.set_title('Angle O-C-N.')\n",
    "        ax4.axis([-100, len(self.angles_ocn) + 100, 0, 185])\n",
    "        ax5.plot(np.convolve(self.angles_ccn, np.ones((10,)) / 10, mode='valid'))\n",
    "        ax5.set_title('Angle Calpha-C-N.')\n",
    "        ax5.axis([-100, len(self.angles_ccn) + 100, 0, 185])\n",
    "        plt.show()\n",
    "        \n",
    "    def optimize(self, max_iteration=500):\n",
    "        self.iteration = 0\n",
    "        \n",
    "        while not self.done(epsilon=1e-8, max_iteration=max_iteration):\n",
    "            self.iteration += 1\n",
    "            self.previous_fitness = self.fitness\n",
    "\n",
    "            self.population = self.generate_new_population()\n",
    "            self.fitness = self.compute_population_fitness()\n",
    "\n",
    "            self.average_fitness.append(np.mean(self.fitness))\n",
    "\n",
    "        self.show_results()\n",
    "        \n",
    "        return self.population[np.argmin(self.fitness)][:3], self.population[np.argmin(self.fitness)][3:]"
   ]
  },
  {
   "cell_type": "markdown",
   "metadata": {},
   "source": [
    "#### Testing next amino acid traslation and rotation"
   ]
  },
  {
   "cell_type": "code",
   "execution_count": 13,
   "metadata": {},
   "outputs": [],
   "source": [
    "previous_aminoacid = aminoacids[aminoacids.residue_name == 'THR']\n",
    "next_aminoacid = aminoacids[aminoacids.residue_name == 'THR']"
   ]
  },
  {
   "cell_type": "code",
   "execution_count": 14,
   "metadata": {
    "scrolled": false
   },
   "outputs": [],
   "source": [
    "g = GeneticAlgorithm(6, 10, previous_aminoacid, next_aminoacid)"
   ]
  },
  {
   "cell_type": "code",
   "execution_count": 15,
   "metadata": {
    "scrolled": false
   },
   "outputs": [
    {
     "name": "stdout",
     "output_type": "stream",
     "text": [
      "\n",
      "Optimal Solution:\n",
      "\n",
      "Tx: 3.27Å, Ty: 1.61Å, Tz: 0.01Å\n",
      "Ax: 10.59°, Ay: 38.40°, Az: 17.98°\n",
      "\n",
      "Optimized Metrics:\n",
      "\n",
      "Distance C-N: 1.3227\n",
      "Omega Dihedral Angle: 125.46\n",
      "Angle O-C-N: 123.12\n",
      "Angle Calpha-C-N: 114.89\n",
      "\n"
     ]
    },
    {
     "data": {
      "image/png": "[encoded data removed]",
      "text/plain": [
       "<Figure size 1584x360 with 5 Axes>"
      ]
     },
     "metadata": {},
     "output_type": "display_data"
    }
   ],
   "source": [
    "translation, rotation = g.optimize(500)"
   ]
  },
  {
   "cell_type": "markdown",
   "metadata": {},
   "source": [
    "### Generate Tertiary Structure"
   ]
  },
  {
   "cell_type": "markdown",
   "metadata": {},
   "source": [
    "Once we have a way to calculate the translation and rotation of the next aminoacidd in the chain given the previous one, we can implement the routine to generate the tertiary structure of a protein given the primary structure."
   ]
  },
  {
   "cell_type": "code",
   "execution_count": 16,
   "metadata": {},
   "outputs": [],
   "source": [
    "primary_structure = 'TTCC'\n",
    "# primary_structure = 'TTCCPSIVARSNFNVCRLPGTPEAICATYTGCIIIPGATCPGDYAN'"
   ]
  },
  {
   "cell_type": "code",
   "execution_count": 17,
   "metadata": {},
   "outputs": [],
   "source": [
    "def _infer_tertiary_structure(primary_structure, aminoacids_df):\n",
    "    protein = pd.DataFrame(data=None, columns=['atom_name', 'residue_name', 'residue_seq_number', 'x', 'y', 'z'])    \n",
    "    previous_aminoacid = None\n",
    "    \n",
    "    for i, r in enumerate(primary_structure):\n",
    "        print('Adding amino acid %s...' % symbol_to_residue_name[r])\n",
    "        aminoacid = aminoacids_df[aminoacids_df.residue_name == symbol_to_residue_name[r]].copy()\n",
    "              \n",
    "        if previous_aminoacid is not None:\n",
    "            time.sleep(2)\n",
    "            peptide_group = 'cis' if symbol_to_residue_name[r] == 'PRO' else 'trans'\n",
    "            ga = GeneticAlgorithm(dim_populaton=6, n_population=10,\n",
    "                                  previous_aminoacid=previous_aminoacid, next_aminoacid=aminoacid,\n",
    "                                  peptide_group=peptide_group)\n",
    "            translation, rotation = ga.optimize(max_iteration=1000)\n",
    "            aminoacid = translate(aminoacid, translation)\n",
    "            aminoacid = rotate(aminoacid, rotation[0], rotation[1], rotation[2])\n",
    "        else:\n",
    "            print('This is the first amino acid.')\n",
    "        \n",
    "        aminoacid['residue_seq_number'] = str(i)\n",
    "        \n",
    "        previous_aminoacid = aminoacid\n",
    "        protein = protein.append(aminoacid, sort=True, ignore_index=True)\n",
    "        print('Amino acid %s added.\\n' % symbol_to_residue_name[r])\n",
    "\n",
    "    return protein"
   ]
  },
  {
   "cell_type": "code",
   "execution_count": 18,
   "metadata": {
    "scrolled": false
   },
   "outputs": [
    {
     "name": "stdout",
     "output_type": "stream",
     "text": [
      "Adding amino acid THR...\n",
      "This is the first amino acid.\n",
      "Amino acid THR added.\n",
      "\n",
      "Adding amino acid THR...\n",
      "\n",
      "Optimal Solution:\n",
      "\n",
      "Tx: 3.28Å, Ty: 1.62Å, Tz: -0.05Å\n",
      "Ax: 3.37°, Ay: 4.34°, Az: 48.65°\n",
      "\n",
      "Optimized Metrics:\n",
      "\n",
      "Distance C-N: 1.3373\n",
      "Omega Dihedral Angle: 179.02\n",
      "Angle O-C-N: 122.75\n",
      "Angle Calpha-C-N: 115.22\n",
      "\n"
     ]
    },
    {
     "data": {
      "image/png": "[encoded data removed]",
      "text/plain": [
       "<Figure size 1584x360 with 5 Axes>"
      ]
     },
     "metadata": {},
     "output_type": "display_data"
    },
    {
     "name": "stdout",
     "output_type": "stream",
     "text": [
      "Amino acid THR added.\n",
      "\n",
      "Adding amino acid CYS...\n",
      "\n",
      "Optimal Solution:\n",
      "\n",
      "Tx: 4.20Å, Ty: 5.19Å, Tz: 0.14Å\n",
      "Ax: -114.31°, Ay: -63.52°, Az: -29.97°\n",
      "\n",
      "Optimized Metrics:\n",
      "\n",
      "Distance C-N: 1.3205\n",
      "Omega Dihedral Angle: 179.84\n",
      "Angle O-C-N: 122.92\n",
      "Angle Calpha-C-N: 115.04\n",
      "\n"
     ]
    },
    {
     "data": {
      "image/png": "[encoded data removed]",
      "text/plain": [
       "<Figure size 1584x360 with 5 Axes>"
      ]
     },
     "metadata": {},
     "output_type": "display_data"
    },
    {
     "name": "stdout",
     "output_type": "stream",
     "text": [
      "Amino acid CYS added.\n",
      "\n",
      "Adding amino acid CYS...\n",
      "\n",
      "Optimal Solution:\n",
      "\n",
      "Tx: 5.85Å, Ty: 8.20Å, Tz: -1.14Å\n",
      "Ax: 21.86°, Ay: 76.42°, Az: -24.55°\n",
      "\n",
      "Optimized Metrics:\n",
      "\n",
      "Distance C-N: 1.3327\n",
      "Omega Dihedral Angle: 179.14\n",
      "Angle O-C-N: 122.87\n",
      "Angle Calpha-C-N: 115.06\n",
      "\n"
     ]
    },
    {
     "data": {
      "image/png": "[encoded data removed]",
      "text/plain": [
       "<Figure size 1584x360 with 5 Axes>"
      ]
     },
     "metadata": {},
     "output_type": "display_data"
    },
    {
     "name": "stdout",
     "output_type": "stream",
     "text": [
      "Amino acid CYS added.\n",
      "\n"
     ]
    }
   ],
   "source": [
    "protein = _infer_tertiary_structure(primary_structure, aminoacids)"
   ]
  },
  {
   "cell_type": "code",
   "execution_count": 19,
   "metadata": {},
   "outputs": [
    {
     "data": {
      "text/html": [
       "<div>\n",
       "<style scoped>\n",
       "    .dataframe tbody tr th:only-of-type {\n",
       "        vertical-align: middle;\n",
       "    }\n",
       "\n",
       "    .dataframe tbody tr th {\n",
       "        vertical-align: top;\n",
       "    }\n",
       "\n",
       "    .dataframe thead th {\n",
       "        text-align: right;\n",
       "    }\n",
       "</style>\n",
       "<table border=\"1\" class=\"dataframe\">\n",
       "  <thead>\n",
       "    <tr style=\"text-align: right;\">\n",
       "      <th></th>\n",
       "      <th>atom_name</th>\n",
       "      <th>residue_name</th>\n",
       "      <th>residue_seq_number</th>\n",
       "      <th>x</th>\n",
       "      <th>y</th>\n",
       "      <th>z</th>\n",
       "    </tr>\n",
       "  </thead>\n",
       "  <tbody>\n",
       "    <tr>\n",
       "      <th>0</th>\n",
       "      <td>N</td>\n",
       "      <td>THR</td>\n",
       "      <td>0</td>\n",
       "      <td>0.080000</td>\n",
       "      <td>-0.083000</td>\n",
       "      <td>0.000000</td>\n",
       "    </tr>\n",
       "    <tr>\n",
       "      <th>1</th>\n",
       "      <td>CA</td>\n",
       "      <td>THR</td>\n",
       "      <td>0</td>\n",
       "      <td>1.539000</td>\n",
       "      <td>-0.033000</td>\n",
       "      <td>0.000000</td>\n",
       "    </tr>\n",
       "    <tr>\n",
       "      <th>2</th>\n",
       "      <td>C</td>\n",
       "      <td>THR</td>\n",
       "      <td>0</td>\n",
       "      <td>2.032000</td>\n",
       "      <td>1.394000</td>\n",
       "      <td>0.000000</td>\n",
       "    </tr>\n",
       "    <tr>\n",
       "      <th>3</th>\n",
       "      <td>O</td>\n",
       "      <td>THR</td>\n",
       "      <td>0</td>\n",
       "      <td>1.268000</td>\n",
       "      <td>2.339000</td>\n",
       "      <td>0.000000</td>\n",
       "    </tr>\n",
       "    <tr>\n",
       "      <th>4</th>\n",
       "      <td>CB</td>\n",
       "      <td>THR</td>\n",
       "      <td>0</td>\n",
       "      <td>2.116000</td>\n",
       "      <td>-0.818000</td>\n",
       "      <td>-1.226000</td>\n",
       "    </tr>\n",
       "    <tr>\n",
       "      <th>5</th>\n",
       "      <td>OG1</td>\n",
       "      <td>THR</td>\n",
       "      <td>0</td>\n",
       "      <td>1.743000</td>\n",
       "      <td>-2.188000</td>\n",
       "      <td>-1.162000</td>\n",
       "    </tr>\n",
       "    <tr>\n",
       "      <th>6</th>\n",
       "      <td>CG2</td>\n",
       "      <td>THR</td>\n",
       "      <td>0</td>\n",
       "      <td>3.654000</td>\n",
       "      <td>-0.842000</td>\n",
       "      <td>-1.361000</td>\n",
       "    </tr>\n",
       "    <tr>\n",
       "      <th>7</th>\n",
       "      <td>1H</td>\n",
       "      <td>THR</td>\n",
       "      <td>0</td>\n",
       "      <td>-0.523000</td>\n",
       "      <td>0.813000</td>\n",
       "      <td>0.000000</td>\n",
       "    </tr>\n",
       "    <tr>\n",
       "      <th>8</th>\n",
       "      <td>2H</td>\n",
       "      <td>THR</td>\n",
       "      <td>0</td>\n",
       "      <td>-0.461000</td>\n",
       "      <td>-1.018000</td>\n",
       "      <td>0.000000</td>\n",
       "    </tr>\n",
       "    <tr>\n",
       "      <th>9</th>\n",
       "      <td>HA</td>\n",
       "      <td>THR</td>\n",
       "      <td>0</td>\n",
       "      <td>1.904000</td>\n",
       "      <td>-0.508000</td>\n",
       "      <td>0.929000</td>\n",
       "    </tr>\n",
       "    <tr>\n",
       "      <th>10</th>\n",
       "      <td>HB</td>\n",
       "      <td>THR</td>\n",
       "      <td>0</td>\n",
       "      <td>1.691000</td>\n",
       "      <td>-0.378000</td>\n",
       "      <td>-2.154000</td>\n",
       "    </tr>\n",
       "    <tr>\n",
       "      <th>11</th>\n",
       "      <td>HG1</td>\n",
       "      <td>THR</td>\n",
       "      <td>0</td>\n",
       "      <td>2.066000</td>\n",
       "      <td>-2.592000</td>\n",
       "      <td>-1.973000</td>\n",
       "    </tr>\n",
       "    <tr>\n",
       "      <th>12</th>\n",
       "      <td>1HG2</td>\n",
       "      <td>THR</td>\n",
       "      <td>0</td>\n",
       "      <td>3.986000</td>\n",
       "      <td>-1.433000</td>\n",
       "      <td>-2.235000</td>\n",
       "    </tr>\n",
       "    <tr>\n",
       "      <th>13</th>\n",
       "      <td>2HG2</td>\n",
       "      <td>THR</td>\n",
       "      <td>0</td>\n",
       "      <td>4.083000</td>\n",
       "      <td>0.168000</td>\n",
       "      <td>-1.502000</td>\n",
       "    </tr>\n",
       "    <tr>\n",
       "      <th>14</th>\n",
       "      <td>3HG2</td>\n",
       "      <td>THR</td>\n",
       "      <td>0</td>\n",
       "      <td>4.138000</td>\n",
       "      <td>-1.279000</td>\n",
       "      <td>-0.467000</td>\n",
       "    </tr>\n",
       "    <tr>\n",
       "      <th>15</th>\n",
       "      <td>OC</td>\n",
       "      <td>THR</td>\n",
       "      <td>0</td>\n",
       "      <td>3.452000</td>\n",
       "      <td>1.567000</td>\n",
       "      <td>0.000000</td>\n",
       "    </tr>\n",
       "    <tr>\n",
       "      <th>16</th>\n",
       "      <td>HC</td>\n",
       "      <td>THR</td>\n",
       "      <td>0</td>\n",
       "      <td>3.911000</td>\n",
       "      <td>0.645000</td>\n",
       "      <td>0.000000</td>\n",
       "    </tr>\n",
       "    <tr>\n",
       "      <th>17</th>\n",
       "      <td>N</td>\n",
       "      <td>THR</td>\n",
       "      <td>1</td>\n",
       "      <td>3.360564</td>\n",
       "      <td>1.537759</td>\n",
       "      <td>-0.050925</td>\n",
       "    </tr>\n",
       "    <tr>\n",
       "      <th>18</th>\n",
       "      <td>CA</td>\n",
       "      <td>THR</td>\n",
       "      <td>1</td>\n",
       "      <td>4.284189</td>\n",
       "      <td>2.668284</td>\n",
       "      <td>-0.054626</td>\n",
       "    </tr>\n",
       "    <tr>\n",
       "      <th>19</th>\n",
       "      <td>C</td>\n",
       "      <td>THR</td>\n",
       "      <td>1</td>\n",
       "      <td>3.540699</td>\n",
       "      <td>3.975497</td>\n",
       "      <td>0.078771</td>\n",
       "    </tr>\n",
       "  </tbody>\n",
       "</table>\n",
       "</div>"
      ],
      "text/plain": [
       "   atom_name residue_name residue_seq_number         x         y         z\n",
       "0          N          THR                  0  0.080000 -0.083000  0.000000\n",
       "1         CA          THR                  0  1.539000 -0.033000  0.000000\n",
       "2          C          THR                  0  2.032000  1.394000  0.000000\n",
       "3          O          THR                  0  1.268000  2.339000  0.000000\n",
       "4         CB          THR                  0  2.116000 -0.818000 -1.226000\n",
       "5        OG1          THR                  0  1.743000 -2.188000 -1.162000\n",
       "6        CG2          THR                  0  3.654000 -0.842000 -1.361000\n",
       "7         1H          THR                  0 -0.523000  0.813000  0.000000\n",
       "8         2H          THR                  0 -0.461000 -1.018000  0.000000\n",
       "9         HA          THR                  0  1.904000 -0.508000  0.929000\n",
       "10        HB          THR                  0  1.691000 -0.378000 -2.154000\n",
       "11       HG1          THR                  0  2.066000 -2.592000 -1.973000\n",
       "12      1HG2          THR                  0  3.986000 -1.433000 -2.235000\n",
       "13      2HG2          THR                  0  4.083000  0.168000 -1.502000\n",
       "14      3HG2          THR                  0  4.138000 -1.279000 -0.467000\n",
       "15        OC          THR                  0  3.452000  1.567000  0.000000\n",
       "16        HC          THR                  0  3.911000  0.645000  0.000000\n",
       "17         N          THR                  1  3.360564  1.537759 -0.050925\n",
       "18        CA          THR                  1  4.284189  2.668284 -0.054626\n",
       "19         C          THR                  1  3.540699  3.975497  0.078771"
      ]
     },
     "execution_count": 19,
     "metadata": {},
     "output_type": "execute_result"
    }
   ],
   "source": [
    "protein.head(20)"
   ]
  },
  {
   "cell_type": "markdown",
   "metadata": {},
   "source": [
    "# Q2) PHI and PSI angles"
   ]
  },
  {
   "cell_type": "markdown",
   "metadata": {},
   "source": [
    "**Reference Plane:** The reference plane for both phi and psi contains three atoms: the nitrogen in the amino group, the alpha carbon, and the carbon in the carboxyl group.\n",
    "\n",
    "**PHI:** The plane for phi contains the carboxyl carbon from the previous segment, plus the amino nitrogen and the alpha carbon from the segment in question. Phi is the angle between this plane and the reference plane.\n",
    "\n",
    "<h5><center>PHI atoms: C(i-1)-N(i)-Calpha(i)-C(i)</center></h5>\n",
    "\n",
    "**PHI:** The plane for psi contains the amino nitrogen from the next segment, plus carboxyl carbon and the alpha carbon from the segment in question. Psi is the angle between this plane and the reference plane.\n",
    "\n",
    "<h5><center>PSI atoms: N(i)-Calpha(i)-C(i)-N(i+1)</center></h5>\n",
    "\n",
    "Source: https://www.open.edu/openlearn/science-maths-technology/science/biology/proteins/content-section-1.2"
   ]
  },
  {
   "cell_type": "code",
   "execution_count": 21,
   "metadata": {},
   "outputs": [],
   "source": [
    "def _infer_phi(c_previous, n_current, c_alpha_current, c_current):\n",
    "    return calculate_dihedral_angle(c_previous, n_current, c_alpha_current, c_current)\n",
    "\n",
    "\n",
    "def _infer_psi(n_current, c_alpha_current, c_current, n_next):\n",
    "    return calculate_dihedral_angle(n_current, c_alpha_current, c_current, n_next)\n",
    "\n",
    "\n",
    "def infer_phi_psi(protein):\n",
    "    phi_psi = pd.DataFrame(data=None, columns=['amino', 'phi', 'psi'])    \n",
    "    previous_aminoacid = None\n",
    "    \n",
    "    for i in protein.residue_seq_number.unique():\n",
    "        current_aminoacid = protein[protein.residue_seq_number == str(i)].copy()\n",
    "        next_aminoacid = protein[protein.residue_seq_number == str(int(i)+1)].copy() \n",
    "        next_aminoacid = next_aminoacid if not next_aminoacid.empty else None\n",
    "        \n",
    "        c_previous = previous_aminoacid[previous_aminoacid.atom_name == 'C'][['x', 'y', 'z']].values.reshape(-1)\\\n",
    "                     if previous_aminoacid is not None else None\n",
    "        n_current = current_aminoacid[current_aminoacid.atom_name == 'N'][['x', 'y', 'z']].values.reshape(-1)\n",
    "        c_alpha_current = current_aminoacid[current_aminoacid.atom_name == 'CA'][['x', 'y', 'z']].values.reshape(-1)\n",
    "        c_current = current_aminoacid[current_aminoacid.atom_name == 'C'][['x', 'y', 'z']].values.reshape(-1)\n",
    "        n_next = next_aminoacid[next_aminoacid.atom_name == 'N'][['x', 'y', 'z']].values.reshape(-1)\\\n",
    "                 if next_aminoacid is not None else None\n",
    "\n",
    "        \n",
    "        phi = _infer_phi(c_previous, n_current, c_alpha_current, c_current) if previous_aminoacid is not None else None\n",
    "        psi = _infer_psi(n_current, c_alpha_current, c_current, n_next) if next_aminoacid is not None else None\n",
    "        \n",
    "        previous_aminoacid = current_aminoacid\n",
    "        \n",
    "        new_phi_psi = pd.DataFrame(data={'amino': [current_aminoacid.residue_name.iloc[0]], \n",
    "                                         'phi': [phi], \n",
    "                                         'psi':[psi]})  \n",
    "        phi_psi = phi_psi.append(new_phi_psi, sort=True, ignore_index=True)\n",
    "\n",
    "    return phi_psi"
   ]
  },
  {
   "cell_type": "code",
   "execution_count": 22,
   "metadata": {},
   "outputs": [],
   "source": [
    "phi_psi = infer_phi_psi(protein)"
   ]
  },
  {
   "cell_type": "code",
   "execution_count": 23,
   "metadata": {},
   "outputs": [
    {
     "data": {
      "text/html": [
       "<div>\n",
       "<style scoped>\n",
       "    .dataframe tbody tr th:only-of-type {\n",
       "        vertical-align: middle;\n",
       "    }\n",
       "\n",
       "    .dataframe tbody tr th {\n",
       "        vertical-align: top;\n",
       "    }\n",
       "\n",
       "    .dataframe thead th {\n",
       "        text-align: right;\n",
       "    }\n",
       "</style>\n",
       "<table border=\"1\" class=\"dataframe\">\n",
       "  <thead>\n",
       "    <tr style=\"text-align: right;\">\n",
       "      <th></th>\n",
       "      <th>amino</th>\n",
       "      <th>phi</th>\n",
       "      <th>psi</th>\n",
       "    </tr>\n",
       "  </thead>\n",
       "  <tbody>\n",
       "    <tr>\n",
       "      <th>0</th>\n",
       "      <td>THR</td>\n",
       "      <td>NaN</td>\n",
       "      <td>177.588</td>\n",
       "    </tr>\n",
       "    <tr>\n",
       "      <th>1</th>\n",
       "      <td>THR</td>\n",
       "      <td>2.526768</td>\n",
       "      <td>177.439</td>\n",
       "    </tr>\n",
       "    <tr>\n",
       "      <th>2</th>\n",
       "      <td>CYS</td>\n",
       "      <td>104.546548</td>\n",
       "      <td>179.043</td>\n",
       "    </tr>\n",
       "    <tr>\n",
       "      <th>3</th>\n",
       "      <td>CYS</td>\n",
       "      <td>160.216664</td>\n",
       "      <td>None</td>\n",
       "    </tr>\n",
       "  </tbody>\n",
       "</table>\n",
       "</div>"
      ],
      "text/plain": [
       "  amino         phi      psi\n",
       "0   THR         NaN  177.588\n",
       "1   THR    2.526768  177.439\n",
       "2   CYS  104.546548  179.043\n",
       "3   CYS  160.216664     None"
      ]
     },
     "execution_count": 23,
     "metadata": {},
     "output_type": "execute_result"
    }
   ],
   "source": [
    "phi_psi"
   ]
  },
  {
   "cell_type": "markdown",
   "metadata": {},
   "source": [
    "# Q3) Ramachandran Plot"
   ]
  },
  {
   "cell_type": "code",
   "execution_count": 24,
   "metadata": {},
   "outputs": [],
   "source": [
    "ramachandran = infer_phi_psi(molecule)"
   ]
  },
  {
   "cell_type": "code",
   "execution_count": 25,
   "metadata": {},
   "outputs": [
    {
     "data": {
      "text/html": [
       "<div>\n",
       "<style scoped>\n",
       "    .dataframe tbody tr th:only-of-type {\n",
       "        vertical-align: middle;\n",
       "    }\n",
       "\n",
       "    .dataframe tbody tr th {\n",
       "        vertical-align: top;\n",
       "    }\n",
       "\n",
       "    .dataframe thead th {\n",
       "        text-align: right;\n",
       "    }\n",
       "</style>\n",
       "<table border=\"1\" class=\"dataframe\">\n",
       "  <thead>\n",
       "    <tr style=\"text-align: right;\">\n",
       "      <th></th>\n",
       "      <th>amino</th>\n",
       "      <th>phi</th>\n",
       "      <th>psi</th>\n",
       "    </tr>\n",
       "  </thead>\n",
       "  <tbody>\n",
       "    <tr>\n",
       "      <th>0</th>\n",
       "      <td>THR</td>\n",
       "      <td>NaN</td>\n",
       "      <td>147.66</td>\n",
       "    </tr>\n",
       "    <tr>\n",
       "      <th>1</th>\n",
       "      <td>THR</td>\n",
       "      <td>107.832573</td>\n",
       "      <td>144.346</td>\n",
       "    </tr>\n",
       "    <tr>\n",
       "      <th>2</th>\n",
       "      <td>CYS</td>\n",
       "      <td>131.170389</td>\n",
       "      <td>133.291</td>\n",
       "    </tr>\n",
       "    <tr>\n",
       "      <th>3</th>\n",
       "      <td>CYS</td>\n",
       "      <td>118.896523</td>\n",
       "      <td>151.203</td>\n",
       "    </tr>\n",
       "    <tr>\n",
       "      <th>4</th>\n",
       "      <td>PRO</td>\n",
       "      <td>76.181506</td>\n",
       "      <td>18.9794</td>\n",
       "    </tr>\n",
       "  </tbody>\n",
       "</table>\n",
       "</div>"
      ],
      "text/plain": [
       "  amino         phi      psi\n",
       "0   THR         NaN   147.66\n",
       "1   THR  107.832573  144.346\n",
       "2   CYS  131.170389  133.291\n",
       "3   CYS  118.896523  151.203\n",
       "4   PRO   76.181506  18.9794"
      ]
     },
     "execution_count": 25,
     "metadata": {},
     "output_type": "execute_result"
    }
   ],
   "source": [
    "ramachandran.head()"
   ]
  },
  {
   "cell_type": "code",
   "execution_count": 26,
   "metadata": {},
   "outputs": [
    {
     "data": {
      "image/png": "[encoded data removed]",
      "text/plain": [
       "<Figure size 576x576 with 1 Axes>"
      ]
     },
     "metadata": {},
     "output_type": "display_data"
    }
   ],
   "source": [
    "plt.figure(figsize=(8,8))\n",
    "plt.title('Ramachandran Plot for 1CRN.')\n",
    "plt.plot(ramachandran.phi, ramachandran.psi, '*')\n",
    "plt.plot(np.linspace(-180, 180, len(ramachandran.phi)), np.zeros(len(ramachandran.psi)), 'k')\n",
    "plt.plot(np.zeros(len(ramachandran.phi)), np.linspace(-180, 180, len(ramachandran.psi)), 'k')\n",
    "plt.grid()\n",
    "plt.axis([-180, 180, -180, 180])\n",
    "plt.show()"
   ]
  },
  {
   "cell_type": "markdown",
   "metadata": {},
   "source": [
    "Done!"
   ]
  }
 ],
 "metadata": {
  "kernelspec": {
   "display_name": "Python 3",
   "language": "python",
   "name": "python3"
  },
  "language_info": {
   "codemirror_mode": {
    "name": "ipython",
    "version": 3
   },
   "file_extension": ".py",
   "mimetype": "text/x-python",
   "name": "python",
   "nbconvert_exporter": "python",
   "pygments_lexer": "ipython3",
   "version": "3.6.5"
  }
 },
 "nbformat": 4,
 "nbformat_minor": 2
}
