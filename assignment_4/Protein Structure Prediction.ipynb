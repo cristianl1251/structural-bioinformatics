{
 "cells": [
  {
   "cell_type": "markdown",
   "metadata": {},
   "source": [
    "**CMP585 - Structural Bioinformatics**\n",
    "\n",
    "Cristian Lopes\n",
    "\n",
    "*Assignment 4*"
   ]
  },
  {
   "cell_type": "code",
   "execution_count": 1,
   "metadata": {},
   "outputs": [],
   "source": [
    "import pandas as pd\n",
    "import numpy as np\n",
    "import glob\n",
    "import matplotlib.pyplot as plt\n",
    "import time\n",
    "import os"
   ]
  },
  {
   "cell_type": "markdown",
   "metadata": {},
   "source": [
    "# Load Data"
   ]
  },
  {
   "cell_type": "code",
   "execution_count": 2,
   "metadata": {},
   "outputs": [],
   "source": [
    "def read_molecule(path):\n",
    "    atoms = []\n",
    "    with open(path, 'r') as f:\n",
    "        for line in f:\n",
    "            if line.startswith('ATOM'):\n",
    "                atoms.append({'atom_name': line[12:16].strip(),\n",
    "                              'element': line[77:78].strip(),\n",
    "                             'residue_name': line[17:20].strip(),\n",
    "                             'residue_seq_number': line[22:26].strip(),\n",
    "                             'x': float(line[30:38].strip()), \n",
    "                             'y': float(line[38:46].strip()),\n",
    "                             'z': float(line[46:54].strip())})\n",
    "    return pd.DataFrame(atoms)"
   ]
  },
  {
   "cell_type": "code",
   "execution_count": 3,
   "metadata": {},
   "outputs": [],
   "source": [
    "molecule = read_molecule('./data/1rop.pdb')"
   ]
  },
  {
   "cell_type": "code",
   "execution_count": 4,
   "metadata": {},
   "outputs": [
    {
     "data": {
      "text/html": [
       "<div>\n",
       "<style scoped>\n",
       "    .dataframe tbody tr th:only-of-type {\n",
       "        vertical-align: middle;\n",
       "    }\n",
       "\n",
       "    .dataframe tbody tr th {\n",
       "        vertical-align: top;\n",
       "    }\n",
       "\n",
       "    .dataframe thead th {\n",
       "        text-align: right;\n",
       "    }\n",
       "</style>\n",
       "<table border=\"1\" class=\"dataframe\">\n",
       "  <thead>\n",
       "    <tr style=\"text-align: right;\">\n",
       "      <th></th>\n",
       "      <th>atom_name</th>\n",
       "      <th>element</th>\n",
       "      <th>residue_name</th>\n",
       "      <th>residue_seq_number</th>\n",
       "      <th>x</th>\n",
       "      <th>y</th>\n",
       "      <th>z</th>\n",
       "    </tr>\n",
       "  </thead>\n",
       "  <tbody>\n",
       "    <tr>\n",
       "      <th>0</th>\n",
       "      <td>N</td>\n",
       "      <td>N</td>\n",
       "      <td>MET</td>\n",
       "      <td>1</td>\n",
       "      <td>31.007</td>\n",
       "      <td>2.290</td>\n",
       "      <td>18.034</td>\n",
       "    </tr>\n",
       "    <tr>\n",
       "      <th>1</th>\n",
       "      <td>CA</td>\n",
       "      <td>C</td>\n",
       "      <td>MET</td>\n",
       "      <td>1</td>\n",
       "      <td>32.390</td>\n",
       "      <td>2.582</td>\n",
       "      <td>17.546</td>\n",
       "    </tr>\n",
       "    <tr>\n",
       "      <th>2</th>\n",
       "      <td>C</td>\n",
       "      <td>C</td>\n",
       "      <td>MET</td>\n",
       "      <td>1</td>\n",
       "      <td>32.808</td>\n",
       "      <td>1.432</td>\n",
       "      <td>16.618</td>\n",
       "    </tr>\n",
       "    <tr>\n",
       "      <th>3</th>\n",
       "      <td>O</td>\n",
       "      <td>O</td>\n",
       "      <td>MET</td>\n",
       "      <td>1</td>\n",
       "      <td>32.375</td>\n",
       "      <td>0.280</td>\n",
       "      <td>16.846</td>\n",
       "    </tr>\n",
       "    <tr>\n",
       "      <th>4</th>\n",
       "      <td>CB</td>\n",
       "      <td>C</td>\n",
       "      <td>MET</td>\n",
       "      <td>1</td>\n",
       "      <td>33.271</td>\n",
       "      <td>2.428</td>\n",
       "      <td>18.810</td>\n",
       "    </tr>\n",
       "    <tr>\n",
       "      <th>5</th>\n",
       "      <td>CG</td>\n",
       "      <td>C</td>\n",
       "      <td>MET</td>\n",
       "      <td>1</td>\n",
       "      <td>34.257</td>\n",
       "      <td>3.540</td>\n",
       "      <td>18.961</td>\n",
       "    </tr>\n",
       "    <tr>\n",
       "      <th>6</th>\n",
       "      <td>SD</td>\n",
       "      <td>S</td>\n",
       "      <td>MET</td>\n",
       "      <td>1</td>\n",
       "      <td>35.104</td>\n",
       "      <td>3.150</td>\n",
       "      <td>20.545</td>\n",
       "    </tr>\n",
       "    <tr>\n",
       "      <th>7</th>\n",
       "      <td>CE</td>\n",
       "      <td>C</td>\n",
       "      <td>MET</td>\n",
       "      <td>1</td>\n",
       "      <td>33.734</td>\n",
       "      <td>3.285</td>\n",
       "      <td>21.683</td>\n",
       "    </tr>\n",
       "    <tr>\n",
       "      <th>8</th>\n",
       "      <td>N</td>\n",
       "      <td>N</td>\n",
       "      <td>THR</td>\n",
       "      <td>2</td>\n",
       "      <td>33.714</td>\n",
       "      <td>1.715</td>\n",
       "      <td>15.687</td>\n",
       "    </tr>\n",
       "    <tr>\n",
       "      <th>9</th>\n",
       "      <td>CA</td>\n",
       "      <td>C</td>\n",
       "      <td>THR</td>\n",
       "      <td>2</td>\n",
       "      <td>34.312</td>\n",
       "      <td>0.620</td>\n",
       "      <td>14.917</td>\n",
       "    </tr>\n",
       "    <tr>\n",
       "      <th>10</th>\n",
       "      <td>C</td>\n",
       "      <td>C</td>\n",
       "      <td>THR</td>\n",
       "      <td>2</td>\n",
       "      <td>35.377</td>\n",
       "      <td>-0.102</td>\n",
       "      <td>15.718</td>\n",
       "    </tr>\n",
       "    <tr>\n",
       "      <th>11</th>\n",
       "      <td>O</td>\n",
       "      <td>O</td>\n",
       "      <td>THR</td>\n",
       "      <td>2</td>\n",
       "      <td>35.855</td>\n",
       "      <td>0.431</td>\n",
       "      <td>16.788</td>\n",
       "    </tr>\n",
       "    <tr>\n",
       "      <th>12</th>\n",
       "      <td>CB</td>\n",
       "      <td>C</td>\n",
       "      <td>THR</td>\n",
       "      <td>2</td>\n",
       "      <td>34.953</td>\n",
       "      <td>1.126</td>\n",
       "      <td>13.554</td>\n",
       "    </tr>\n",
       "    <tr>\n",
       "      <th>13</th>\n",
       "      <td>OG1</td>\n",
       "      <td>O</td>\n",
       "      <td>THR</td>\n",
       "      <td>2</td>\n",
       "      <td>36.104</td>\n",
       "      <td>1.971</td>\n",
       "      <td>13.955</td>\n",
       "    </tr>\n",
       "    <tr>\n",
       "      <th>14</th>\n",
       "      <td>CG2</td>\n",
       "      <td>C</td>\n",
       "      <td>THR</td>\n",
       "      <td>2</td>\n",
       "      <td>33.901</td>\n",
       "      <td>1.999</td>\n",
       "      <td>12.806</td>\n",
       "    </tr>\n",
       "    <tr>\n",
       "      <th>15</th>\n",
       "      <td>N</td>\n",
       "      <td>N</td>\n",
       "      <td>LYS</td>\n",
       "      <td>3</td>\n",
       "      <td>35.824</td>\n",
       "      <td>-1.200</td>\n",
       "      <td>15.190</td>\n",
       "    </tr>\n",
       "    <tr>\n",
       "      <th>16</th>\n",
       "      <td>CA</td>\n",
       "      <td>C</td>\n",
       "      <td>LYS</td>\n",
       "      <td>3</td>\n",
       "      <td>36.887</td>\n",
       "      <td>-1.985</td>\n",
       "      <td>15.858</td>\n",
       "    </tr>\n",
       "    <tr>\n",
       "      <th>17</th>\n",
       "      <td>C</td>\n",
       "      <td>C</td>\n",
       "      <td>LYS</td>\n",
       "      <td>3</td>\n",
       "      <td>38.179</td>\n",
       "      <td>-1.233</td>\n",
       "      <td>15.828</td>\n",
       "    </tr>\n",
       "    <tr>\n",
       "      <th>18</th>\n",
       "      <td>O</td>\n",
       "      <td>O</td>\n",
       "      <td>LYS</td>\n",
       "      <td>3</td>\n",
       "      <td>38.975</td>\n",
       "      <td>-1.183</td>\n",
       "      <td>16.851</td>\n",
       "    </tr>\n",
       "    <tr>\n",
       "      <th>19</th>\n",
       "      <td>CB</td>\n",
       "      <td>C</td>\n",
       "      <td>LYS</td>\n",
       "      <td>3</td>\n",
       "      <td>37.042</td>\n",
       "      <td>-3.397</td>\n",
       "      <td>15.357</td>\n",
       "    </tr>\n",
       "  </tbody>\n",
       "</table>\n",
       "</div>"
      ],
      "text/plain": [
       "   atom_name element residue_name residue_seq_number       x      y       z\n",
       "0          N       N          MET                  1  31.007  2.290  18.034\n",
       "1         CA       C          MET                  1  32.390  2.582  17.546\n",
       "2          C       C          MET                  1  32.808  1.432  16.618\n",
       "3          O       O          MET                  1  32.375  0.280  16.846\n",
       "4         CB       C          MET                  1  33.271  2.428  18.810\n",
       "5         CG       C          MET                  1  34.257  3.540  18.961\n",
       "6         SD       S          MET                  1  35.104  3.150  20.545\n",
       "7         CE       C          MET                  1  33.734  3.285  21.683\n",
       "8          N       N          THR                  2  33.714  1.715  15.687\n",
       "9         CA       C          THR                  2  34.312  0.620  14.917\n",
       "10         C       C          THR                  2  35.377 -0.102  15.718\n",
       "11         O       O          THR                  2  35.855  0.431  16.788\n",
       "12        CB       C          THR                  2  34.953  1.126  13.554\n",
       "13       OG1       O          THR                  2  36.104  1.971  13.955\n",
       "14       CG2       C          THR                  2  33.901  1.999  12.806\n",
       "15         N       N          LYS                  3  35.824 -1.200  15.190\n",
       "16        CA       C          LYS                  3  36.887 -1.985  15.858\n",
       "17         C       C          LYS                  3  38.179 -1.233  15.828\n",
       "18         O       O          LYS                  3  38.975 -1.183  16.851\n",
       "19        CB       C          LYS                  3  37.042 -3.397  15.357"
      ]
     },
     "execution_count": 4,
     "metadata": {},
     "output_type": "execute_result"
    }
   ],
   "source": [
    "molecule.head(20)"
   ]
  },
  {
   "cell_type": "markdown",
   "metadata": {},
   "source": [
    "# Q1 - a) Peptide Bond"
   ]
  },
  {
   "cell_type": "markdown",
   "metadata": {},
   "source": [
    "First of all, we define the symbol of each amino acid."
   ]
  },
  {
   "cell_type": "code",
   "execution_count": 5,
   "metadata": {},
   "outputs": [],
   "source": [
    "symbol_to_residue_name = {\n",
    "    'T': 'THR', 'C': 'CYS', 'P': 'PRO', 'S': 'SER', 'I': 'ILE',\n",
    "    'V': 'VAL', 'A': 'ALA', 'R': 'ARG', 'N': 'ASN', 'F': 'PHE',\n",
    "    'L': 'LEU', 'G': 'GLY', 'E': 'GLU', 'D': 'ASP', 'Y': 'TYR',\n",
    "    'M': 'MET', 'K': 'LYS', 'Q': 'GLN', 'H': 'HIS', 'W': 'TRP'\n",
    "}"
   ]
  },
  {
   "cell_type": "markdown",
   "metadata": {},
   "source": [
    "## Load Amino Acids"
   ]
  },
  {
   "cell_type": "markdown",
   "metadata": {},
   "source": [
    "Then, we load the amino acids from the Protein Data Bank."
   ]
  },
  {
   "cell_type": "code",
   "execution_count": 6,
   "metadata": {},
   "outputs": [],
   "source": [
    "AMINOACID_PATH = './data/amino_acids/'\n",
    "aminoacids = pd.DataFrame()\n",
    "\n",
    "for f in glob.glob(AMINOACID_PATH + \"*.pdb\"):\n",
    "    aminoacids = aminoacids.append(read_molecule(f))"
   ]
  },
  {
   "cell_type": "markdown",
   "metadata": {},
   "source": [
    "Right now, we have a dictionnary of amino acids containing the position of each atom inside the amino acid."
   ]
  },
  {
   "cell_type": "markdown",
   "metadata": {},
   "source": [
    "## Translation and rotation"
   ]
  },
  {
   "cell_type": "markdown",
   "metadata": {},
   "source": [
    "Next step is to replace each symbol of the primary structure by its corresponding residue. First, we define a translation and a rotation function to move and rotate the next amino acid given the position of the previous aminoacid."
   ]
  },
  {
   "cell_type": "code",
   "execution_count": 7,
   "metadata": {},
   "outputs": [],
   "source": [
    "def translate(aminoacid, translation):\n",
    "    aminoacid[['x', 'y', 'z']] = aminoacid[['x', 'y', 'z']] + translation\n",
    "    return aminoacid"
   ]
  },
  {
   "cell_type": "code",
   "execution_count": 8,
   "metadata": {},
   "outputs": [],
   "source": [
    "def translation_to_origin(aminoacid, ref_atom='N'):\n",
    "    ref_translation = aminoacid[aminoacid.atom_name == ref_atom][['x', 'y', 'z']].values.reshape(-1)\n",
    "    return ref_translation, translate(aminoacid, -ref_translation)\n",
    "\n",
    "def rotate(aminoacid, angle_x, angle_y, angle_z):  \n",
    "    Rx = [[1, 0, 0], [0, np.cos(angle_x), -np.sin(angle_x)], [0, np.sin(angle_x), np.cos(angle_x)]]\n",
    "    Ry = [[np.cos(angle_y), 0, np.sin(angle_y)], [0, 1, 0], [-np.sin(angle_y), 0, np.cos(angle_y)]]\n",
    "    Rz = [[np.cos(angle_z), -np.sin(angle_z), 0], [np.sin(angle_z), np.cos(angle_z), 0], [0, 0, 1]]\n",
    "    R = np.dot(np.dot(Rx, Ry), Rz)\n",
    "    display(R)\n",
    "    \n",
    "    ref_translation, aminoacid = translation_to_origin(aminoacid)\n",
    "    display(aminoacid)\n",
    "    aminoacid[['x', 'y', 'z']] = R.dot(aminoacid[['x', 'y', 'z']].values.T).T\n",
    "    aminoacid = translate(aminoacid, ref_translation)\n",
    "\n",
    "    return aminoacid"
   ]
  },
  {
   "cell_type": "markdown",
   "metadata": {},
   "source": [
    "## Peptide Bond  Formation"
   ]
  },
  {
   "cell_type": "markdown",
   "metadata": {},
   "source": [
    "A peptide bond is a chemical bond formed between two molecules when the carboxyl group of one molecule reacts with the amino group of the other molecule, releasing a molecule of water (H2O). So, given the position of the Oxygen of the carboxyl group of the previous molecule and the position of the Nitrogen of the next molecule, we can translate the next molecule in order for its Nitrogen to be around the Oxygen position of the previous molecule."
   ]
  },
  {
   "cell_type": "code",
   "execution_count": 9,
   "metadata": {},
   "outputs": [],
   "source": [
    "sequence = 'MTKQEKTALNMARFIRSQTLTLLEKLNELDADEQADICESLHDHADELYRSCLARF' # GDDGENL'"
   ]
  },
  {
   "cell_type": "code",
   "execution_count": 10,
   "metadata": {},
   "outputs": [],
   "source": [
    "def _calculate_translation(previous_aminoacid, next_aminoacid):\n",
    "    o_pos = previous_aminoacid[previous_aminoacid.atom_name == 'OC'][['x', 'y', 'z']].values.reshape(-1)\n",
    "    n_pos = next_aminoacid[next_aminoacid.atom_name == 'N'][['x', 'y', 'z']].values.reshape(-1)\n",
    "    return o_pos - n_pos       \n",
    "\n",
    "def _remove_H2O(aminoacid):\n",
    "    return aminoacid[~aminoacid.atom_name.isin(['OC', 'HC', '1H'])]\n",
    "\n",
    "def assemble_3D_structure(sequence, aminoacids_df):\n",
    "    protein = pd.DataFrame(data=None, columns=['atom_name', 'element','residue_name', 'residue_seq_number', 'x', 'y', 'z'])    \n",
    "    previous_aminoacid, rotation = None, (0.0, 0.0, 0.0)\n",
    "    \n",
    "    for i, r in enumerate(sequence):\n",
    "        aminoacid = aminoacids_df[aminoacids_df.residue_name == symbol_to_residue_name[r]].copy()\n",
    "              \n",
    "        if previous_aminoacid is not None:\n",
    "            translation = _calculate_translation(previous_aminoacid, aminoacid)\n",
    "            aminoacid = translate(aminoacid, translation)\n",
    "        \n",
    "        aminoacid['residue_seq_number'] = str(i+1)\n",
    "        \n",
    "        previous_aminoacid = aminoacid\n",
    "        \n",
    "        aminoacid = _remove_H2O(aminoacid)\n",
    "        protein = protein.append(aminoacid, sort=True, ignore_index=True)\n",
    "     \n",
    "    return protein"
   ]
  },
  {
   "cell_type": "code",
   "execution_count": 11,
   "metadata": {
    "scrolled": false
   },
   "outputs": [],
   "source": [
    "protein = assemble_3D_structure(sequence, aminoacids)"
   ]
  },
  {
   "cell_type": "code",
   "execution_count": 12,
   "metadata": {},
   "outputs": [
    {
     "data": {
      "text/html": [
       "<div>\n",
       "<style scoped>\n",
       "    .dataframe tbody tr th:only-of-type {\n",
       "        vertical-align: middle;\n",
       "    }\n",
       "\n",
       "    .dataframe tbody tr th {\n",
       "        vertical-align: top;\n",
       "    }\n",
       "\n",
       "    .dataframe thead th {\n",
       "        text-align: right;\n",
       "    }\n",
       "</style>\n",
       "<table border=\"1\" class=\"dataframe\">\n",
       "  <thead>\n",
       "    <tr style=\"text-align: right;\">\n",
       "      <th></th>\n",
       "      <th>atom_name</th>\n",
       "      <th>element</th>\n",
       "      <th>residue_name</th>\n",
       "      <th>residue_seq_number</th>\n",
       "      <th>x</th>\n",
       "      <th>y</th>\n",
       "      <th>z</th>\n",
       "    </tr>\n",
       "  </thead>\n",
       "  <tbody>\n",
       "    <tr>\n",
       "      <th>0</th>\n",
       "      <td>N</td>\n",
       "      <td>N</td>\n",
       "      <td>MET</td>\n",
       "      <td>1</td>\n",
       "      <td>0.071</td>\n",
       "      <td>-0.215</td>\n",
       "      <td>0.000</td>\n",
       "    </tr>\n",
       "    <tr>\n",
       "      <th>1</th>\n",
       "      <td>CA</td>\n",
       "      <td>C</td>\n",
       "      <td>MET</td>\n",
       "      <td>1</td>\n",
       "      <td>1.519</td>\n",
       "      <td>-0.024</td>\n",
       "      <td>0.000</td>\n",
       "    </tr>\n",
       "    <tr>\n",
       "      <th>2</th>\n",
       "      <td>C</td>\n",
       "      <td>C</td>\n",
       "      <td>MET</td>\n",
       "      <td>1</td>\n",
       "      <td>1.871</td>\n",
       "      <td>1.444</td>\n",
       "      <td>0.000</td>\n",
       "    </tr>\n",
       "    <tr>\n",
       "      <th>3</th>\n",
       "      <td>O</td>\n",
       "      <td>O</td>\n",
       "      <td>MET</td>\n",
       "      <td>1</td>\n",
       "      <td>1.002</td>\n",
       "      <td>2.328</td>\n",
       "      <td>0.000</td>\n",
       "    </tr>\n",
       "    <tr>\n",
       "      <th>4</th>\n",
       "      <td>CB</td>\n",
       "      <td>C</td>\n",
       "      <td>MET</td>\n",
       "      <td>1</td>\n",
       "      <td>2.146</td>\n",
       "      <td>-0.745</td>\n",
       "      <td>-1.225</td>\n",
       "    </tr>\n",
       "  </tbody>\n",
       "</table>\n",
       "</div>"
      ],
      "text/plain": [
       "  atom_name element residue_name residue_seq_number      x      y      z\n",
       "0         N       N          MET                  1  0.071 -0.215  0.000\n",
       "1        CA       C          MET                  1  1.519 -0.024  0.000\n",
       "2         C       C          MET                  1  1.871  1.444  0.000\n",
       "3         O       O          MET                  1  1.002  2.328  0.000\n",
       "4        CB       C          MET                  1  2.146 -0.745 -1.225"
      ]
     },
     "execution_count": 12,
     "metadata": {},
     "output_type": "execute_result"
    }
   ],
   "source": [
    "protein.head()"
   ]
  },
  {
   "cell_type": "markdown",
   "metadata": {},
   "source": [
    "## Save to .pdb"
   ]
  },
  {
   "cell_type": "code",
   "execution_count": 13,
   "metadata": {},
   "outputs": [],
   "source": [
    "def write_atom_to_file(atom_seq_number, atom_row, element, f):\n",
    "    if len(atom_row.atom_name) < 4:\n",
    "        atom_seq_number += 1\n",
    "        template_row =\\\n",
    "        'ATOM    '+\\\n",
    "        ('%d'%atom_seq_number).rjust(3)+\\\n",
    "        '  '+\\\n",
    "        ('%s'%atom_row[0]).ljust(4)+\\\n",
    "        ''+\\\n",
    "        ('%s'%atom_row.residue_name).rjust(3)+\\\n",
    "        ' A'+\\\n",
    "        ('%s'%atom_row.residue_seq_number).rjust(4)+\\\n",
    "        '    '+\\\n",
    "        ('%.3f'%atom_row.x).rjust(8)+\\\n",
    "        ('%.3f'%atom_row.y).rjust(8)+\\\n",
    "        ('%.3f'%atom_row.z).rjust(8)+\\\n",
    "        '  1.00 10.00           '+\\\n",
    "        ('%s  \\n'%(element))\n",
    "        f.write(template_row)\n",
    "    return atom_seq_number\n",
    "    \n",
    "\n",
    "def write_pdb(file_name, protein):\n",
    "    atom_seq_number = 0\n",
    "\n",
    "    with open(file_name, 'w') as f:\n",
    "        for idx in range(len(protein.residue_seq_number.unique())):\n",
    "            for _, atom_row in protein[protein.residue_seq_number == str(idx+1)].iterrows():\n",
    "                element = 'C' if atom_row.element == '' else atom_row.element\n",
    "                atom_seq_number = write_atom_to_file(atom_seq_number, atom_row, element, f)"
   ]
  },
  {
   "cell_type": "code",
   "execution_count": 14,
   "metadata": {},
   "outputs": [],
   "source": [
    "write_pdb('1ROP-P.pdb', protein)"
   ]
  },
  {
   "cell_type": "markdown",
   "metadata": {},
   "source": [
    "# Q1 - b) Protein 3D Structure Prediction"
   ]
  },
  {
   "cell_type": "markdown",
   "metadata": {},
   "source": [
    "## Tinker Utilities"
   ]
  },
  {
   "cell_type": "code",
   "execution_count": 15,
   "metadata": {},
   "outputs": [],
   "source": [
    "def phi_psi_to_xyz(file_name, sequence, phis_psis):\n",
    "    residues_sequence_list = ['%s %f %f' % (symbol_to_residue_name[res], phi, psi) \\\n",
    "                              for res, phi, psi in zip(sequence, phis_psis[0::2], phis_psis[1::2])]\n",
    "    residues_sequence_str = '\\\\n'.join(residues_sequence_list)\n",
    "    \n",
    "    os.system(r'printf \"%s\\n\\n./tinker/charmm22\\n%s\\n\\n\\n\" | .\\tinker\\protein.exe' % (file_name, residues_sequence_str))\n",
    "\n",
    "\n",
    "def phi_psi_to_pdb(file_name, sequence, phis_psis):\n",
    "    def fix_generated_pdb(file_name):\n",
    "        protein = read_molecule(file_name)\n",
    "        write_pdb(file_name, protein)\n",
    "        \n",
    "    os.system(r'rm %s.pdb' % (file_name))\n",
    "              \n",
    "    phi_psi_to_xyz(file_name, sequence, phis_psis)   \n",
    "    os.system(r'printf \"%s\\n./tinker/charmm22\\n\" | .\\tinker\\xyzpdb.exe' % (file_name))\n",
    "    \n",
    "    fix_generated_pdb(file_name+'.pdb')\n",
    "    delete_protein_files(file_name)\n",
    "    \n",
    "    return read_molecule(file_name+'.pdb')\n",
    "\n",
    "\n",
    "def energy(file_name):\n",
    "    output = os.popen(r'printf \"%s\\n./tinker/charmm22\\nE\" | .\\tinker\\analyze.exe' % (file_name)).read()\n",
    "    return float(output[1575:1598].replace(\"D\",\"e\"))\n",
    "\n",
    "\n",
    "def delete_protein_files(file_name):\n",
    "    os.system(r'rm %s.xyz %s.seq %s.int' % tuple([file_name]*3))"
   ]
  },
  {
   "cell_type": "markdown",
   "metadata": {},
   "source": [
    "## Genetic Algorithm"
   ]
  },
  {
   "cell_type": "code",
   "execution_count": 16,
   "metadata": {
    "code_folding": []
   },
   "outputs": [],
   "source": [
    "class GeneticAlgorithm:\n",
    "    def __init__(self, sequence, n_population):\n",
    "        self.DIM_POPULATION = 2 * len(sequence)\n",
    "        self.N_POPULATION = n_population\n",
    "        self.sequence = sequence\n",
    "        \n",
    "        self.average_fitness = []\n",
    "        \n",
    "        self.population = self.initialize_population()\n",
    "        self.fitness = self.compute_population_fitness()\n",
    "        self.previous_fitness = None\n",
    "\n",
    "        self.absolute_iteration = 0\n",
    "\n",
    "\n",
    "    # Initialization\n",
    "    def initialize_population(self):\n",
    "        initial_population = [180.0 * np.random.uniform(-1, 1, self.DIM_POPULATION)\n",
    "                              for _ in range(self.N_POPULATION)]\n",
    "\n",
    "        return np.clip(initial_population, -180.0, 180.0)\n",
    "\n",
    "    def generate_new_population(self):\n",
    "        new_population = []\n",
    "        for _ in range(self.N_POPULATION // 2):\n",
    "            childrens = self.intermediate_recombination()\n",
    "            new_population.extend([self.gaussian_convolution(children) for children in childrens])\n",
    "\n",
    "        return np.clip(new_population, -180.0, 180.0)\n",
    "\n",
    "    # Fitness\n",
    "    def individual_fitness(self, individual):\n",
    "        phi_psi_to_xyz('individual', self.sequence, individual)\n",
    "        fitness = energy('individual')\n",
    "        delete_protein_files('individual')\n",
    "        \n",
    "        return fitness\n",
    "\n",
    "    def compute_population_fitness(self):\n",
    "        population_fitness = []\n",
    "        for individual in self.population:\n",
    "            population_fitness.append(self.individual_fitness(individual))\n",
    "\n",
    "        return population_fitness\n",
    "\n",
    "    # Selection\n",
    "    def fitness_proportionate_selection(self):\n",
    "        probabilities = (np.max(self.fitness) - self.fitness) / np.sum(np.max(self.fitness) - self.fitness)\n",
    "        idx = np.random.choice(self.N_POPULATION, replace=True, p=probabilities)\n",
    "\n",
    "        return self.population[idx]\n",
    "\n",
    "    # Crossover\n",
    "    def intermediate_recombination(self):\n",
    "        p = 0.2\n",
    "        alpha = np.random.uniform(-p, 1+p)\n",
    "        beta = np.random.uniform(-p, 1+p)\n",
    "\n",
    "        parent_1 = self.fitness_proportionate_selection()\n",
    "        parent_2 = self.fitness_proportionate_selection()\n",
    "\n",
    "        children_1 = alpha * parent_1 + (1 - alpha) * parent_2\n",
    "        children_2 = beta * parent_1 + (1 - beta) * parent_2\n",
    "\n",
    "        return [children_1, children_2]\n",
    "\n",
    "    # Mutation\n",
    "    def gaussian_convolution(self, children):\n",
    "        add_noise_prob = np.random.rand(self.DIM_POPULATION)\n",
    "\n",
    "        sigma = 10.0\n",
    "        noise = sigma * np.random.randn(self.DIM_POPULATION)\n",
    "\n",
    "        return children + noise * (add_noise_prob > 0.5)\n",
    "\n",
    "    def done(self, epsilon, iteration, max_iteration):\n",
    "        converged = (np.abs(np.mean(self.fitness) - np.mean(self.previous_fitness)) < epsilon) \\\n",
    "                     if self.previous_fitness is not None else False\n",
    "        taking_too_long = iteration >= max_iteration\n",
    "\n",
    "        return converged or taking_too_long\n",
    "\n",
    "    def show_results(self):\n",
    "        print('\\nOptimal Solution:')\n",
    "        optimal = self.population[np.argmin(self.fitness)]\n",
    "        for i, (phi, psi) in enumerate(zip(optimal[0::2], optimal[1::2])):\n",
    "            print('Phi %d: %.2f, Psi %d: %.2f' % (i+1, phi, i+1, psi))\n",
    "\n",
    "        plt.figure(figsize=(10, 5))\n",
    "        plt.plot(np.log(self.average_fitness))\n",
    "        plt.title('Average Fitness Convergence.')\n",
    "        plt.show()\n",
    "\n",
    "    def optimize(self, max_iteration=500):        \n",
    "        iteration = 0 \n",
    "        \n",
    "        while not self.done(epsilon=1e-1, iteration=iteration, max_iteration=max_iteration):\n",
    "            iteration += 1\n",
    "            self.absolute_iteration += 1\n",
    "            self.previous_fitness = self.fitness\n",
    "\n",
    "            self.population = self.generate_new_population()\n",
    "            self.fitness = self.compute_population_fitness()\n",
    "\n",
    "            self.average_fitness.append(np.mean(self.fitness))\n",
    "            print('Iteration: %d, Average Fitness: %.1f' % (self.absolute_iteration, np.mean(self.fitness)))\n",
    "\n",
    "        self.show_results()\n",
    "\n",
    "        return self.population[np.argmin(self.fitness)]"
   ]
  },
  {
   "cell_type": "code",
   "execution_count": 17,
   "metadata": {},
   "outputs": [],
   "source": [
    "ga = GeneticAlgorithm(sequence, 10)"
   ]
  },
  {
   "cell_type": "code",
   "execution_count": 18,
   "metadata": {
    "scrolled": false
   },
   "outputs": [
    {
     "name": "stdout",
     "output_type": "stream",
     "text": [
      "Iteration: 1, Average Fitness: 4741706147426928.0\n",
      "Iteration: 2, Average Fitness: 9681964567941204.0\n",
      "Iteration: 3, Average Fitness: 1472163270000000.0\n",
      "Iteration: 4, Average Fitness: 226517529193000000.0\n",
      "Iteration: 5, Average Fitness: 794705718629999872.0\n",
      "Iteration: 6, Average Fitness: 117106220827299987456.0\n",
      "Iteration: 7, Average Fitness: 272852057391238.4\n",
      "Iteration: 8, Average Fitness: 9057897630000000.0\n",
      "Iteration: 9, Average Fitness: 38277844300000000.0\n",
      "Iteration: 10, Average Fitness: 208391889450000000.0\n",
      "\n",
      "Optimal Solution:\n",
      "Phi 1: 109.28, Psi 1: -80.83\n",
      "Phi 2: -36.04, Psi 2: 145.88\n",
      "Phi 3: -165.97, Psi 3: -158.85\n",
      "Phi 4: -18.06, Psi 4: -77.19\n",
      "Phi 5: -80.64, Psi 5: 130.68\n",
      "Phi 6: 33.54, Psi 6: 133.22\n",
      "Phi 7: -30.48, Psi 7: -113.52\n",
      "Phi 8: 121.16, Psi 8: -116.47\n",
      "Phi 9: -65.24, Psi 9: -28.91\n",
      "Phi 10: -53.55, Psi 10: -107.23\n",
      "Phi 11: -100.95, Psi 11: 139.84\n",
      "Phi 12: 18.47, Psi 12: 9.09\n",
      "Phi 13: 47.63, Psi 13: 113.12\n",
      "Phi 14: -96.41, Psi 14: -19.36\n",
      "Phi 15: -106.99, Psi 15: 15.44\n",
      "Phi 16: -117.67, Psi 16: -54.78\n",
      "Phi 17: 19.01, Psi 17: -135.71\n",
      "Phi 18: -72.62, Psi 18: -104.62\n",
      "Phi 19: 76.32, Psi 19: 31.07\n",
      "Phi 20: -31.04, Psi 20: 68.08\n",
      "Phi 21: 10.61, Psi 21: -28.44\n",
      "Phi 22: -125.48, Psi 22: 4.67\n",
      "Phi 23: 14.05, Psi 23: 65.02\n",
      "Phi 24: -97.96, Psi 24: -139.61\n",
      "Phi 25: -5.24, Psi 25: 106.70\n",
      "Phi 26: -94.60, Psi 26: 3.29\n",
      "Phi 27: -138.13, Psi 27: 10.15\n",
      "Phi 28: 141.20, Psi 28: 4.63\n",
      "Phi 29: -96.02, Psi 29: 105.04\n",
      "Phi 30: -41.01, Psi 30: -92.47\n",
      "Phi 31: -103.58, Psi 31: 88.34\n",
      "Phi 32: -58.81, Psi 32: -0.03\n",
      "Phi 33: 165.12, Psi 33: -145.77\n",
      "Phi 34: 120.34, Psi 34: -101.33\n",
      "Phi 35: -43.70, Psi 35: 155.98\n",
      "Phi 36: -167.90, Psi 36: 53.75\n",
      "Phi 37: -82.39, Psi 37: -93.90\n",
      "Phi 38: -102.85, Psi 38: 132.28\n",
      "Phi 39: 45.22, Psi 39: 164.94\n",
      "Phi 40: 2.54, Psi 40: -0.92\n",
      "Phi 41: 6.72, Psi 41: 113.67\n",
      "Phi 42: -170.04, Psi 42: -23.43\n",
      "Phi 43: -151.47, Psi 43: -116.66\n",
      "Phi 44: -115.71, Psi 44: -48.77\n",
      "Phi 45: -106.07, Psi 45: -98.59\n",
      "Phi 46: -66.66, Psi 46: -139.85\n",
      "Phi 47: -51.55, Psi 47: 75.23\n",
      "Phi 48: -69.41, Psi 48: 124.89\n",
      "Phi 49: -83.44, Psi 49: -90.24\n",
      "Phi 50: 25.24, Psi 50: 77.63\n",
      "Phi 51: -108.20, Psi 51: -69.03\n",
      "Phi 52: 89.99, Psi 52: -99.58\n",
      "Phi 53: 10.75, Psi 53: 70.74\n",
      "Phi 54: -91.47, Psi 54: -19.01\n",
      "Phi 55: -13.94, Psi 55: 101.40\n",
      "Phi 56: 50.28, Psi 56: 96.84\n"
     ]
    },
    {
     "data": {
      "image/png": "[encoded data removed]",
      "text/plain": [
       "<Figure size 720x360 with 1 Axes>"
      ]
     },
     "metadata": {},
     "output_type": "display_data"
    }
   ],
   "source": [
    "phis_psis = ga.optimize(10)"
   ]
  },
  {
   "cell_type": "markdown",
   "metadata": {},
   "source": [
    "## Generate PDB"
   ]
  },
  {
   "cell_type": "code",
   "execution_count": 19,
   "metadata": {},
   "outputs": [],
   "source": [
    "predicted_protein = phi_psi_to_pdb('1ROP-F', sequence, phis_psis)"
   ]
  },
  {
   "cell_type": "markdown",
   "metadata": {},
   "source": [
    "# Q1 - c) RMSD - Peptide Bond Protein vs Experimental Protein"
   ]
  },
  {
   "cell_type": "code",
   "execution_count": 20,
   "metadata": {},
   "outputs": [],
   "source": [
    "def calculate_translation(ref_atom, atom):\n",
    "    return ref_atom[['x', 'y', 'z']].values.reshape(-1) -\\\n",
    "               atom[['x', 'y', 'z']].values.reshape(-1)\n",
    "\n",
    "\n",
    "def translate_molecule_to_new_reference(ref_molecule, molecule):\n",
    "    ref_atom = ref_molecule.iloc[0]\n",
    "    atom = molecule.iloc[0]\n",
    "    \n",
    "    translation = calculate_translation(ref_atom, atom)\n",
    "    return translate(molecule, translation)\n",
    "\n",
    "\n",
    "def rmsd(ref_molecule, molecule, atoms):\n",
    "    ref_molecule_filtered = ref_molecule[ref_molecule.atom_name.isin(atoms)].copy()\n",
    "    molecule_filtered = molecule[molecule.atom_name.isin(atoms)].copy()\n",
    "    translated_molecule_filtered = translate_molecule_to_new_reference(ref_molecule_filtered, molecule_filtered)\n",
    "        \n",
    "    molecules_df = pd.merge(ref_molecule_filtered, translated_molecule_filtered, on=['residue_seq_number', 'atom_name'])\n",
    "    \n",
    "    molecules_df['x_distance_squared'] = (molecules_df['x_x'] - molecules_df['x_y']) ** 2\n",
    "    molecules_df['y_distance_squared'] = (molecules_df['y_x'] - molecules_df['y_y']) ** 2\n",
    "    molecules_df['z_distance_squared'] = (molecules_df['z_x'] - molecules_df['z_y']) ** 2\n",
    "    \n",
    "    molecules_df['euclidean_distance_squared'] = (molecules_df['x_distance_squared'] + \n",
    "                                                  molecules_df['y_distance_squared'] +\n",
    "                                                  molecules_df['z_distance_squared'])\n",
    "    \n",
    "    return np.sqrt(np.mean(molecules_df['euclidean_distance_squared']))"
   ]
  },
  {
   "cell_type": "code",
   "execution_count": 21,
   "metadata": {
    "scrolled": true
   },
   "outputs": [
    {
     "data": {
      "text/plain": [
       "101.62920740736887"
      ]
     },
     "execution_count": 21,
     "metadata": {},
     "output_type": "execute_result"
    }
   ],
   "source": [
    "rmsd(molecule, protein, ['CA'])"
   ]
  },
  {
   "cell_type": "markdown",
   "metadata": {},
   "source": [
    "# Q1 - d) RMSD - Predicted Protein vs Experimental Protein"
   ]
  },
  {
   "cell_type": "code",
   "execution_count": 22,
   "metadata": {
    "scrolled": true
   },
   "outputs": [
    {
     "data": {
      "text/plain": [
       "30.197161995612866"
      ]
     },
     "execution_count": 22,
     "metadata": {},
     "output_type": "execute_result"
    }
   ],
   "source": [
    "rmsd(molecule, predicted_protein, ['CA'])"
   ]
  },
  {
   "cell_type": "markdown",
   "metadata": {},
   "source": [
    "# Q1 - e) Structural Analysis"
   ]
  },
  {
   "cell_type": "markdown",
   "metadata": {},
   "source": [
    "## Calculate Phi and Psi"
   ]
  },
  {
   "cell_type": "code",
   "execution_count": 23,
   "metadata": {},
   "outputs": [],
   "source": [
    "def calculate_dihedral_angle(p1, p2, p3, p4):\n",
    "    p1, p2, p3, p4 = np.array(p1), np.array(p2), np.array(p3), np.array(p4)\n",
    "    \n",
    "    b1 = -1.0 * (p2 - p1)\n",
    "    b2 = p3 - p2\n",
    "    b3 = p4 - p3\n",
    "    \n",
    "    # normalize b2\n",
    "    b2 /= np.linalg.norm(b2)\n",
    "    \n",
    "    # projections of b1 and b3 onto plane perpendicular to b2\n",
    "    v = b1 - np.dot(b1, b2) * b2\n",
    "    w = b3 - np.dot(b3, b2) * b2\n",
    "    \n",
    "    # angle between v and w is the torsion angle\n",
    "    x = np.dot(v, w)\n",
    "    y = np.dot(np.cross(b2, v), w)\n",
    "    return np.degrees(np.arctan2(y, x))"
   ]
  },
  {
   "cell_type": "code",
   "execution_count": 24,
   "metadata": {},
   "outputs": [],
   "source": [
    "def _infer_phi(c_previous, n_current, c_alpha_current, c_current):\n",
    "    return calculate_dihedral_angle(c_previous, n_current, c_alpha_current, c_current)\n",
    "\n",
    "\n",
    "def _infer_psi(n_current, c_alpha_current, c_current, n_next):\n",
    "    return calculate_dihedral_angle(n_current, c_alpha_current, c_current, n_next)\n",
    "\n",
    "\n",
    "def infer_phi_psi(protein):\n",
    "    phi_psi = pd.DataFrame(data=None, columns=['amino', 'phi', 'psi'])    \n",
    "    previous_aminoacid = None\n",
    "    \n",
    "    for i in protein.residue_seq_number.unique():\n",
    "        current_aminoacid = protein[protein.residue_seq_number == str(i)].copy()\n",
    "        next_aminoacid = protein[protein.residue_seq_number == str(int(i)+1)].copy() \n",
    "        next_aminoacid = next_aminoacid if not next_aminoacid.empty else None\n",
    "        \n",
    "        c_previous = previous_aminoacid[previous_aminoacid.atom_name == 'C'][['x', 'y', 'z']].values.reshape(-1)\\\n",
    "                     if previous_aminoacid is not None else None\n",
    "        n_current = current_aminoacid[current_aminoacid.atom_name == 'N'][['x', 'y', 'z']].values.reshape(-1)\n",
    "        c_alpha_current = current_aminoacid[current_aminoacid.atom_name == 'CA'][['x', 'y', 'z']].values.reshape(-1)\n",
    "        c_current = current_aminoacid[current_aminoacid.atom_name == 'C'][['x', 'y', 'z']].values.reshape(-1)\n",
    "        n_next = next_aminoacid[next_aminoacid.atom_name == 'N'][['x', 'y', 'z']].values.reshape(-1)\\\n",
    "                 if next_aminoacid is not None else None\n",
    "\n",
    "        \n",
    "        phi = _infer_phi(c_previous, n_current, c_alpha_current, c_current) if previous_aminoacid is not None else None\n",
    "        psi = _infer_psi(n_current, c_alpha_current, c_current, n_next) if next_aminoacid is not None else None\n",
    "        \n",
    "        previous_aminoacid = current_aminoacid\n",
    "        \n",
    "        new_phi_psi = pd.DataFrame(data={'amino': [current_aminoacid.residue_name.iloc[0]], \n",
    "                                         'phi': [phi], \n",
    "                                         'psi': [psi]})  \n",
    "        phi_psi = phi_psi.append(new_phi_psi, sort=True, ignore_index=True)\n",
    "\n",
    "    return phi_psi"
   ]
  },
  {
   "cell_type": "code",
   "execution_count": 25,
   "metadata": {},
   "outputs": [],
   "source": [
    "predicted_phi_psi = infer_phi_psi(predicted_protein)\n",
    "experimental_phi_psi = infer_phi_psi(molecule)"
   ]
  },
  {
   "cell_type": "markdown",
   "metadata": {},
   "source": [
    "## Ramachandran Plot"
   ]
  },
  {
   "cell_type": "code",
   "execution_count": 26,
   "metadata": {},
   "outputs": [],
   "source": [
    "def plot_ramachandran(ax, phi_psi, plot_title):\n",
    "    ax.set_title('Ramachandran Plot of %s.' % (plot_title))\n",
    "    ax.plot(phi_psi.phi, phi_psi.psi, '*')\n",
    "    ax.plot(np.linspace(-180, 180, len(phi_psi.phi)), np.zeros(len(phi_psi.psi)), 'k')\n",
    "    ax.plot(np.zeros(len(phi_psi.phi)), np.linspace(-180, 180, len(phi_psi.psi)), 'k')\n",
    "    ax.set(xlabel='Phi', ylabel='Psi')\n",
    "    ax.grid()\n",
    "    ax.axis([-180, 180, -180, 180])"
   ]
  },
  {
   "cell_type": "code",
   "execution_count": 27,
   "metadata": {},
   "outputs": [
    {
     "data": {
      "image/png": "[encoded data removed]",
      "text/plain": [
       "<Figure size 1152x576 with 2 Axes>"
      ]
     },
     "metadata": {},
     "output_type": "display_data"
    }
   ],
   "source": [
    "fig, ax = plt.subplots(nrows=1, ncols=2, figsize=(16,8))\n",
    "plot_ramachandran(ax[0], predicted_phi_psi,'Predicted Molecule')\n",
    "plot_ramachandran(ax[1], experimental_phi_psi, 'Experimental Molecule')"
   ]
  },
  {
   "cell_type": "markdown",
   "metadata": {},
   "source": [
    "## Secondary Structure"
   ]
  },
  {
   "cell_type": "code",
   "execution_count": 28,
   "metadata": {},
   "outputs": [],
   "source": [
    "alpha_helix_phi_range = (-89, -39)\n",
    "alpha_helix_psi_range = (-66, -16)\n",
    "\n",
    "beta_sheet_phi_range = (-130, -105)\n",
    "beta_sheet_psi_range = (128, 147)"
   ]
  },
  {
   "cell_type": "code",
   "execution_count": 29,
   "metadata": {},
   "outputs": [],
   "source": [
    "def is_between(value, _range):\n",
    "    return _range[0] < value < _range[1]\n",
    "\n",
    "def is_alpha_helix(phi, psi):\n",
    "    is_helix_phi = is_between(phi, alpha_helix_phi_range)\n",
    "    is_helix_psi = is_between(psi, alpha_helix_psi_range)\n",
    "    return is_helix_phi and is_helix_phi\n",
    "\n",
    "def is_beta_sheet(phi, psi):\n",
    "    is_sheet_phi = is_between(phi, beta_sheet_phi_range)\n",
    "    is_sheet_psi = is_between(psi, beta_sheet_psi_range)\n",
    "    return is_sheet_phi and is_sheet_phi"
   ]
  },
  {
   "cell_type": "code",
   "execution_count": 30,
   "metadata": {},
   "outputs": [],
   "source": [
    "def infer_secondary_structure(phi_psi_df):\n",
    "    secondary_structure = ''\n",
    "    for i, row in phi_psi_df.iterrows():\n",
    "        phi, psi = row.phi, row.psi\n",
    "        \n",
    "        if phi is not None and psi is not None:\n",
    "            if is_alpha_helix(phi, psi):\n",
    "                secondary_structure += ('H')\n",
    "            elif is_beta_sheet(phi, psi):\n",
    "                secondary_structure += ('S')\n",
    "            else:\n",
    "                secondary_structure += ('-')\n",
    "        else:\n",
    "            secondary_structure += ('-')\n",
    "\n",
    "    return secondary_structure"
   ]
  },
  {
   "cell_type": "code",
   "execution_count": 31,
   "metadata": {},
   "outputs": [],
   "source": [
    "predicted_secondary_structure = infer_secondary_structure(predicted_phi_psi)\n",
    "experimental_secondary_structure = infer_secondary_structure(experimental_phi_psi)"
   ]
  },
  {
   "cell_type": "code",
   "execution_count": 32,
   "metadata": {},
   "outputs": [
    {
     "name": "stdout",
     "output_type": "stream",
     "text": [
      "Primary Structure:\n",
      "    MTKQEKTALNMARFIRSQTLTLLEKLNELDADEQADICESLHDHADELYRSCLARF\n",
      "\n",
      "Secondary Structure:\n",
      "  Predicted:\n",
      "    ----H---HH----SS-H---S-------H-H--H-H------SSHHHH-S-----\n",
      "  Experimental:\n",
      "    -HHHHHHHHHHHHHHHHHHHHHHHHHHH---HHHHHHHHHHHHHHHHHHHHHHHH-\n"
     ]
    }
   ],
   "source": [
    "print('Primary Structure:')\n",
    "print('    %s\\n' % sequence)\n",
    "print('Secondary Structure:')\n",
    "print('  Predicted:\\n    %s' % predicted_secondary_structure)\n",
    "print('  Experimental:\\n    %s' % experimental_secondary_structure)"
   ]
  },
  {
   "cell_type": "markdown",
   "metadata": {},
   "source": [
    "### α-Helix and β-Sheet percentage"
   ]
  },
  {
   "cell_type": "code",
   "execution_count": 33,
   "metadata": {},
   "outputs": [],
   "source": [
    "predicted_alpha_helix_percentage = np.mean([r == 'H' for r in predicted_secondary_structure]) * 100\n",
    "predicted_beta_sheet_percentage = np.mean([r == 'S' for r in predicted_secondary_structure]) * 100\n",
    "\n",
    "experimental_alpha_helix_percentage = np.mean([r == 'H' for r in experimental_secondary_structure]) * 100\n",
    "experimental_beta_sheet_percentage = np.mean([r == 'S' for r in experimental_secondary_structure]) * 100"
   ]
  },
  {
   "cell_type": "code",
   "execution_count": 39,
   "metadata": {},
   "outputs": [
    {
     "name": "stdout",
     "output_type": "stream",
     "text": [
      "Predicted:\n",
      "  - α-Helix: 21.4%\n",
      "  - β-Sheet: 10.7%\n",
      "Experimental:\n",
      "  - α-Helix: 91.1%\n",
      "  - β-Sheet: 0.0%\n"
     ]
    }
   ],
   "source": [
    "print('Predicted:\\n  - α-Helix: %.1f%%\\n  - β-Sheet: %.1f%%' % \n",
    "      (predicted_alpha_helix_percentage, predicted_beta_sheet_percentage))\n",
    "print('Experimental:\\n  - α-Helix: %.1f%%\\n  - β-Sheet: %.1f%%' % \n",
    "      (experimental_alpha_helix_percentage, experimental_beta_sheet_percentage))"
   ]
  },
  {
   "cell_type": "markdown",
   "metadata": {},
   "source": [
    "## What does Energy mean?"
   ]
  },
  {
   "cell_type": "code",
   "execution_count": 35,
   "metadata": {},
   "outputs": [],
   "source": [
    "experimental_phi_psi_list = [p for phi_psi in experimental_phi_psi[['phi', 'psi']].values for p in phi_psi]\n",
    "experimental_phi_psi_list[0] = 0.0\n",
    "experimental_phi_psi_list[-1] = 0.0"
   ]
  },
  {
   "cell_type": "code",
   "execution_count": 36,
   "metadata": {},
   "outputs": [
    {
     "name": "stdout",
     "output_type": "stream",
     "text": [
      "Energy for Phis and Psis from the experimental molecule: 359600000000.0\n"
     ]
    }
   ],
   "source": [
    "phi_psi_to_xyz('experimental', sequence, experimental_phi_psi_list)\n",
    "print('Energy for Phis and Psis from the experimental molecule: %.1f' % energy('experimental'))"
   ]
  },
  {
   "cell_type": "code",
   "execution_count": 37,
   "metadata": {},
   "outputs": [],
   "source": [
    "zeros_phi_psi_list = [0.0] * len(sequence)"
   ]
  },
  {
   "cell_type": "code",
   "execution_count": 38,
   "metadata": {},
   "outputs": [
    {
     "name": "stdout",
     "output_type": "stream",
     "text": [
      "Energy for Phis and Psis equal to Zero: 7010.5\n"
     ]
    }
   ],
   "source": [
    "phi_psi_to_xyz('zeros', sequence, zeros_phi_psi_list)\n",
    "print('Energy for Phis and Psis equal to Zero: %.1f' % energy('zeros'))"
   ]
  },
  {
   "cell_type": "markdown",
   "metadata": {},
   "source": [
    "Why does calculating the energy using Phis and Psis equal to zero give lower energy than calculating the energy using Phis and Psi from the experimental molecule?"
   ]
  },
  {
   "cell_type": "markdown",
   "metadata": {},
   "source": [
    "Done!"
   ]
  }
 ],
 "metadata": {
  "kernelspec": {
   "display_name": "Python 3",
   "language": "python",
   "name": "python3"
  },
  "language_info": {
   "codemirror_mode": {
    "name": "ipython",
    "version": 3
   },
   "file_extension": ".py",
   "mimetype": "text/x-python",
   "name": "python",
   "nbconvert_exporter": "python",
   "pygments_lexer": "ipython3",
   "version": "3.6.5"
  }
 },
 "nbformat": 4,
 "nbformat_minor": 2
}
