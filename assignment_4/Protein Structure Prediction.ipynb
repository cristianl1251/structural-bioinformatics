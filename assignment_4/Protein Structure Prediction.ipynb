{
 "cells": [
  {
   "cell_type": "markdown",
   "metadata": {},
   "source": [
    "**CMP585 - Structural Bioinformatics**\n",
    "\n",
    "Cristian Lopes\n",
    "\n",
    "*Assignment 4*"
   ]
  },
  {
   "cell_type": "code",
   "execution_count": 1,
   "metadata": {},
   "outputs": [],
   "source": [
    "import pandas as pd\n",
    "import numpy as np\n",
    "import glob\n",
    "import matplotlib.pyplot as plt\n",
    "import time\n",
    "import os\n",
    "import rmsd"
   ]
  },
  {
   "cell_type": "markdown",
   "metadata": {},
   "source": [
    "# Load Data"
   ]
  },
  {
   "cell_type": "code",
   "execution_count": 2,
   "metadata": {},
   "outputs": [],
   "source": [
    "def read_molecule(path):\n",
    "    atoms = []\n",
    "    with open(path, 'r') as f:\n",
    "        for line in f:\n",
    "            if line.startswith('ATOM'):\n",
    "                atoms.append({'atom_name': line[12:16].strip(),\n",
    "                              'element': line[77:78].strip(),\n",
    "                             'residue_name': line[17:20].strip(),\n",
    "                             'residue_seq_number': line[22:26].strip(),\n",
    "                             'x': float(line[30:38].strip()), \n",
    "                             'y': float(line[38:46].strip()),\n",
    "                             'z': float(line[46:54].strip())})\n",
    "    return pd.DataFrame(atoms)"
   ]
  },
  {
   "cell_type": "code",
   "execution_count": 3,
   "metadata": {},
   "outputs": [],
   "source": [
    "molecule = read_molecule('./data/1rop.pdb')"
   ]
  },
  {
   "cell_type": "code",
   "execution_count": 4,
   "metadata": {},
   "outputs": [
    {
     "data": {
      "text/html": [
       "<div>\n",
       "<style scoped>\n",
       "    .dataframe tbody tr th:only-of-type {\n",
       "        vertical-align: middle;\n",
       "    }\n",
       "\n",
       "    .dataframe tbody tr th {\n",
       "        vertical-align: top;\n",
       "    }\n",
       "\n",
       "    .dataframe thead th {\n",
       "        text-align: right;\n",
       "    }\n",
       "</style>\n",
       "<table border=\"1\" class=\"dataframe\">\n",
       "  <thead>\n",
       "    <tr style=\"text-align: right;\">\n",
       "      <th></th>\n",
       "      <th>atom_name</th>\n",
       "      <th>element</th>\n",
       "      <th>residue_name</th>\n",
       "      <th>residue_seq_number</th>\n",
       "      <th>x</th>\n",
       "      <th>y</th>\n",
       "      <th>z</th>\n",
       "    </tr>\n",
       "  </thead>\n",
       "  <tbody>\n",
       "    <tr>\n",
       "      <th>0</th>\n",
       "      <td>N</td>\n",
       "      <td>N</td>\n",
       "      <td>MET</td>\n",
       "      <td>1</td>\n",
       "      <td>31.007</td>\n",
       "      <td>2.290</td>\n",
       "      <td>18.034</td>\n",
       "    </tr>\n",
       "    <tr>\n",
       "      <th>1</th>\n",
       "      <td>CA</td>\n",
       "      <td>C</td>\n",
       "      <td>MET</td>\n",
       "      <td>1</td>\n",
       "      <td>32.390</td>\n",
       "      <td>2.582</td>\n",
       "      <td>17.546</td>\n",
       "    </tr>\n",
       "    <tr>\n",
       "      <th>2</th>\n",
       "      <td>C</td>\n",
       "      <td>C</td>\n",
       "      <td>MET</td>\n",
       "      <td>1</td>\n",
       "      <td>32.808</td>\n",
       "      <td>1.432</td>\n",
       "      <td>16.618</td>\n",
       "    </tr>\n",
       "    <tr>\n",
       "      <th>3</th>\n",
       "      <td>O</td>\n",
       "      <td>O</td>\n",
       "      <td>MET</td>\n",
       "      <td>1</td>\n",
       "      <td>32.375</td>\n",
       "      <td>0.280</td>\n",
       "      <td>16.846</td>\n",
       "    </tr>\n",
       "    <tr>\n",
       "      <th>4</th>\n",
       "      <td>CB</td>\n",
       "      <td>C</td>\n",
       "      <td>MET</td>\n",
       "      <td>1</td>\n",
       "      <td>33.271</td>\n",
       "      <td>2.428</td>\n",
       "      <td>18.810</td>\n",
       "    </tr>\n",
       "    <tr>\n",
       "      <th>5</th>\n",
       "      <td>CG</td>\n",
       "      <td>C</td>\n",
       "      <td>MET</td>\n",
       "      <td>1</td>\n",
       "      <td>34.257</td>\n",
       "      <td>3.540</td>\n",
       "      <td>18.961</td>\n",
       "    </tr>\n",
       "    <tr>\n",
       "      <th>6</th>\n",
       "      <td>SD</td>\n",
       "      <td>S</td>\n",
       "      <td>MET</td>\n",
       "      <td>1</td>\n",
       "      <td>35.104</td>\n",
       "      <td>3.150</td>\n",
       "      <td>20.545</td>\n",
       "    </tr>\n",
       "    <tr>\n",
       "      <th>7</th>\n",
       "      <td>CE</td>\n",
       "      <td>C</td>\n",
       "      <td>MET</td>\n",
       "      <td>1</td>\n",
       "      <td>33.734</td>\n",
       "      <td>3.285</td>\n",
       "      <td>21.683</td>\n",
       "    </tr>\n",
       "    <tr>\n",
       "      <th>8</th>\n",
       "      <td>N</td>\n",
       "      <td>N</td>\n",
       "      <td>THR</td>\n",
       "      <td>2</td>\n",
       "      <td>33.714</td>\n",
       "      <td>1.715</td>\n",
       "      <td>15.687</td>\n",
       "    </tr>\n",
       "    <tr>\n",
       "      <th>9</th>\n",
       "      <td>CA</td>\n",
       "      <td>C</td>\n",
       "      <td>THR</td>\n",
       "      <td>2</td>\n",
       "      <td>34.312</td>\n",
       "      <td>0.620</td>\n",
       "      <td>14.917</td>\n",
       "    </tr>\n",
       "    <tr>\n",
       "      <th>10</th>\n",
       "      <td>C</td>\n",
       "      <td>C</td>\n",
       "      <td>THR</td>\n",
       "      <td>2</td>\n",
       "      <td>35.377</td>\n",
       "      <td>-0.102</td>\n",
       "      <td>15.718</td>\n",
       "    </tr>\n",
       "    <tr>\n",
       "      <th>11</th>\n",
       "      <td>O</td>\n",
       "      <td>O</td>\n",
       "      <td>THR</td>\n",
       "      <td>2</td>\n",
       "      <td>35.855</td>\n",
       "      <td>0.431</td>\n",
       "      <td>16.788</td>\n",
       "    </tr>\n",
       "    <tr>\n",
       "      <th>12</th>\n",
       "      <td>CB</td>\n",
       "      <td>C</td>\n",
       "      <td>THR</td>\n",
       "      <td>2</td>\n",
       "      <td>34.953</td>\n",
       "      <td>1.126</td>\n",
       "      <td>13.554</td>\n",
       "    </tr>\n",
       "    <tr>\n",
       "      <th>13</th>\n",
       "      <td>OG1</td>\n",
       "      <td>O</td>\n",
       "      <td>THR</td>\n",
       "      <td>2</td>\n",
       "      <td>36.104</td>\n",
       "      <td>1.971</td>\n",
       "      <td>13.955</td>\n",
       "    </tr>\n",
       "    <tr>\n",
       "      <th>14</th>\n",
       "      <td>CG2</td>\n",
       "      <td>C</td>\n",
       "      <td>THR</td>\n",
       "      <td>2</td>\n",
       "      <td>33.901</td>\n",
       "      <td>1.999</td>\n",
       "      <td>12.806</td>\n",
       "    </tr>\n",
       "    <tr>\n",
       "      <th>15</th>\n",
       "      <td>N</td>\n",
       "      <td>N</td>\n",
       "      <td>LYS</td>\n",
       "      <td>3</td>\n",
       "      <td>35.824</td>\n",
       "      <td>-1.200</td>\n",
       "      <td>15.190</td>\n",
       "    </tr>\n",
       "    <tr>\n",
       "      <th>16</th>\n",
       "      <td>CA</td>\n",
       "      <td>C</td>\n",
       "      <td>LYS</td>\n",
       "      <td>3</td>\n",
       "      <td>36.887</td>\n",
       "      <td>-1.985</td>\n",
       "      <td>15.858</td>\n",
       "    </tr>\n",
       "    <tr>\n",
       "      <th>17</th>\n",
       "      <td>C</td>\n",
       "      <td>C</td>\n",
       "      <td>LYS</td>\n",
       "      <td>3</td>\n",
       "      <td>38.179</td>\n",
       "      <td>-1.233</td>\n",
       "      <td>15.828</td>\n",
       "    </tr>\n",
       "    <tr>\n",
       "      <th>18</th>\n",
       "      <td>O</td>\n",
       "      <td>O</td>\n",
       "      <td>LYS</td>\n",
       "      <td>3</td>\n",
       "      <td>38.975</td>\n",
       "      <td>-1.183</td>\n",
       "      <td>16.851</td>\n",
       "    </tr>\n",
       "    <tr>\n",
       "      <th>19</th>\n",
       "      <td>CB</td>\n",
       "      <td>C</td>\n",
       "      <td>LYS</td>\n",
       "      <td>3</td>\n",
       "      <td>37.042</td>\n",
       "      <td>-3.397</td>\n",
       "      <td>15.357</td>\n",
       "    </tr>\n",
       "  </tbody>\n",
       "</table>\n",
       "</div>"
      ],
      "text/plain": [
       "   atom_name element residue_name residue_seq_number       x      y       z\n",
       "0          N       N          MET                  1  31.007  2.290  18.034\n",
       "1         CA       C          MET                  1  32.390  2.582  17.546\n",
       "2          C       C          MET                  1  32.808  1.432  16.618\n",
       "3          O       O          MET                  1  32.375  0.280  16.846\n",
       "4         CB       C          MET                  1  33.271  2.428  18.810\n",
       "5         CG       C          MET                  1  34.257  3.540  18.961\n",
       "6         SD       S          MET                  1  35.104  3.150  20.545\n",
       "7         CE       C          MET                  1  33.734  3.285  21.683\n",
       "8          N       N          THR                  2  33.714  1.715  15.687\n",
       "9         CA       C          THR                  2  34.312  0.620  14.917\n",
       "10         C       C          THR                  2  35.377 -0.102  15.718\n",
       "11         O       O          THR                  2  35.855  0.431  16.788\n",
       "12        CB       C          THR                  2  34.953  1.126  13.554\n",
       "13       OG1       O          THR                  2  36.104  1.971  13.955\n",
       "14       CG2       C          THR                  2  33.901  1.999  12.806\n",
       "15         N       N          LYS                  3  35.824 -1.200  15.190\n",
       "16        CA       C          LYS                  3  36.887 -1.985  15.858\n",
       "17         C       C          LYS                  3  38.179 -1.233  15.828\n",
       "18         O       O          LYS                  3  38.975 -1.183  16.851\n",
       "19        CB       C          LYS                  3  37.042 -3.397  15.357"
      ]
     },
     "execution_count": 4,
     "metadata": {},
     "output_type": "execute_result"
    }
   ],
   "source": [
    "molecule.head(20)"
   ]
  },
  {
   "cell_type": "markdown",
   "metadata": {},
   "source": [
    "# Q1 - a) Peptide Bond"
   ]
  },
  {
   "cell_type": "markdown",
   "metadata": {},
   "source": [
    "First of all, we define the symbol of each amino acid."
   ]
  },
  {
   "cell_type": "code",
   "execution_count": 5,
   "metadata": {},
   "outputs": [],
   "source": [
    "symbol_to_residue_name = {\n",
    "    'T': 'THR', 'C': 'CYS', 'P': 'PRO', 'S': 'SER', 'I': 'ILE',\n",
    "    'V': 'VAL', 'A': 'ALA', 'R': 'ARG', 'N': 'ASN', 'F': 'PHE',\n",
    "    'L': 'LEU', 'G': 'GLY', 'E': 'GLU', 'D': 'ASP', 'Y': 'TYR',\n",
    "    'M': 'MET', 'K': 'LYS', 'Q': 'GLN', 'H': 'HIS', 'W': 'TRP'\n",
    "}"
   ]
  },
  {
   "cell_type": "markdown",
   "metadata": {},
   "source": [
    "## Load Amino Acids"
   ]
  },
  {
   "cell_type": "markdown",
   "metadata": {},
   "source": [
    "Then, we load the amino acids from the Protein Data Bank."
   ]
  },
  {
   "cell_type": "code",
   "execution_count": 6,
   "metadata": {},
   "outputs": [],
   "source": [
    "AMINOACID_PATH = './data/amino_acids/'\n",
    "aminoacids = pd.DataFrame()\n",
    "\n",
    "for f in glob.glob(AMINOACID_PATH + \"*.pdb\"):\n",
    "    aminoacids = aminoacids.append(read_molecule(f))"
   ]
  },
  {
   "cell_type": "markdown",
   "metadata": {},
   "source": [
    "Right now, we have a dictionnary of amino acids containing the position of each atom inside the amino acid."
   ]
  },
  {
   "cell_type": "markdown",
   "metadata": {},
   "source": [
    "## Translation and rotation"
   ]
  },
  {
   "cell_type": "markdown",
   "metadata": {},
   "source": [
    "Next step is to replace each symbol of the primary structure by its corresponding residue. First, we define a translation and a rotation function to move and rotate the next amino acid given the position of the previous aminoacid."
   ]
  },
  {
   "cell_type": "code",
   "execution_count": 7,
   "metadata": {},
   "outputs": [],
   "source": [
    "def translate(aminoacid, translation):\n",
    "    aminoacid[['x', 'y', 'z']] = aminoacid[['x', 'y', 'z']] + translation\n",
    "    return aminoacid"
   ]
  },
  {
   "cell_type": "code",
   "execution_count": 8,
   "metadata": {},
   "outputs": [],
   "source": [
    "def translation_to_origin(aminoacid, ref_atom='N'):\n",
    "    ref_translation = aminoacid[aminoacid.atom_name == ref_atom][['x', 'y', 'z']].values.reshape(-1)\n",
    "    return ref_translation, translate(aminoacid, -ref_translation)\n",
    "\n",
    "def rotate(aminoacid, angle_x, angle_y, angle_z):  \n",
    "    Rx = [[1, 0, 0], [0, np.cos(angle_x), -np.sin(angle_x)], [0, np.sin(angle_x), np.cos(angle_x)]]\n",
    "    Ry = [[np.cos(angle_y), 0, np.sin(angle_y)], [0, 1, 0], [-np.sin(angle_y), 0, np.cos(angle_y)]]\n",
    "    Rz = [[np.cos(angle_z), -np.sin(angle_z), 0], [np.sin(angle_z), np.cos(angle_z), 0], [0, 0, 1]]\n",
    "    R = np.dot(np.dot(Rx, Ry), Rz)\n",
    "    display(R)\n",
    "    \n",
    "    ref_translation, aminoacid = translation_to_origin(aminoacid)\n",
    "    display(aminoacid)\n",
    "    aminoacid[['x', 'y', 'z']] = R.dot(aminoacid[['x', 'y', 'z']].values.T).T\n",
    "    aminoacid = translate(aminoacid, ref_translation)\n",
    "\n",
    "    return aminoacid"
   ]
  },
  {
   "cell_type": "markdown",
   "metadata": {},
   "source": [
    "## Peptide Bond  Formation"
   ]
  },
  {
   "cell_type": "markdown",
   "metadata": {},
   "source": [
    "A peptide bond is a chemical bond formed between two molecules when the carboxyl group of one molecule reacts with the amino group of the other molecule, releasing a molecule of water (H2O). So, given the position of the Oxygen of the carboxyl group of the previous molecule and the position of the Nitrogen of the next molecule, we can translate the next molecule in order for its Nitrogen to be around the Oxygen position of the previous molecule."
   ]
  },
  {
   "cell_type": "code",
   "execution_count": 9,
   "metadata": {},
   "outputs": [],
   "source": [
    "sequence = 'MTKQEKTALNMARFIRSQTLTLLEKLNELDADEQADICESLHDHADELYRSCLARF' # GDDGENL'"
   ]
  },
  {
   "cell_type": "code",
   "execution_count": 10,
   "metadata": {},
   "outputs": [],
   "source": [
    "def _calculate_translation(previous_aminoacid, next_aminoacid):\n",
    "    o_pos = previous_aminoacid[previous_aminoacid.atom_name == 'OC'][['x', 'y', 'z']].values.reshape(-1)\n",
    "    n_pos = next_aminoacid[next_aminoacid.atom_name == 'N'][['x', 'y', 'z']].values.reshape(-1)\n",
    "    return o_pos - n_pos       \n",
    "\n",
    "def _remove_H2O(aminoacid):\n",
    "    return aminoacid[~aminoacid.atom_name.isin(['OC', 'HC', '1H'])]\n",
    "\n",
    "def assemble_3D_structure(sequence, aminoacids_df):\n",
    "    protein = pd.DataFrame(data=None, columns=['atom_name', 'element','residue_name', 'residue_seq_number', 'x', 'y', 'z'])    \n",
    "    previous_aminoacid, rotation = None, (0.0, 0.0, 0.0)\n",
    "    \n",
    "    for i, r in enumerate(sequence):\n",
    "        aminoacid = aminoacids_df[aminoacids_df.residue_name == symbol_to_residue_name[r]].copy()\n",
    "              \n",
    "        if previous_aminoacid is not None:\n",
    "            translation = _calculate_translation(previous_aminoacid, aminoacid)\n",
    "            aminoacid = translate(aminoacid, translation)\n",
    "        \n",
    "        aminoacid['residue_seq_number'] = str(i+1)\n",
    "        \n",
    "        previous_aminoacid = aminoacid\n",
    "        \n",
    "        aminoacid = _remove_H2O(aminoacid)\n",
    "        protein = protein.append(aminoacid, sort=True, ignore_index=True)\n",
    "     \n",
    "    return protein"
   ]
  },
  {
   "cell_type": "code",
   "execution_count": 11,
   "metadata": {
    "scrolled": false
   },
   "outputs": [],
   "source": [
    "protein = assemble_3D_structure(sequence, aminoacids)"
   ]
  },
  {
   "cell_type": "code",
   "execution_count": 12,
   "metadata": {},
   "outputs": [
    {
     "data": {
      "text/html": [
       "<div>\n",
       "<style scoped>\n",
       "    .dataframe tbody tr th:only-of-type {\n",
       "        vertical-align: middle;\n",
       "    }\n",
       "\n",
       "    .dataframe tbody tr th {\n",
       "        vertical-align: top;\n",
       "    }\n",
       "\n",
       "    .dataframe thead th {\n",
       "        text-align: right;\n",
       "    }\n",
       "</style>\n",
       "<table border=\"1\" class=\"dataframe\">\n",
       "  <thead>\n",
       "    <tr style=\"text-align: right;\">\n",
       "      <th></th>\n",
       "      <th>atom_name</th>\n",
       "      <th>element</th>\n",
       "      <th>residue_name</th>\n",
       "      <th>residue_seq_number</th>\n",
       "      <th>x</th>\n",
       "      <th>y</th>\n",
       "      <th>z</th>\n",
       "    </tr>\n",
       "  </thead>\n",
       "  <tbody>\n",
       "    <tr>\n",
       "      <th>0</th>\n",
       "      <td>N</td>\n",
       "      <td>N</td>\n",
       "      <td>MET</td>\n",
       "      <td>1</td>\n",
       "      <td>0.071</td>\n",
       "      <td>-0.215</td>\n",
       "      <td>0.000</td>\n",
       "    </tr>\n",
       "    <tr>\n",
       "      <th>1</th>\n",
       "      <td>CA</td>\n",
       "      <td>C</td>\n",
       "      <td>MET</td>\n",
       "      <td>1</td>\n",
       "      <td>1.519</td>\n",
       "      <td>-0.024</td>\n",
       "      <td>0.000</td>\n",
       "    </tr>\n",
       "    <tr>\n",
       "      <th>2</th>\n",
       "      <td>C</td>\n",
       "      <td>C</td>\n",
       "      <td>MET</td>\n",
       "      <td>1</td>\n",
       "      <td>1.871</td>\n",
       "      <td>1.444</td>\n",
       "      <td>0.000</td>\n",
       "    </tr>\n",
       "    <tr>\n",
       "      <th>3</th>\n",
       "      <td>O</td>\n",
       "      <td>O</td>\n",
       "      <td>MET</td>\n",
       "      <td>1</td>\n",
       "      <td>1.002</td>\n",
       "      <td>2.328</td>\n",
       "      <td>0.000</td>\n",
       "    </tr>\n",
       "    <tr>\n",
       "      <th>4</th>\n",
       "      <td>CB</td>\n",
       "      <td>C</td>\n",
       "      <td>MET</td>\n",
       "      <td>1</td>\n",
       "      <td>2.146</td>\n",
       "      <td>-0.745</td>\n",
       "      <td>-1.225</td>\n",
       "    </tr>\n",
       "  </tbody>\n",
       "</table>\n",
       "</div>"
      ],
      "text/plain": [
       "  atom_name element residue_name residue_seq_number      x      y      z\n",
       "0         N       N          MET                  1  0.071 -0.215  0.000\n",
       "1        CA       C          MET                  1  1.519 -0.024  0.000\n",
       "2         C       C          MET                  1  1.871  1.444  0.000\n",
       "3         O       O          MET                  1  1.002  2.328  0.000\n",
       "4        CB       C          MET                  1  2.146 -0.745 -1.225"
      ]
     },
     "execution_count": 12,
     "metadata": {},
     "output_type": "execute_result"
    }
   ],
   "source": [
    "protein.head()"
   ]
  },
  {
   "cell_type": "markdown",
   "metadata": {},
   "source": [
    "## Save to .pdb"
   ]
  },
  {
   "cell_type": "markdown",
   "metadata": {},
   "source": [
    "Finally, we save the protein to .pdb format."
   ]
  },
  {
   "cell_type": "code",
   "execution_count": 13,
   "metadata": {},
   "outputs": [],
   "source": [
    "def write_atom_to_file(atom_seq_number, atom_row, element, f):\n",
    "    if len(atom_row.atom_name) < 4:\n",
    "        atom_seq_number += 1\n",
    "        template_row =\\\n",
    "        'ATOM    '+\\\n",
    "        ('%d'%atom_seq_number).rjust(3)+\\\n",
    "        '  '+\\\n",
    "        ('%s'%atom_row[0]).ljust(4)+\\\n",
    "        ''+\\\n",
    "        ('%s'%atom_row.residue_name).rjust(3)+\\\n",
    "        ' A'+\\\n",
    "        ('%s'%atom_row.residue_seq_number).rjust(4)+\\\n",
    "        '    '+\\\n",
    "        ('%.3f'%atom_row.x).rjust(8)+\\\n",
    "        ('%.3f'%atom_row.y).rjust(8)+\\\n",
    "        ('%.3f'%atom_row.z).rjust(8)+\\\n",
    "        '  1.00 10.00           '+\\\n",
    "        ('%s  \\n'%(element))\n",
    "        f.write(template_row)\n",
    "    return atom_seq_number\n",
    "    \n",
    "\n",
    "def write_pdb(file_name, protein):\n",
    "    atom_seq_number = 0\n",
    "\n",
    "    with open(file_name, 'w') as f:\n",
    "        for idx in range(len(protein.residue_seq_number.unique())):\n",
    "            for _, atom_row in protein[protein.residue_seq_number == str(idx+1)].iterrows():\n",
    "                element = 'C' if atom_row.element == '' else atom_row.element\n",
    "                atom_seq_number = write_atom_to_file(atom_seq_number, atom_row, element, f)"
   ]
  },
  {
   "cell_type": "code",
   "execution_count": 14,
   "metadata": {},
   "outputs": [],
   "source": [
    "write_pdb('1ROP-P.pdb', protein)"
   ]
  },
  {
   "cell_type": "markdown",
   "metadata": {},
   "source": [
    "# Q1 - b) Protein 3D Structure Prediction"
   ]
  },
  {
   "cell_type": "markdown",
   "metadata": {},
   "source": [
    "In order to predict the protein 3D structure we are going to use an Energy Function that depends on the position of each atom. Once we define the Energy Function, our goal is to minimize this function using an stochastic method to search possible solutions.\n",
    "\n",
    "We are going to use CHARMM22 protein force field as energy function implemented by Tinker Molecular Modeling Package. Let's first define some utilities functions using Tinker Package."
   ]
  },
  {
   "cell_type": "markdown",
   "metadata": {},
   "source": [
    "## Tinker Utilities"
   ]
  },
  {
   "cell_type": "code",
   "execution_count": 15,
   "metadata": {},
   "outputs": [],
   "source": [
    "def phi_psi_to_xyz(file_name, sequence, phis_psis):\n",
    "    residues_sequence_list = ['%s %f %f' % (symbol_to_residue_name[res], phi, psi) \\\n",
    "                              for res, phi, psi in zip(sequence, phis_psis[0::2], phis_psis[1::2])]\n",
    "    residues_sequence_str = '\\\\n'.join(residues_sequence_list)\n",
    "    \n",
    "    os.system(r'printf \"%s\\n\\n./tinker/charmm22\\n%s\\n\\n\\n\" | .\\tinker\\protein.exe' % (file_name, residues_sequence_str))\n",
    "\n",
    "\n",
    "def phi_psi_to_pdb(file_name, sequence, phis_psis):\n",
    "    def fix_generated_pdb(file_name):\n",
    "        protein = read_molecule(file_name)\n",
    "        write_pdb(file_name, protein)\n",
    "        \n",
    "    os.system(r'rm %s.pdb' % (file_name))\n",
    "              \n",
    "    phi_psi_to_xyz(file_name, sequence, phis_psis)   \n",
    "    os.system(r'printf \"%s\\n./tinker/charmm22\\n\" | .\\tinker\\xyzpdb.exe' % (file_name))\n",
    "    \n",
    "    fix_generated_pdb(file_name+'.pdb')\n",
    "    delete_protein_files(file_name)\n",
    "    \n",
    "    return read_molecule(file_name+'.pdb')\n",
    "\n",
    "\n",
    "def energy(file_name):\n",
    "    output = os.popen(r'printf \"%s\\n./tinker/charmm22\\nE\" | .\\tinker\\analyze.exe' % (file_name)).read()\n",
    "    return float(output[1575:1598].replace(\"D\",\"e\"))\n",
    "\n",
    "\n",
    "def delete_protein_files(file_name):\n",
    "    os.system(r'rm %s.xyz %s.seq %s.int' % tuple([file_name]*3))"
   ]
  },
  {
   "cell_type": "markdown",
   "metadata": {},
   "source": [
    "## Energy Function Analysis"
   ]
  },
  {
   "cell_type": "markdown",
   "metadata": {},
   "source": [
    "Once we have the energy function defined, we can calculate energies given the aminoacids sequence and list of PHIS and PSIS."
   ]
  },
  {
   "cell_type": "markdown",
   "metadata": {},
   "source": [
    "**1) Why does a small change in Phi and Psis values give a huge change in the energy value?**"
   ]
  },
  {
   "cell_type": "markdown",
   "metadata": {},
   "source": [
    "Let's calculate the energy setting every PHIS and PSIS equal to 0.0 and then seting every PHIS and PSIS equal to 0.0001. \n",
    "\n",
    "We expected both energies to be close to each other which is not the case here."
   ]
  },
  {
   "cell_type": "code",
   "execution_count": 16,
   "metadata": {},
   "outputs": [],
   "source": [
    "zeros_phi_psi_list = [0.0] * len(sequence)"
   ]
  },
  {
   "cell_type": "code",
   "execution_count": 17,
   "metadata": {},
   "outputs": [
    {
     "name": "stdout",
     "output_type": "stream",
     "text": [
      "Energy for Phis and Psis equal to 0.0: 7010.5\n"
     ]
    }
   ],
   "source": [
    "phi_psi_to_xyz('zeros', sequence, zeros_phi_psi_list)\n",
    "print('Energy for Phis and Psis equal to 0.0: %.1f' % energy('zeros'))"
   ]
  },
  {
   "cell_type": "code",
   "execution_count": 18,
   "metadata": {},
   "outputs": [],
   "source": [
    "zeros_phi_psi_list = [0.0001] * len(sequence)"
   ]
  },
  {
   "cell_type": "code",
   "execution_count": 19,
   "metadata": {},
   "outputs": [
    {
     "name": "stdout",
     "output_type": "stream",
     "text": [
      "Energy for Phis and Psis equal to 0.0001: 6827168143.8\n"
     ]
    }
   ],
   "source": [
    "phi_psi_to_xyz('zeros', sequence, zeros_phi_psi_list)\n",
    "print('Energy for Phis and Psis equal to 0.0001: %.1f' % energy('zeros'))"
   ]
  },
  {
   "cell_type": "markdown",
   "metadata": {},
   "source": [
    "**2) Why does calculating the energy using Phis and Psis equal to zero give lower energy than calculating the energy using Phis and Psi from the experimental molecule?**"
   ]
  },
  {
   "cell_type": "markdown",
   "metadata": {},
   "source": [
    "Now, let's calculate the energy using PHIS and PSIS from the molecule 1ROP loaded from the Protein Data Bank and then calculate the energy setting every PHIS and PSIS equal to 0.0.\n",
    "\n",
    "We expected the energy of the Protein Data Bank molecule to be lower than the energy setting every PHIS and PSIS to zero which is not the case here."
   ]
  },
  {
   "cell_type": "code",
   "execution_count": 20,
   "metadata": {},
   "outputs": [],
   "source": [
    "experimental_phi_psi_list = [0.0, 153.84815, -77.92003, 170.5494, -68.43760, -36.47635, -65.65947, -39.04440, -68.60256, \n",
    "                             -35.43574, -65.06795, -46.716768, -51.771430, -49.4477, -61.186196, -43.56090, -64.32307, \n",
    "                             -47.96726, -58.76118, -41.056432, -63.53537, -43.03123, -64.08202, -41.75690, -64.4771, \n",
    "                             -41.837088, -59.35659, -49.506336, -59.074098, -44.69344, -57.7677, -46.90666, -63.16371, \n",
    "                             -45.11053, -59.608202, -37.287514, -72.28502, -29.63171, -74.34244, -39.95951, -59.09826, \n",
    "                             -40.031580, -71.16405, -36.14669, -57.03189, -43.52372, -70.58839, -38.09395, -54.445152, \n",
    "                             -49.42045, -66.34943, -31.79001, -69.10375, -39.555777, -62.52336, -30.68735, -89.7705, \n",
    "                             -0.7168842, 57.31622, 37.651546, -94.22118, 89.11372, -59.217627, -54.78371, -66.91148, \n",
    "                             -37.80182, -68.96433, -40.68334, -63.430136, -35.81451, -65.2555, -45.324114, -59.85476, \n",
    "                             -43.101295, -65.5812, -36.789, -60.409850, -42.700790, -65.71366, -40.41527, -59.04022, \n",
    "                             -47.85125, -60.67874, -40.53027, -61.531119, -36.53867, -73.5355, -40.32731, -57.57572, \n",
    "                             -40.15433, -67.9049, -37.429052, -61.06869, -45.34501, -62.978886, -44.34438, -58.89572, \n",
    "                             -46.30595, -66.12525, -36.027009, -64.25570, -44.018497, -61.445146, -42.603873, -61.517871, \n",
    "                             -41.36528, -69.80427, -39.12583, -76.17281, -47.39642, -83.91192, 0.0]"
   ]
  },
  {
   "cell_type": "code",
   "execution_count": 21,
   "metadata": {},
   "outputs": [
    {
     "name": "stdout",
     "output_type": "stream",
     "text": [
      "Energy for Phis and Psis from the experimental molecule: 359600000000.0\n"
     ]
    }
   ],
   "source": [
    "phi_psi_to_xyz('experimental', sequence, experimental_phi_psi_list)\n",
    "print('Energy for Phis and Psis from the experimental molecule: %.1f' % energy('experimental'))"
   ]
  },
  {
   "cell_type": "markdown",
   "metadata": {},
   "source": [
    "Given these results, I do not expect to be able to predict the 3D structure using an optimization algorithm to minimize this energy. Anyway, let's implement the Genetic Algorithm and check the results."
   ]
  },
  {
   "cell_type": "markdown",
   "metadata": {},
   "source": [
    "## Genetic Algorithm"
   ]
  },
  {
   "cell_type": "code",
   "execution_count": 22,
   "metadata": {
    "code_folding": []
   },
   "outputs": [],
   "source": [
    "class GeneticAlgorithm:\n",
    "    def __init__(self, sequence, n_population):\n",
    "        self.DIM_POPULATION = 2 * len(sequence)\n",
    "        self.N_POPULATION = n_population\n",
    "        self.sequence = sequence\n",
    "        \n",
    "        self.average_fitness = []\n",
    "        self.rmsd = []\n",
    "        \n",
    "        self.population = self.initialize_population()\n",
    "        self.fitness = self.compute_population_fitness()\n",
    "        self.previous_fitness = None\n",
    "\n",
    "        self.absolute_iteration = 0\n",
    "\n",
    "\n",
    "    # Initialization\n",
    "    def initialize_population(self):\n",
    "        initial_population = [180.0 * np.random.uniform(-1, 1, self.DIM_POPULATION)\n",
    "                              for _ in range(self.N_POPULATION)]\n",
    "\n",
    "        return np.clip(initial_population, -180.0, 180.0)\n",
    "\n",
    "    def generate_new_population(self):\n",
    "        new_population = []\n",
    "        for _ in range(self.N_POPULATION // 2):\n",
    "            childrens = self.intermediate_recombination()\n",
    "            new_population.extend([self.gaussian_convolution(children) for children in childrens])\n",
    "\n",
    "        return np.clip(new_population, -180.0, 180.0)\n",
    "\n",
    "    # Fitness\n",
    "    def individual_fitness(self, individual):\n",
    "        phi_psi_to_xyz('individual', self.sequence, individual)\n",
    "        fitness = energy('individual')\n",
    "        delete_protein_files('individual')\n",
    "        \n",
    "        return fitness\n",
    "\n",
    "    def compute_population_fitness(self):\n",
    "        population_fitness = []\n",
    "        for individual in self.population:\n",
    "            population_fitness.append(self.individual_fitness(individual))\n",
    "\n",
    "        return population_fitness\n",
    "\n",
    "    # Selection\n",
    "    def fitness_proportionate_selection(self):\n",
    "        probabilities = (np.max(self.fitness) - self.fitness) / np.sum(np.max(self.fitness) - self.fitness)\n",
    "        idx = np.random.choice(self.N_POPULATION, replace=True, p=probabilities)\n",
    "\n",
    "        return self.population[idx]\n",
    "\n",
    "    # Crossover\n",
    "    def intermediate_recombination(self):\n",
    "        p = 0.2\n",
    "        alpha = np.random.uniform(-p, 1+p)\n",
    "        beta = np.random.uniform(-p, 1+p)\n",
    "\n",
    "        parent_1 = self.fitness_proportionate_selection()\n",
    "        parent_2 = self.fitness_proportionate_selection()\n",
    "\n",
    "        children_1 = alpha * parent_1 + (1 - alpha) * parent_2\n",
    "        children_2 = beta * parent_1 + (1 - beta) * parent_2\n",
    "\n",
    "        return [children_1, children_2]\n",
    "\n",
    "    # Mutation\n",
    "    def gaussian_convolution(self, children):\n",
    "        add_noise_prob = np.random.rand(self.DIM_POPULATION)\n",
    "\n",
    "        sigma = 10.0\n",
    "        noise = sigma * np.random.randn(self.DIM_POPULATION)\n",
    "\n",
    "        return children + noise * (add_noise_prob > 0.5)\n",
    "\n",
    "    def done(self, epsilon, iteration, max_iteration):\n",
    "        converged = (np.abs(np.mean(self.fitness) - np.mean(self.previous_fitness)) < epsilon) \\\n",
    "                     if self.previous_fitness is not None else False\n",
    "        taking_too_long = iteration >= max_iteration\n",
    "\n",
    "        return converged or taking_too_long\n",
    "\n",
    "    def show_results(self):\n",
    "        print('\\nOptimal Solution:')\n",
    "        optimal = self.population[np.argmin(self.fitness)]\n",
    "        for i, (phi, psi) in enumerate(zip(optimal[0::2], optimal[1::2])):\n",
    "            print('Phi %d: %.2f, Psi %d: %.2f' % (i+1, phi, i+1, psi))\n",
    "\n",
    "        plt.figure(figsize=(10, 5))\n",
    "        plt.plot(np.log(self.average_fitness))\n",
    "        plt.plot(self.rmsd)\n",
    "        plt.title('Average Fitness Convergence and RMSD.')\n",
    "        plt.legend(['Average Fitness', 'RMSD'])\n",
    "        plt.show()\n",
    "\n",
    "    def optimize(self, max_iteration=500, compute_rmsd=False):       \n",
    "        iteration = 0 \n",
    "        \n",
    "        while not self.done(epsilon=1e-1, iteration=iteration, max_iteration=max_iteration):\n",
    "            iteration += 1\n",
    "            self.absolute_iteration += 1\n",
    "            self.previous_fitness = self.fitness\n",
    "\n",
    "            self.population = self.generate_new_population()\n",
    "            self.fitness = self.compute_population_fitness()\n",
    "\n",
    "            self.average_fitness.append(np.mean(self.fitness))\n",
    "            if compute_rmsd == True:\n",
    "                partial_molecule = phi_psi_to_pdb('partial_molecule', self.sequence, self.population[np.argmin(self.fitness)])\n",
    "                molecule_ca_matrix = molecule[molecule.atom_name.isin(['CA'])][['x', 'y', 'z']].values\n",
    "                partial_molecule_ca_matrix = partial_molecule[partial_molecule.atom_name.isin(['CA'])][['x', 'y', 'z']].values\n",
    "                self.rmsd.append(rmsd.kabsch_rmsd(molecule_ca_matrix, partial_molecule_ca_matrix))\n",
    "            print('Iteration: %d, Average Fitness: %.1f' % (self.absolute_iteration, np.mean(self.fitness)))\n",
    "\n",
    "        self.show_results()\n",
    "\n",
    "        return self.population[np.argmin(self.fitness)]"
   ]
  },
  {
   "cell_type": "code",
   "execution_count": 23,
   "metadata": {},
   "outputs": [],
   "source": [
    "ga = GeneticAlgorithm(sequence, 10)"
   ]
  },
  {
   "cell_type": "code",
   "execution_count": 24,
   "metadata": {
    "scrolled": false
   },
   "outputs": [
    {
     "name": "stdout",
     "output_type": "stream",
     "text": [
      "Iteration: 1, Average Fitness: 2075935202704989.5\n",
      "Iteration: 2, Average Fitness: 1075363724560313.2\n",
      "Iteration: 3, Average Fitness: 555730040000000.0\n",
      "Iteration: 4, Average Fitness: 661061493173732.8\n",
      "Iteration: 5, Average Fitness: 375477929819.6\n",
      "Iteration: 6, Average Fitness: 707411712467.2\n",
      "Iteration: 7, Average Fitness: 69134943022.2\n",
      "Iteration: 8, Average Fitness: 683384609516.9\n",
      "Iteration: 9, Average Fitness: 271623564874.0\n",
      "Iteration: 10, Average Fitness: 11034913473544.5\n",
      "Iteration: 11, Average Fitness: 1288592050205.5\n",
      "Iteration: 12, Average Fitness: 344961861432107328.0\n",
      "Iteration: 13, Average Fitness: 432139259349.5\n",
      "Iteration: 14, Average Fitness: 5671709876862.1\n",
      "Iteration: 15, Average Fitness: 642105434851990700032.0\n",
      "Iteration: 16, Average Fitness: 938762296475.8\n",
      "Iteration: 17, Average Fitness: 17690314867918.8\n",
      "Iteration: 18, Average Fitness: 3577428157536.6\n",
      "Iteration: 19, Average Fitness: 181789386351334.4\n",
      "Iteration: 20, Average Fitness: 298696957123.1\n",
      "Iteration: 21, Average Fitness: 222872312018.1\n",
      "Iteration: 22, Average Fitness: 6006820281113.4\n",
      "Iteration: 23, Average Fitness: 56788913339.7\n",
      "Iteration: 24, Average Fitness: 1147327805519758.5\n",
      "Iteration: 25, Average Fitness: 61997596340776.9\n",
      "Iteration: 26, Average Fitness: 364108870484244.1\n",
      "Iteration: 27, Average Fitness: 1022931048157303808.0\n",
      "Iteration: 28, Average Fitness: 85459766819881.4\n",
      "Iteration: 29, Average Fitness: 492702964000000.0\n",
      "Iteration: 30, Average Fitness: 123875204917667504.0\n",
      "Iteration: 31, Average Fitness: 42859367285000000.0\n",
      "Iteration: 32, Average Fitness: 53240904061176352.0\n",
      "Iteration: 33, Average Fitness: 1413307552614346.2\n",
      "Iteration: 34, Average Fitness: 7911578163393.6\n",
      "Iteration: 35, Average Fitness: 641572820506000000.0\n",
      "Iteration: 36, Average Fitness: 263423070406703251456.0\n",
      "Iteration: 37, Average Fitness: 7715139080921176.0\n",
      "Iteration: 38, Average Fitness: 45904217120070336.0\n",
      "Iteration: 39, Average Fitness: 714697567000000.0\n",
      "Iteration: 40, Average Fitness: 1524205233270000128.0\n",
      "Iteration: 41, Average Fitness: 33256315188199989248.0\n",
      "Iteration: 42, Average Fitness: 3860842800000000.0\n",
      "Iteration: 43, Average Fitness: 252214760000000.0\n",
      "Iteration: 44, Average Fitness: 795351829519518720.0\n",
      "Iteration: 45, Average Fitness: 283725764080000000.0\n",
      "Iteration: 46, Average Fitness: 1247457828449069.5\n",
      "Iteration: 47, Average Fitness: 89437298267031.1\n",
      "Iteration: 48, Average Fitness: 75162300248009.3\n",
      "Iteration: 49, Average Fitness: 1974078732000000.0\n",
      "Iteration: 50, Average Fitness: 5602656142816640000.0\n",
      "Iteration: 51, Average Fitness: 61470992053147115520.0\n",
      "Iteration: 52, Average Fitness: 175897338930000000.0\n",
      "Iteration: 53, Average Fitness: 398241924921000064.0\n",
      "Iteration: 54, Average Fitness: 113256668428937.5\n",
      "Iteration: 55, Average Fitness: 242077727975704832.0\n",
      "Iteration: 56, Average Fitness: 104088549726000000.0\n",
      "Iteration: 57, Average Fitness: 1220534876000000.0\n",
      "Iteration: 58, Average Fitness: 528006336000000.0\n",
      "Iteration: 59, Average Fitness: 16240698370000000.0\n",
      "Iteration: 60, Average Fitness: 2583381890719717.5\n",
      "Iteration: 61, Average Fitness: 2046046455350000128.0\n",
      "Iteration: 62, Average Fitness: 26613901000307332087808.0\n",
      "Iteration: 63, Average Fitness: 7023346827000000.0\n",
      "Iteration: 64, Average Fitness: 90350531000000.0\n",
      "Iteration: 65, Average Fitness: 12084409586000000.0\n",
      "Iteration: 66, Average Fitness: 24776189884827836.0\n",
      "Iteration: 67, Average Fitness: 13584898000000.0\n",
      "Iteration: 68, Average Fitness: 22620043421284691968.0\n",
      "Iteration: 69, Average Fitness: 206980025909239.5\n",
      "Iteration: 70, Average Fitness: 89416482795795.3\n",
      "Iteration: 71, Average Fitness: 18940542135957.6\n",
      "Iteration: 72, Average Fitness: 783549619703520256.0\n",
      "Iteration: 73, Average Fitness: 13244580219663.7\n",
      "Iteration: 74, Average Fitness: 75982945396514.4\n",
      "Iteration: 75, Average Fitness: 2807136382334575.0\n",
      "Iteration: 76, Average Fitness: 37577661001416.0\n",
      "Iteration: 77, Average Fitness: 2760166235928004.5\n",
      "Iteration: 78, Average Fitness: 428527673889.5\n",
      "Iteration: 79, Average Fitness: 277104663608697696.0\n",
      "Iteration: 80, Average Fitness: 29038275109239.4\n",
      "Iteration: 81, Average Fitness: 2206600434871089152.0\n",
      "Iteration: 82, Average Fitness: 29512646163651.8\n",
      "Iteration: 83, Average Fitness: 26158266747801.5\n",
      "Iteration: 84, Average Fitness: 31800509895218.9\n",
      "Iteration: 85, Average Fitness: 1068235377065.8\n",
      "Iteration: 86, Average Fitness: 13664388950411.2\n",
      "Iteration: 87, Average Fitness: 8362001882895858.0\n",
      "Iteration: 88, Average Fitness: 171137119853687.1\n",
      "Iteration: 89, Average Fitness: 13345641453.3\n",
      "Iteration: 90, Average Fitness: 66246574509.7\n",
      "Iteration: 91, Average Fitness: 5865571704.0\n",
      "Iteration: 92, Average Fitness: 3762449612439.8\n",
      "Iteration: 93, Average Fitness: 6646047222203.2\n",
      "Iteration: 94, Average Fitness: 2245547697.1\n",
      "Iteration: 95, Average Fitness: 10245882061.6\n",
      "Iteration: 96, Average Fitness: 32320534470.5\n",
      "Iteration: 97, Average Fitness: 16046309083.7\n",
      "Iteration: 98, Average Fitness: 271357642431.3\n",
      "Iteration: 99, Average Fitness: 785045626221477.6\n",
      "Iteration: 100, Average Fitness: 48884976964391.6\n",
      "\n",
      "Optimal Solution:\n",
      "Phi 1: -64.92, Psi 1: 83.72\n",
      "Phi 2: 7.57, Psi 2: -106.95\n",
      "Phi 3: -96.23, Psi 3: -33.83\n",
      "Phi 4: 120.81, Psi 4: 8.45\n",
      "Phi 5: -147.06, Psi 5: -57.47\n",
      "Phi 6: -10.62, Psi 6: -22.48\n",
      "Phi 7: 67.02, Psi 7: -55.62\n",
      "Phi 8: -48.73, Psi 8: -7.58\n",
      "Phi 9: -57.25, Psi 9: -27.27\n",
      "Phi 10: -55.83, Psi 10: 20.80\n",
      "Phi 11: 26.89, Psi 11: 40.75\n",
      "Phi 12: -0.06, Psi 12: 97.13\n",
      "Phi 13: -106.23, Psi 13: -81.91\n",
      "Phi 14: -29.31, Psi 14: 15.76\n",
      "Phi 15: -6.63, Psi 15: -99.94\n",
      "Phi 16: 72.30, Psi 16: 23.53\n",
      "Phi 17: 50.31, Psi 17: -48.48\n",
      "Phi 18: -81.60, Psi 18: 80.89\n",
      "Phi 19: -16.18, Psi 19: 103.19\n",
      "Phi 20: -79.83, Psi 20: -27.89\n",
      "Phi 21: -67.29, Psi 21: -20.77\n",
      "Phi 22: 89.71, Psi 22: 108.11\n",
      "Phi 23: -50.31, Psi 23: 37.87\n",
      "Phi 24: -85.50, Psi 24: 128.52\n",
      "Phi 25: -39.56, Psi 25: -72.47\n",
      "Phi 26: -180.00, Psi 26: 81.55\n",
      "Phi 27: -57.20, Psi 27: 94.88\n",
      "Phi 28: -31.17, Psi 28: -64.22\n",
      "Phi 29: -73.48, Psi 29: -151.51\n",
      "Phi 30: -110.44, Psi 30: -91.70\n",
      "Phi 31: 11.60, Psi 31: -89.30\n",
      "Phi 32: 133.64, Psi 32: -44.18\n",
      "Phi 33: 52.51, Psi 33: -8.64\n",
      "Phi 34: 9.70, Psi 34: 14.11\n",
      "Phi 35: 86.50, Psi 35: 8.72\n",
      "Phi 36: 118.23, Psi 36: -169.25\n",
      "Phi 37: -59.17, Psi 37: -56.91\n",
      "Phi 38: -117.42, Psi 38: 15.39\n",
      "Phi 39: 41.04, Psi 39: 38.79\n",
      "Phi 40: 44.90, Psi 40: 24.50\n",
      "Phi 41: -130.36, Psi 41: -118.41\n",
      "Phi 42: 108.14, Psi 42: -58.94\n",
      "Phi 43: 52.95, Psi 43: 55.95\n",
      "Phi 44: -132.19, Psi 44: 13.30\n",
      "Phi 45: 142.46, Psi 45: -18.28\n",
      "Phi 46: -4.95, Psi 46: -19.34\n",
      "Phi 47: -10.34, Psi 47: -103.41\n",
      "Phi 48: -5.83, Psi 48: 17.86\n",
      "Phi 49: -135.37, Psi 49: 131.45\n",
      "Phi 50: -29.63, Psi 50: 40.65\n",
      "Phi 51: -13.79, Psi 51: -5.92\n",
      "Phi 52: -62.46, Psi 52: -110.73\n",
      "Phi 53: 76.07, Psi 53: -14.52\n",
      "Phi 54: 31.12, Psi 54: -46.56\n",
      "Phi 55: -23.79, Psi 55: 99.72\n",
      "Phi 56: -1.21, Psi 56: 25.95\n"
     ]
    },
    {
     "data": {
      "image/png": "[encoded data removed]",
      "text/plain": [
       "<Figure size 720x360 with 1 Axes>"
      ]
     },
     "metadata": {},
     "output_type": "display_data"
    }
   ],
   "source": [
    "phis_psis = ga.optimize(max_iteration=100, compute_rmsd=True)"
   ]
  },
  {
   "cell_type": "markdown",
   "metadata": {},
   "source": [
    "## Generate PDB"
   ]
  },
  {
   "cell_type": "code",
   "execution_count": 25,
   "metadata": {},
   "outputs": [],
   "source": [
    "predicted_protein = phi_psi_to_pdb('1ROP-F', sequence, phis_psis)"
   ]
  },
  {
   "cell_type": "markdown",
   "metadata": {},
   "source": [
    "# Q1 - c) RMSD - Peptide Bond Protein vs Experimental Protein"
   ]
  },
  {
   "cell_type": "code",
   "execution_count": 26,
   "metadata": {},
   "outputs": [],
   "source": [
    "def calculate_translation(ref_atom, atom):\n",
    "    return ref_atom[['x', 'y', 'z']].values.reshape(-1) -\\\n",
    "               atom[['x', 'y', 'z']].values.reshape(-1)\n",
    "\n",
    "\n",
    "def translate_molecule_to_new_reference(ref_molecule, molecule):\n",
    "    ref_atom = ref_molecule.iloc[0]\n",
    "    atom = molecule.iloc[0]\n",
    "    \n",
    "    translation = calculate_translation(ref_atom, atom)\n",
    "    return translate(molecule, translation)\n",
    "\n",
    "\n",
    "def _rmsd(ref_molecule, molecule, atoms):\n",
    "    ref_molecule_filtered = ref_molecule[ref_molecule.atom_name.isin(atoms)].copy()\n",
    "    molecule_filtered = molecule[molecule.atom_name.isin(atoms)].copy()\n",
    "    translated_molecule_filtered = translate_molecule_to_new_reference(ref_molecule_filtered, molecule_filtered)\n",
    "        \n",
    "    molecules_df = pd.merge(ref_molecule_filtered, translated_molecule_filtered, on=['residue_seq_number', 'atom_name'])\n",
    "    \n",
    "    molecules_df['x_distance_squared'] = (molecules_df['x_x'] - molecules_df['x_y']) ** 2\n",
    "    molecules_df['y_distance_squared'] = (molecules_df['y_x'] - molecules_df['y_y']) ** 2\n",
    "    molecules_df['z_distance_squared'] = (molecules_df['z_x'] - molecules_df['z_y']) ** 2\n",
    "    \n",
    "    molecules_df['euclidean_distance_squared'] = (molecules_df['x_distance_squared'] + \n",
    "                                                  molecules_df['y_distance_squared'] +\n",
    "                                                  molecules_df['z_distance_squared'])\n",
    "    \n",
    "    return np.sqrt(np.mean(molecules_df['euclidean_distance_squared']))"
   ]
  },
  {
   "cell_type": "code",
   "execution_count": 27,
   "metadata": {
    "scrolled": true
   },
   "outputs": [
    {
     "name": "stdout",
     "output_type": "stream",
     "text": [
      "RMSD between experimental molecule and peptide bond molecule: 101.63Å\n"
     ]
    }
   ],
   "source": [
    "print('RMSD between experimental molecule and peptide bond molecule: %.2fÅ' % _rmsd(molecule, protein, ['CA']))"
   ]
  },
  {
   "cell_type": "code",
   "execution_count": 28,
   "metadata": {},
   "outputs": [],
   "source": [
    "molecule_ca_matrix = molecule[molecule.atom_name.isin(['CA'])][['x', 'y', 'z']].values\n",
    "protein_ca_matrix = protein[protein.atom_name.isin(['CA'])][['x', 'y', 'z']].values"
   ]
  },
  {
   "cell_type": "code",
   "execution_count": 29,
   "metadata": {},
   "outputs": [
    {
     "name": "stdout",
     "output_type": "stream",
     "text": [
      "RMSD between experimental molecule and peptide bond molecule (Kabsch RMSD): 72.95Å\n"
     ]
    }
   ],
   "source": [
    "print('RMSD between experimental molecule and peptide bond molecule '\n",
    "      '(Kabsch RMSD): %.2fÅ' % rmsd.kabsch_rmsd(molecule_ca_matrix, protein_ca_matrix))"
   ]
  },
  {
   "cell_type": "markdown",
   "metadata": {},
   "source": [
    "# Q1 - d) RMSD - Predicted Protein vs Experimental Protein"
   ]
  },
  {
   "cell_type": "code",
   "execution_count": 30,
   "metadata": {
    "scrolled": true
   },
   "outputs": [
    {
     "name": "stdout",
     "output_type": "stream",
     "text": [
      "RMSD between experimental molecule and predicted molecule: 34.63Å\n"
     ]
    }
   ],
   "source": [
    "print('RMSD between experimental molecule and predicted molecule: %.2fÅ' % _rmsd(molecule, predicted_protein, ['CA']))"
   ]
  },
  {
   "cell_type": "code",
   "execution_count": 31,
   "metadata": {},
   "outputs": [],
   "source": [
    "predicted_protein_ca_matrix = predicted_protein[predicted_protein.atom_name.isin(['CA'])][['x', 'y', 'z']].values"
   ]
  },
  {
   "cell_type": "code",
   "execution_count": 32,
   "metadata": {},
   "outputs": [
    {
     "name": "stdout",
     "output_type": "stream",
     "text": [
      "RMSD between experimental molecule and predicted molecule (Kabsch RMSD): 38.66Å\n"
     ]
    }
   ],
   "source": [
    "print('RMSD between experimental molecule and predicted molecule '\n",
    "      '(Kabsch RMSD): %.2fÅ' % rmsd.kabsch_rmsd(molecule_ca_matrix, predicted_protein_ca_matrix))"
   ]
  },
  {
   "cell_type": "markdown",
   "metadata": {},
   "source": [
    "## Q1 - e) Structural Analysis"
   ]
  },
  {
   "cell_type": "markdown",
   "metadata": {},
   "source": [
    "## Experimental and Predicted Phis and Psis"
   ]
  },
  {
   "cell_type": "code",
   "execution_count": 33,
   "metadata": {},
   "outputs": [],
   "source": [
    "def calculate_dihedral_angle(p1, p2, p3, p4):\n",
    "    p1, p2, p3, p4 = np.array(p1), np.array(p2), np.array(p3), np.array(p4)\n",
    "    \n",
    "    b1 = -1.0 * (p2 - p1)\n",
    "    b2 = p3 - p2\n",
    "    b3 = p4 - p3\n",
    "    \n",
    "    # normalize b2\n",
    "    b2 /= np.linalg.norm(b2)\n",
    "    \n",
    "    # projections of b1 and b3 onto plane perpendicular to b2\n",
    "    v = b1 - np.dot(b1, b2) * b2\n",
    "    w = b3 - np.dot(b3, b2) * b2\n",
    "    \n",
    "    # angle between v and w is the torsion angle\n",
    "    x = np.dot(v, w)\n",
    "    y = np.dot(np.cross(b2, v), w)\n",
    "    return np.degrees(np.arctan2(y, x))\n",
    "\n",
    "\n",
    "def _infer_phi(c_previous, n_current, c_alpha_current, c_current):\n",
    "    return calculate_dihedral_angle(c_previous, n_current, c_alpha_current, c_current)\n",
    "\n",
    "\n",
    "def _infer_psi(n_current, c_alpha_current, c_current, n_next):\n",
    "    return calculate_dihedral_angle(n_current, c_alpha_current, c_current, n_next)\n",
    "\n",
    "\n",
    "def infer_phi_psi(protein):\n",
    "    phi_psi = pd.DataFrame(data=None, columns=['amino', 'phi', 'psi'])    \n",
    "    previous_aminoacid = None\n",
    "    \n",
    "    for i in protein.residue_seq_number.unique():\n",
    "        current_aminoacid = protein[protein.residue_seq_number == str(i)].copy()\n",
    "        next_aminoacid = protein[protein.residue_seq_number == str(int(i)+1)].copy() \n",
    "        next_aminoacid = next_aminoacid if not next_aminoacid.empty else None\n",
    "        \n",
    "        c_previous = previous_aminoacid[previous_aminoacid.atom_name == 'C'][['x', 'y', 'z']].values.reshape(-1)\\\n",
    "                     if previous_aminoacid is not None else None\n",
    "        n_current = current_aminoacid[current_aminoacid.atom_name == 'N'][['x', 'y', 'z']].values.reshape(-1)\n",
    "        c_alpha_current = current_aminoacid[current_aminoacid.atom_name == 'CA'][['x', 'y', 'z']].values.reshape(-1)\n",
    "        c_current = current_aminoacid[current_aminoacid.atom_name == 'C'][['x', 'y', 'z']].values.reshape(-1)\n",
    "        n_next = next_aminoacid[next_aminoacid.atom_name == 'N'][['x', 'y', 'z']].values.reshape(-1)\\\n",
    "                 if next_aminoacid is not None else None\n",
    "\n",
    "        \n",
    "        phi = _infer_phi(c_previous, n_current, c_alpha_current, c_current) if previous_aminoacid is not None else None\n",
    "        psi = _infer_psi(n_current, c_alpha_current, c_current, n_next) if next_aminoacid is not None else None\n",
    "        \n",
    "        previous_aminoacid = current_aminoacid\n",
    "        \n",
    "        new_phi_psi = pd.DataFrame(data={'amino': [current_aminoacid.residue_name.iloc[0]], \n",
    "                                         'phi': [phi], \n",
    "                                         'psi': [psi]})  \n",
    "        phi_psi = phi_psi.append(new_phi_psi, sort=True, ignore_index=True)\n",
    "\n",
    "    return phi_psi"
   ]
  },
  {
   "cell_type": "code",
   "execution_count": 34,
   "metadata": {},
   "outputs": [],
   "source": [
    "predicted_phi_psi = infer_phi_psi(predicted_protein)\n",
    "experimental_phi_psi = infer_phi_psi(molecule)"
   ]
  },
  {
   "cell_type": "markdown",
   "metadata": {},
   "source": [
    "## Experimental and Predicted Ramachandran Plot"
   ]
  },
  {
   "cell_type": "code",
   "execution_count": 35,
   "metadata": {},
   "outputs": [],
   "source": [
    "def plot_ramachandran(ax, phi_psi, plot_title):\n",
    "    ax.set_title('Ramachandran Plot of %s.' % (plot_title))\n",
    "    ax.plot(phi_psi.phi, phi_psi.psi, '*')\n",
    "    ax.plot(np.linspace(-180, 180, len(phi_psi.phi)), np.zeros(len(phi_psi.psi)), 'k')\n",
    "    ax.plot(np.zeros(len(phi_psi.phi)), np.linspace(-180, 180, len(phi_psi.psi)), 'k')\n",
    "    ax.set(xlabel='Phi', ylabel='Psi')\n",
    "    ax.grid()\n",
    "    ax.axis([-180, 180, -180, 180])"
   ]
  },
  {
   "cell_type": "code",
   "execution_count": 36,
   "metadata": {},
   "outputs": [
    {
     "data": {
      "image/png": "[encoded data removed]",
      "text/plain": [
       "<Figure size 1152x576 with 2 Axes>"
      ]
     },
     "metadata": {},
     "output_type": "display_data"
    }
   ],
   "source": [
    "fig, ax = plt.subplots(nrows=1, ncols=2, figsize=(16,8))\n",
    "plot_ramachandran(ax[0], predicted_phi_psi,'Predicted Molecule')\n",
    "plot_ramachandran(ax[1], experimental_phi_psi, 'Experimental Molecule')"
   ]
  },
  {
   "cell_type": "markdown",
   "metadata": {},
   "source": [
    "## Experimental and Predicted Secondary Structure"
   ]
  },
  {
   "cell_type": "code",
   "execution_count": 37,
   "metadata": {},
   "outputs": [],
   "source": [
    "alpha_helix_phi_range = (-89, -39)\n",
    "alpha_helix_psi_range = (-66, -16)\n",
    "\n",
    "beta_sheet_phi_range = (-130, -105)\n",
    "beta_sheet_psi_range = (128, 147)"
   ]
  },
  {
   "cell_type": "code",
   "execution_count": 38,
   "metadata": {},
   "outputs": [],
   "source": [
    "def is_between(value, _range):\n",
    "    return _range[0] < value < _range[1]\n",
    "\n",
    "def is_alpha_helix(phi, psi):\n",
    "    is_helix_phi = is_between(phi, alpha_helix_phi_range)\n",
    "    is_helix_psi = is_between(psi, alpha_helix_psi_range)\n",
    "    return is_helix_phi and is_helix_phi\n",
    "\n",
    "def is_beta_sheet(phi, psi):\n",
    "    is_sheet_phi = is_between(phi, beta_sheet_phi_range)\n",
    "    is_sheet_psi = is_between(psi, beta_sheet_psi_range)\n",
    "    return is_sheet_phi and is_sheet_phi"
   ]
  },
  {
   "cell_type": "code",
   "execution_count": 39,
   "metadata": {},
   "outputs": [],
   "source": [
    "def infer_secondary_structure(phi_psi_df):\n",
    "    secondary_structure = ''\n",
    "    for i, row in phi_psi_df.iterrows():\n",
    "        phi, psi = row.phi, row.psi\n",
    "        \n",
    "        if phi is not None and psi is not None:\n",
    "            if is_alpha_helix(phi, psi):\n",
    "                secondary_structure += ('H')\n",
    "            elif is_beta_sheet(phi, psi):\n",
    "                secondary_structure += ('S')\n",
    "            else:\n",
    "                secondary_structure += ('-')\n",
    "        else:\n",
    "            secondary_structure += ('-')\n",
    "\n",
    "    return secondary_structure"
   ]
  },
  {
   "cell_type": "code",
   "execution_count": 40,
   "metadata": {},
   "outputs": [],
   "source": [
    "predicted_secondary_structure = infer_secondary_structure(predicted_phi_psi)\n",
    "experimental_secondary_structure = infer_secondary_structure(experimental_phi_psi)"
   ]
  },
  {
   "cell_type": "code",
   "execution_count": 41,
   "metadata": {},
   "outputs": [
    {
     "name": "stdout",
     "output_type": "stream",
     "text": [
      "Primary Structure:\n",
      "    MTKQEKTALNMARFIRSQTLTLLEKLNELDADEQADICESLHDHADELYRSCLARF\n",
      "\n",
      "Secondary Structure:\n",
      "  Predicted:\n",
      "    -------HHH--S----H-HH-HHH-H-HS------HS-------------H----\n",
      "  Experimental:\n",
      "    -HHHHHHHHHHHHHHHHHHHHHHHHHHH---HHHHHHHHHHHHHHHHHHHHHHHH-\n"
     ]
    }
   ],
   "source": [
    "print('Primary Structure:')\n",
    "print('    %s\\n' % sequence)\n",
    "print('Secondary Structure:')\n",
    "print('  Predicted:\\n    %s' % predicted_secondary_structure)\n",
    "print('  Experimental:\\n    %s' % experimental_secondary_structure)"
   ]
  },
  {
   "cell_type": "markdown",
   "metadata": {},
   "source": [
    "### α-Helix and β-Sheet percentage"
   ]
  },
  {
   "cell_type": "code",
   "execution_count": 42,
   "metadata": {},
   "outputs": [],
   "source": [
    "predicted_alpha_helix_percentage = np.mean([r == 'H' for r in predicted_secondary_structure]) * 100\n",
    "predicted_beta_sheet_percentage = np.mean([r == 'S' for r in predicted_secondary_structure]) * 100\n",
    "\n",
    "experimental_alpha_helix_percentage = np.mean([r == 'H' for r in experimental_secondary_structure]) * 100\n",
    "experimental_beta_sheet_percentage = np.mean([r == 'S' for r in experimental_secondary_structure]) * 100"
   ]
  },
  {
   "cell_type": "code",
   "execution_count": 43,
   "metadata": {},
   "outputs": [
    {
     "name": "stdout",
     "output_type": "stream",
     "text": [
      "Predicted:\n",
      "  - α-Helix: 23.2%\n",
      "  - β-Sheet: 5.4%\n",
      "Experimental:\n",
      "  - α-Helix: 91.1%\n",
      "  - β-Sheet: 0.0%\n"
     ]
    }
   ],
   "source": [
    "print('Predicted:\\n  - α-Helix: %.1f%%\\n  - β-Sheet: %.1f%%' % \n",
    "      (predicted_alpha_helix_percentage, predicted_beta_sheet_percentage))\n",
    "print('Experimental:\\n  - α-Helix: %.1f%%\\n  - β-Sheet: %.1f%%' % \n",
    "      (experimental_alpha_helix_percentage, experimental_beta_sheet_percentage))"
   ]
  },
  {
   "cell_type": "markdown",
   "metadata": {},
   "source": [
    "Done!"
   ]
  }
 ],
 "metadata": {
  "kernelspec": {
   "display_name": "Python 3",
   "language": "python",
   "name": "python3"
  },
  "language_info": {
   "codemirror_mode": {
    "name": "ipython",
    "version": 3
   },
   "file_extension": ".py",
   "mimetype": "text/x-python",
   "name": "python",
   "nbconvert_exporter": "python",
   "pygments_lexer": "ipython3",
   "version": "3.6.5"
  }
 },
 "nbformat": 4,
 "nbformat_minor": 2
}
