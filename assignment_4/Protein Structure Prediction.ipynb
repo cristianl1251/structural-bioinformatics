{
 "cells": [
  {
   "cell_type": "markdown",
   "metadata": {},
   "source": [
    "**CMP585 - Structural Bioinformatics**\n",
    "\n",
    "Cristian Lopes\n",
    "\n",
    "*Assignment 4*"
   ]
  },
  {
   "cell_type": "code",
   "execution_count": 1,
   "metadata": {},
   "outputs": [],
   "source": [
    "import pandas as pd\n",
    "import numpy as np\n",
    "import glob\n",
    "import matplotlib.pyplot as plt\n",
    "import time\n",
    "import os"
   ]
  },
  {
   "cell_type": "markdown",
   "metadata": {},
   "source": [
    "# Load Data"
   ]
  },
  {
   "cell_type": "code",
   "execution_count": 2,
   "metadata": {},
   "outputs": [],
   "source": [
    "def read_molecule(path):\n",
    "    atoms = []\n",
    "    with open(path, 'r') as f:\n",
    "        for line in f:\n",
    "            if line.startswith('ATOM'):\n",
    "                atoms.append({'atom_name': line[12:16].strip(),\n",
    "                              'element': line[77:78].strip(),\n",
    "                             'residue_name': line[17:20].strip(),\n",
    "                             'residue_seq_number': line[22:26].strip(),\n",
    "                             'x': float(line[30:38].strip()), \n",
    "                             'y': float(line[38:46].strip()),\n",
    "                             'z': float(line[46:54].strip())})\n",
    "    return pd.DataFrame(atoms)"
   ]
  },
  {
   "cell_type": "code",
   "execution_count": 3,
   "metadata": {},
   "outputs": [],
   "source": [
    "molecule = read_molecule('./data/1rop.pdb')"
   ]
  },
  {
   "cell_type": "code",
   "execution_count": 4,
   "metadata": {},
   "outputs": [
    {
     "data": {
      "text/html": [
       "<div>\n",
       "<style scoped>\n",
       "    .dataframe tbody tr th:only-of-type {\n",
       "        vertical-align: middle;\n",
       "    }\n",
       "\n",
       "    .dataframe tbody tr th {\n",
       "        vertical-align: top;\n",
       "    }\n",
       "\n",
       "    .dataframe thead th {\n",
       "        text-align: right;\n",
       "    }\n",
       "</style>\n",
       "<table border=\"1\" class=\"dataframe\">\n",
       "  <thead>\n",
       "    <tr style=\"text-align: right;\">\n",
       "      <th></th>\n",
       "      <th>atom_name</th>\n",
       "      <th>element</th>\n",
       "      <th>residue_name</th>\n",
       "      <th>residue_seq_number</th>\n",
       "      <th>x</th>\n",
       "      <th>y</th>\n",
       "      <th>z</th>\n",
       "    </tr>\n",
       "  </thead>\n",
       "  <tbody>\n",
       "    <tr>\n",
       "      <th>0</th>\n",
       "      <td>N</td>\n",
       "      <td>N</td>\n",
       "      <td>MET</td>\n",
       "      <td>1</td>\n",
       "      <td>31.007</td>\n",
       "      <td>2.290</td>\n",
       "      <td>18.034</td>\n",
       "    </tr>\n",
       "    <tr>\n",
       "      <th>1</th>\n",
       "      <td>CA</td>\n",
       "      <td>C</td>\n",
       "      <td>MET</td>\n",
       "      <td>1</td>\n",
       "      <td>32.390</td>\n",
       "      <td>2.582</td>\n",
       "      <td>17.546</td>\n",
       "    </tr>\n",
       "    <tr>\n",
       "      <th>2</th>\n",
       "      <td>C</td>\n",
       "      <td>C</td>\n",
       "      <td>MET</td>\n",
       "      <td>1</td>\n",
       "      <td>32.808</td>\n",
       "      <td>1.432</td>\n",
       "      <td>16.618</td>\n",
       "    </tr>\n",
       "    <tr>\n",
       "      <th>3</th>\n",
       "      <td>O</td>\n",
       "      <td>O</td>\n",
       "      <td>MET</td>\n",
       "      <td>1</td>\n",
       "      <td>32.375</td>\n",
       "      <td>0.280</td>\n",
       "      <td>16.846</td>\n",
       "    </tr>\n",
       "    <tr>\n",
       "      <th>4</th>\n",
       "      <td>CB</td>\n",
       "      <td>C</td>\n",
       "      <td>MET</td>\n",
       "      <td>1</td>\n",
       "      <td>33.271</td>\n",
       "      <td>2.428</td>\n",
       "      <td>18.810</td>\n",
       "    </tr>\n",
       "    <tr>\n",
       "      <th>5</th>\n",
       "      <td>CG</td>\n",
       "      <td>C</td>\n",
       "      <td>MET</td>\n",
       "      <td>1</td>\n",
       "      <td>34.257</td>\n",
       "      <td>3.540</td>\n",
       "      <td>18.961</td>\n",
       "    </tr>\n",
       "    <tr>\n",
       "      <th>6</th>\n",
       "      <td>SD</td>\n",
       "      <td>S</td>\n",
       "      <td>MET</td>\n",
       "      <td>1</td>\n",
       "      <td>35.104</td>\n",
       "      <td>3.150</td>\n",
       "      <td>20.545</td>\n",
       "    </tr>\n",
       "    <tr>\n",
       "      <th>7</th>\n",
       "      <td>CE</td>\n",
       "      <td>C</td>\n",
       "      <td>MET</td>\n",
       "      <td>1</td>\n",
       "      <td>33.734</td>\n",
       "      <td>3.285</td>\n",
       "      <td>21.683</td>\n",
       "    </tr>\n",
       "    <tr>\n",
       "      <th>8</th>\n",
       "      <td>N</td>\n",
       "      <td>N</td>\n",
       "      <td>THR</td>\n",
       "      <td>2</td>\n",
       "      <td>33.714</td>\n",
       "      <td>1.715</td>\n",
       "      <td>15.687</td>\n",
       "    </tr>\n",
       "    <tr>\n",
       "      <th>9</th>\n",
       "      <td>CA</td>\n",
       "      <td>C</td>\n",
       "      <td>THR</td>\n",
       "      <td>2</td>\n",
       "      <td>34.312</td>\n",
       "      <td>0.620</td>\n",
       "      <td>14.917</td>\n",
       "    </tr>\n",
       "    <tr>\n",
       "      <th>10</th>\n",
       "      <td>C</td>\n",
       "      <td>C</td>\n",
       "      <td>THR</td>\n",
       "      <td>2</td>\n",
       "      <td>35.377</td>\n",
       "      <td>-0.102</td>\n",
       "      <td>15.718</td>\n",
       "    </tr>\n",
       "    <tr>\n",
       "      <th>11</th>\n",
       "      <td>O</td>\n",
       "      <td>O</td>\n",
       "      <td>THR</td>\n",
       "      <td>2</td>\n",
       "      <td>35.855</td>\n",
       "      <td>0.431</td>\n",
       "      <td>16.788</td>\n",
       "    </tr>\n",
       "    <tr>\n",
       "      <th>12</th>\n",
       "      <td>CB</td>\n",
       "      <td>C</td>\n",
       "      <td>THR</td>\n",
       "      <td>2</td>\n",
       "      <td>34.953</td>\n",
       "      <td>1.126</td>\n",
       "      <td>13.554</td>\n",
       "    </tr>\n",
       "    <tr>\n",
       "      <th>13</th>\n",
       "      <td>OG1</td>\n",
       "      <td>O</td>\n",
       "      <td>THR</td>\n",
       "      <td>2</td>\n",
       "      <td>36.104</td>\n",
       "      <td>1.971</td>\n",
       "      <td>13.955</td>\n",
       "    </tr>\n",
       "    <tr>\n",
       "      <th>14</th>\n",
       "      <td>CG2</td>\n",
       "      <td>C</td>\n",
       "      <td>THR</td>\n",
       "      <td>2</td>\n",
       "      <td>33.901</td>\n",
       "      <td>1.999</td>\n",
       "      <td>12.806</td>\n",
       "    </tr>\n",
       "    <tr>\n",
       "      <th>15</th>\n",
       "      <td>N</td>\n",
       "      <td>N</td>\n",
       "      <td>LYS</td>\n",
       "      <td>3</td>\n",
       "      <td>35.824</td>\n",
       "      <td>-1.200</td>\n",
       "      <td>15.190</td>\n",
       "    </tr>\n",
       "    <tr>\n",
       "      <th>16</th>\n",
       "      <td>CA</td>\n",
       "      <td>C</td>\n",
       "      <td>LYS</td>\n",
       "      <td>3</td>\n",
       "      <td>36.887</td>\n",
       "      <td>-1.985</td>\n",
       "      <td>15.858</td>\n",
       "    </tr>\n",
       "    <tr>\n",
       "      <th>17</th>\n",
       "      <td>C</td>\n",
       "      <td>C</td>\n",
       "      <td>LYS</td>\n",
       "      <td>3</td>\n",
       "      <td>38.179</td>\n",
       "      <td>-1.233</td>\n",
       "      <td>15.828</td>\n",
       "    </tr>\n",
       "    <tr>\n",
       "      <th>18</th>\n",
       "      <td>O</td>\n",
       "      <td>O</td>\n",
       "      <td>LYS</td>\n",
       "      <td>3</td>\n",
       "      <td>38.975</td>\n",
       "      <td>-1.183</td>\n",
       "      <td>16.851</td>\n",
       "    </tr>\n",
       "    <tr>\n",
       "      <th>19</th>\n",
       "      <td>CB</td>\n",
       "      <td>C</td>\n",
       "      <td>LYS</td>\n",
       "      <td>3</td>\n",
       "      <td>37.042</td>\n",
       "      <td>-3.397</td>\n",
       "      <td>15.357</td>\n",
       "    </tr>\n",
       "  </tbody>\n",
       "</table>\n",
       "</div>"
      ],
      "text/plain": [
       "   atom_name element residue_name residue_seq_number       x      y       z\n",
       "0          N       N          MET                  1  31.007  2.290  18.034\n",
       "1         CA       C          MET                  1  32.390  2.582  17.546\n",
       "2          C       C          MET                  1  32.808  1.432  16.618\n",
       "3          O       O          MET                  1  32.375  0.280  16.846\n",
       "4         CB       C          MET                  1  33.271  2.428  18.810\n",
       "5         CG       C          MET                  1  34.257  3.540  18.961\n",
       "6         SD       S          MET                  1  35.104  3.150  20.545\n",
       "7         CE       C          MET                  1  33.734  3.285  21.683\n",
       "8          N       N          THR                  2  33.714  1.715  15.687\n",
       "9         CA       C          THR                  2  34.312  0.620  14.917\n",
       "10         C       C          THR                  2  35.377 -0.102  15.718\n",
       "11         O       O          THR                  2  35.855  0.431  16.788\n",
       "12        CB       C          THR                  2  34.953  1.126  13.554\n",
       "13       OG1       O          THR                  2  36.104  1.971  13.955\n",
       "14       CG2       C          THR                  2  33.901  1.999  12.806\n",
       "15         N       N          LYS                  3  35.824 -1.200  15.190\n",
       "16        CA       C          LYS                  3  36.887 -1.985  15.858\n",
       "17         C       C          LYS                  3  38.179 -1.233  15.828\n",
       "18         O       O          LYS                  3  38.975 -1.183  16.851\n",
       "19        CB       C          LYS                  3  37.042 -3.397  15.357"
      ]
     },
     "execution_count": 4,
     "metadata": {},
     "output_type": "execute_result"
    }
   ],
   "source": [
    "molecule.head(20)"
   ]
  },
  {
   "cell_type": "markdown",
   "metadata": {},
   "source": [
    "# Q1 - a) Peptide Bond"
   ]
  },
  {
   "cell_type": "markdown",
   "metadata": {},
   "source": [
    "First of all, we define the symbol of each amino acid."
   ]
  },
  {
   "cell_type": "code",
   "execution_count": 5,
   "metadata": {},
   "outputs": [],
   "source": [
    "symbol_to_residue_name = {\n",
    "    'T': 'THR', 'C': 'CYS', 'P': 'PRO', 'S': 'SER', 'I': 'ILE',\n",
    "    'V': 'VAL', 'A': 'ALA', 'R': 'ARG', 'N': 'ASN', 'F': 'PHE',\n",
    "    'L': 'LEU', 'G': 'GLY', 'E': 'GLU', 'D': 'ASP', 'Y': 'TYR',\n",
    "    'M': 'MET', 'K': 'LYS', 'Q': 'GLN', 'H': 'HIS', 'W': 'TRP'\n",
    "}"
   ]
  },
  {
   "cell_type": "markdown",
   "metadata": {},
   "source": [
    "## Load Amino Acids"
   ]
  },
  {
   "cell_type": "markdown",
   "metadata": {},
   "source": [
    "Then, we load the amino acids from the Protein Data Bank."
   ]
  },
  {
   "cell_type": "code",
   "execution_count": 6,
   "metadata": {},
   "outputs": [],
   "source": [
    "AMINOACID_PATH = './data/amino_acids/'\n",
    "aminoacids = pd.DataFrame()\n",
    "\n",
    "for f in glob.glob(AMINOACID_PATH + \"*.pdb\"):\n",
    "    aminoacids = aminoacids.append(read_molecule(f))"
   ]
  },
  {
   "cell_type": "markdown",
   "metadata": {},
   "source": [
    "Right now, we have a dictionnary of amino acids containing the position of each atom inside the amino acid."
   ]
  },
  {
   "cell_type": "markdown",
   "metadata": {},
   "source": [
    "## Translation and rotation"
   ]
  },
  {
   "cell_type": "markdown",
   "metadata": {},
   "source": [
    "Next step is to replace each symbol of the primary structure by its corresponding residue. First, we define a translation and a rotation function to move and rotate the next amino acid given the position of the previous aminoacid."
   ]
  },
  {
   "cell_type": "code",
   "execution_count": 7,
   "metadata": {},
   "outputs": [],
   "source": [
    "def translate(aminoacid, translation):\n",
    "    aminoacid[['x', 'y', 'z']] = aminoacid[['x', 'y', 'z']] + translation\n",
    "    return aminoacid"
   ]
  },
  {
   "cell_type": "code",
   "execution_count": 8,
   "metadata": {},
   "outputs": [],
   "source": [
    "def translation_to_origin(aminoacid, ref_atom='N'):\n",
    "    ref_translation = aminoacid[aminoacid.atom_name == ref_atom][['x', 'y', 'z']].values.reshape(-1)\n",
    "    return ref_translation, translate(aminoacid, -ref_translation)\n",
    "\n",
    "def rotate(aminoacid, angle_x, angle_y, angle_z):  \n",
    "    Rx = [[1, 0, 0], [0, np.cos(angle_x), -np.sin(angle_x)], [0, np.sin(angle_x), np.cos(angle_x)]]\n",
    "    Ry = [[np.cos(angle_y), 0, np.sin(angle_y)], [0, 1, 0], [-np.sin(angle_y), 0, np.cos(angle_y)]]\n",
    "    Rz = [[np.cos(angle_z), -np.sin(angle_z), 0], [np.sin(angle_z), np.cos(angle_z), 0], [0, 0, 1]]\n",
    "    R = np.dot(np.dot(Rx, Ry), Rz)\n",
    "    display(R)\n",
    "    \n",
    "    ref_translation, aminoacid = translation_to_origin(aminoacid)\n",
    "    display(aminoacid)\n",
    "    aminoacid[['x', 'y', 'z']] = R.dot(aminoacid[['x', 'y', 'z']].values.T).T\n",
    "    aminoacid = translate(aminoacid, ref_translation)\n",
    "\n",
    "    return aminoacid"
   ]
  },
  {
   "cell_type": "markdown",
   "metadata": {},
   "source": [
    "## Peptide Bond  Formation"
   ]
  },
  {
   "cell_type": "markdown",
   "metadata": {},
   "source": [
    "A peptide bond is a chemical bond formed between two molecules when the carboxyl group of one molecule reacts with the amino group of the other molecule, releasing a molecule of water (H2O). So, given the position of the Oxygen of the carboxyl group of the previous molecule and the position of the Nitrogen of the next molecule, we can translate the next molecule in order for its Nitrogen to be around the Oxygen position of the previous molecule."
   ]
  },
  {
   "cell_type": "code",
   "execution_count": 9,
   "metadata": {},
   "outputs": [],
   "source": [
    "sequence = 'MTKQEKTALNMARFIRSQTLTLLEKLNELDADEQADICESLHDHADELYRSCLARFGDDGENL'"
   ]
  },
  {
   "cell_type": "code",
   "execution_count": 10,
   "metadata": {},
   "outputs": [],
   "source": [
    "def _calculate_translation(previous_aminoacid, next_aminoacid):\n",
    "    o_pos = previous_aminoacid[previous_aminoacid.atom_name == 'OC'][['x', 'y', 'z']].values.reshape(-1)\n",
    "    n_pos = next_aminoacid[next_aminoacid.atom_name == 'N'][['x', 'y', 'z']].values.reshape(-1)\n",
    "    return o_pos - n_pos       \n",
    "\n",
    "def _remove_H2O(aminoacid):\n",
    "    return aminoacid[~aminoacid.atom_name.isin(['OC', 'HC', '1H'])]\n",
    "\n",
    "def assemble_3D_structure(sequence, aminoacids_df):\n",
    "    protein = pd.DataFrame(data=None, columns=['atom_name', 'element','residue_name', 'residue_seq_number', 'x', 'y', 'z'])    \n",
    "    previous_aminoacid, rotation = None, (0.0, 0.0, 0.0)\n",
    "    \n",
    "    for i, r in enumerate(sequence):\n",
    "        aminoacid = aminoacids_df[aminoacids_df.residue_name == symbol_to_residue_name[r]].copy()\n",
    "              \n",
    "        if previous_aminoacid is not None:\n",
    "            translation = _calculate_translation(previous_aminoacid, aminoacid)\n",
    "            aminoacid = translate(aminoacid, translation)\n",
    "        \n",
    "        aminoacid['residue_seq_number'] = str(i+1)\n",
    "        \n",
    "        previous_aminoacid = aminoacid\n",
    "        \n",
    "        aminoacid = _remove_H2O(aminoacid)\n",
    "        protein = protein.append(aminoacid, sort=True, ignore_index=True)\n",
    "     \n",
    "    return protein"
   ]
  },
  {
   "cell_type": "code",
   "execution_count": 11,
   "metadata": {
    "scrolled": false
   },
   "outputs": [],
   "source": [
    "protein = assemble_3D_structure(sequence, aminoacids)"
   ]
  },
  {
   "cell_type": "code",
   "execution_count": 12,
   "metadata": {},
   "outputs": [
    {
     "data": {
      "text/html": [
       "<div>\n",
       "<style scoped>\n",
       "    .dataframe tbody tr th:only-of-type {\n",
       "        vertical-align: middle;\n",
       "    }\n",
       "\n",
       "    .dataframe tbody tr th {\n",
       "        vertical-align: top;\n",
       "    }\n",
       "\n",
       "    .dataframe thead th {\n",
       "        text-align: right;\n",
       "    }\n",
       "</style>\n",
       "<table border=\"1\" class=\"dataframe\">\n",
       "  <thead>\n",
       "    <tr style=\"text-align: right;\">\n",
       "      <th></th>\n",
       "      <th>atom_name</th>\n",
       "      <th>element</th>\n",
       "      <th>residue_name</th>\n",
       "      <th>residue_seq_number</th>\n",
       "      <th>x</th>\n",
       "      <th>y</th>\n",
       "      <th>z</th>\n",
       "    </tr>\n",
       "  </thead>\n",
       "  <tbody>\n",
       "    <tr>\n",
       "      <th>0</th>\n",
       "      <td>N</td>\n",
       "      <td>N</td>\n",
       "      <td>MET</td>\n",
       "      <td>1</td>\n",
       "      <td>0.071</td>\n",
       "      <td>-0.215</td>\n",
       "      <td>0.000</td>\n",
       "    </tr>\n",
       "    <tr>\n",
       "      <th>1</th>\n",
       "      <td>CA</td>\n",
       "      <td>C</td>\n",
       "      <td>MET</td>\n",
       "      <td>1</td>\n",
       "      <td>1.519</td>\n",
       "      <td>-0.024</td>\n",
       "      <td>0.000</td>\n",
       "    </tr>\n",
       "    <tr>\n",
       "      <th>2</th>\n",
       "      <td>C</td>\n",
       "      <td>C</td>\n",
       "      <td>MET</td>\n",
       "      <td>1</td>\n",
       "      <td>1.871</td>\n",
       "      <td>1.444</td>\n",
       "      <td>0.000</td>\n",
       "    </tr>\n",
       "    <tr>\n",
       "      <th>3</th>\n",
       "      <td>O</td>\n",
       "      <td>O</td>\n",
       "      <td>MET</td>\n",
       "      <td>1</td>\n",
       "      <td>1.002</td>\n",
       "      <td>2.328</td>\n",
       "      <td>0.000</td>\n",
       "    </tr>\n",
       "    <tr>\n",
       "      <th>4</th>\n",
       "      <td>CB</td>\n",
       "      <td>C</td>\n",
       "      <td>MET</td>\n",
       "      <td>1</td>\n",
       "      <td>2.146</td>\n",
       "      <td>-0.745</td>\n",
       "      <td>-1.225</td>\n",
       "    </tr>\n",
       "  </tbody>\n",
       "</table>\n",
       "</div>"
      ],
      "text/plain": [
       "  atom_name element residue_name residue_seq_number      x      y      z\n",
       "0         N       N          MET                  1  0.071 -0.215  0.000\n",
       "1        CA       C          MET                  1  1.519 -0.024  0.000\n",
       "2         C       C          MET                  1  1.871  1.444  0.000\n",
       "3         O       O          MET                  1  1.002  2.328  0.000\n",
       "4        CB       C          MET                  1  2.146 -0.745 -1.225"
      ]
     },
     "execution_count": 12,
     "metadata": {},
     "output_type": "execute_result"
    }
   ],
   "source": [
    "protein.head()"
   ]
  },
  {
   "cell_type": "markdown",
   "metadata": {},
   "source": [
    "## Save do .pdb"
   ]
  },
  {
   "cell_type": "code",
   "execution_count": 13,
   "metadata": {},
   "outputs": [],
   "source": [
    "def write_atom_to_file(atom_seq_number, atom_row, element, f):\n",
    "    if len(atom_row.atom_name) < 4:\n",
    "        atom_seq_number += 1\n",
    "        template_row =\\\n",
    "        'ATOM    '+\\\n",
    "        ('%d'%atom_seq_number).rjust(3)+\\\n",
    "        '  '+\\\n",
    "        ('%s'%atom_row[0]).ljust(4)+\\\n",
    "        ''+\\\n",
    "        ('%s'%atom_row.residue_name).rjust(3)+\\\n",
    "        ' A'+\\\n",
    "        ('%s'%atom_row.residue_seq_number).rjust(4)+\\\n",
    "        '    '+\\\n",
    "        ('%.3f'%atom_row.x).rjust(8)+\\\n",
    "        ('%.3f'%atom_row.y).rjust(8)+\\\n",
    "        ('%.3f'%atom_row.z).rjust(8)+\\\n",
    "        '  1.00 10.00           '+\\\n",
    "        ('%s  \\n'%(element))\n",
    "        f.write(template_row)\n",
    "    return atom_seq_number\n",
    "    \n",
    "\n",
    "def write_pdb(file_name, protein):\n",
    "    atom_seq_number = 0\n",
    "\n",
    "    with open(file_name, 'w') as f:\n",
    "        for idx in range(len(protein.residue_seq_number.unique())):\n",
    "            for _, atom_row in protein[protein.residue_seq_number == str(idx+1)].iterrows():\n",
    "                element = 'C' if atom_row.element == '' else atom_row.element\n",
    "                atom_seq_number = write_atom_to_file(atom_seq_number, atom_row, element, f)"
   ]
  },
  {
   "cell_type": "code",
   "execution_count": 14,
   "metadata": {},
   "outputs": [],
   "source": [
    "write_pdb('1ROP-P.pdb', protein)"
   ]
  },
  {
   "cell_type": "markdown",
   "metadata": {},
   "source": [
    "# Q1 - b) Protein 3D Structure Prediction"
   ]
  },
  {
   "cell_type": "markdown",
   "metadata": {},
   "source": [
    "## Tinker Utilities"
   ]
  },
  {
   "cell_type": "code",
   "execution_count": 15,
   "metadata": {},
   "outputs": [],
   "source": [
    "def phi_psi_to_xyz(file_name, sequence, phis_psis):\n",
    "    residues_sequence_list = ['%s %f %f' % (symbol_to_residue_name[res], phi, psi) \\\n",
    "                              for res, phi, psi in zip(sequence, phis_psis[0::2], phis_psis[1::2])]\n",
    "    residues_sequence_str = '\\\\n'.join(residues_sequence_list)\n",
    "    \n",
    "    os.system(r'printf \"%s\\n\\n./tinker/charmm22\\n%s\\n\\n\\n\" | .\\tinker\\protein.exe' % (file_name, residues_sequence_str))\n",
    "\n",
    "\n",
    "def phi_psi_to_pdb(file_name, sequence, phis_psis):\n",
    "    def fix_generated_pdb(file_name):\n",
    "        protein = read_molecule(file_name)\n",
    "        write_pdb(file_name, protein)\n",
    "        \n",
    "    phi_psi_to_xyz(file_name, sequence, phis_psis)   \n",
    "    os.system(r'printf \"%s\\n./tinker/charmm22\\n\" | .\\tinker\\xyzpdb.exe' % (file_name))\n",
    "    \n",
    "    fix_generated_pdb(file_name+'.pdb')\n",
    "    delete_protein_files(file_name)\n",
    "\n",
    "\n",
    "def energy(file_name):\n",
    "    output = os.popen(r'printf \"%s\\n./tinker/charmm22\\nE\" | .\\tinker\\analyze.exe' % (file_name)).read()\n",
    "    return float(output[1590:1598].replace(\"D\",\"e\"))\n",
    "\n",
    "\n",
    "def delete_protein_files(file_name):\n",
    "    os.system(r'rm %s.xyz %s.seq %s.int' % tuple([file_name]*3))"
   ]
  },
  {
   "cell_type": "markdown",
   "metadata": {},
   "source": [
    "## Genetic Algorithm"
   ]
  },
  {
   "cell_type": "code",
   "execution_count": 16,
   "metadata": {
    "code_folding": []
   },
   "outputs": [],
   "source": [
    "class GeneticAlgorithm:\n",
    "    def __init__(self, sequence, n_population):\n",
    "        self.DIM_POPULATION = 2 * len(sequence)\n",
    "        self.N_POPULATION = n_population\n",
    "        self.sequence = sequence\n",
    "        \n",
    "        self.average_fitness = []\n",
    "        \n",
    "        self.population = self.initialize_population()\n",
    "        self.fitness = self.compute_population_fitness()\n",
    "        self.previous_fitness = None\n",
    "\n",
    "        self.absolute_iteration = 0\n",
    "\n",
    "\n",
    "    # Initialization\n",
    "    def initialize_population(self):\n",
    "        initial_population = [180.0 * np.random.uniform(-1, 1, self.DIM_POPULATION)\n",
    "                              for _ in range(self.N_POPULATION)]\n",
    "\n",
    "        return np.clip(initial_population, -180.0, 180.0)\n",
    "\n",
    "    def generate_new_population(self):\n",
    "        new_population = []\n",
    "        for _ in range(self.N_POPULATION // 2):\n",
    "            childrens = self.intermediate_recombination()\n",
    "            new_population.extend([self.gaussian_convolution(children) for children in childrens])\n",
    "\n",
    "        return np.clip(new_population, -180.0, 180.0)\n",
    "\n",
    "    # Fitness\n",
    "    def individual_fitness(self, individual):\n",
    "        phi_psi_to_xyz('individual', self.sequence, individual)\n",
    "        fitness = energy('individual')\n",
    "        delete_protein_files('individual')\n",
    "        \n",
    "        return fitness\n",
    "\n",
    "    def compute_population_fitness(self):\n",
    "        population_fitness = []\n",
    "        for individual in self.population:\n",
    "            population_fitness.append(self.individual_fitness(individual))\n",
    "\n",
    "        return population_fitness\n",
    "\n",
    "    # Selection\n",
    "    def fitness_proportionate_selection(self):\n",
    "        probabilities = (np.max(self.fitness) - self.fitness) / np.sum(np.max(self.fitness) - self.fitness)\n",
    "        idx = np.random.choice(self.N_POPULATION, replace=True, p=probabilities)\n",
    "\n",
    "        return self.population[idx]\n",
    "\n",
    "    # Crossover\n",
    "    def intermediate_recombination(self):\n",
    "        p = 0.2\n",
    "        alpha = np.random.uniform(-p, 1+p)\n",
    "        beta = np.random.uniform(-p, 1+p)\n",
    "\n",
    "        parent_1 = self.fitness_proportionate_selection()\n",
    "        parent_2 = self.fitness_proportionate_selection()\n",
    "\n",
    "        children_1 = alpha * parent_1 + (1 - alpha) * parent_2\n",
    "        children_2 = beta * parent_1 + (1 - beta) * parent_2\n",
    "\n",
    "        return [children_1, children_2]\n",
    "\n",
    "    # Mutation\n",
    "    def gaussian_convolution(self, children):\n",
    "        add_noise_prob = np.random.rand(self.DIM_POPULATION)\n",
    "\n",
    "        sigma = 5.0\n",
    "        noise = sigma * np.random.randn(self.DIM_POPULATION)\n",
    "\n",
    "        return children + noise * (add_noise_prob > 0.5)\n",
    "\n",
    "    def done(self, epsilon, iteration, max_iteration):\n",
    "        converged = (np.abs(np.mean(self.fitness) - np.mean(self.previous_fitness)) < epsilon) \\\n",
    "                     if self.previous_fitness is not None else False\n",
    "        taking_too_long = iteration > max_iteration\n",
    "\n",
    "        return converged or taking_too_long\n",
    "\n",
    "    def show_results(self):\n",
    "        print('\\nOptimal Solution:\\n')\n",
    "        print(self.population[np.argmin(self.fitness)])\n",
    "\n",
    "        plt.plot(self.average_fitness)\n",
    "        plt.title('Average Fitness Convergence.')\n",
    "        plt.show()\n",
    "\n",
    "    def optimize(self, max_iteration=500):        \n",
    "        iteration = 0 \n",
    "        \n",
    "        while not self.done(epsilon=1e-8, iteration=iteration, max_iteration=max_iteration):\n",
    "            iteration += 1\n",
    "            self.absolute_iteration += 1\n",
    "            self.previous_fitness = self.fitness\n",
    "\n",
    "            self.population = self.generate_new_population()\n",
    "            self.fitness = self.compute_population_fitness()\n",
    "\n",
    "            self.average_fitness.append(np.mean(self.fitness))\n",
    "            print('Iteration: %d, Average Fitness: %.1f' % (self.absolute_iteration, np.mean(self.fitness)))\n",
    "\n",
    "        self.show_results()\n",
    "\n",
    "        return self.population[np.argmin(self.fitness)]"
   ]
  },
  {
   "cell_type": "code",
   "execution_count": 17,
   "metadata": {},
   "outputs": [],
   "source": [
    "ga = GeneticAlgorithm(sequence, 10)"
   ]
  },
  {
   "cell_type": "code",
   "execution_count": 18,
   "metadata": {
    "scrolled": false
   },
   "outputs": [
    {
     "name": "stdout",
     "output_type": "stream",
     "text": [
      "Iteration: 1, Average Fitness: 3166292100000000000.0\n",
      "Iteration: 2, Average Fitness: 2191316310000000256.0\n",
      "Iteration: 3, Average Fitness: 123551958000000008192.0\n",
      "Iteration: 4, Average Fitness: 77018890000000224.0\n",
      "Iteration: 5, Average Fitness: 10240912033369997443072.0\n",
      "Iteration: 6, Average Fitness: 2047000638663239988674560.0\n",
      "Iteration: 7, Average Fitness: 25853610000000292.0\n",
      "Iteration: 8, Average Fitness: 55032670000000256.0\n",
      "Iteration: 9, Average Fitness: 6794040000000092.0\n",
      "Iteration: 10, Average Fitness: 1389100000000319.2\n",
      "Iteration: 11, Average Fitness: 586010000000312.2\n",
      "\n",
      "Optimal Solution:\n",
      "\n",
      "[  32.98989559 -123.85204121  -11.65777432  -27.19495631   41.67707799\n",
      "   70.06525964   49.78081042  -21.98278345  -93.65712711  -67.24446261\n",
      "   93.63727582  156.27297211  -37.80781603  142.66040354  -46.78563313\n",
      "   49.5245014   -42.52333238  -12.3207314     1.56515391  -52.42105905\n",
      "   79.28905645   24.30671697  -74.72861088   36.86809582   27.91328639\n",
      "   55.06926647   -7.33479676  -60.99698187   17.79235292   88.41557683\n",
      "  -62.66392889    9.5630546   -12.0206771   -10.44545618 -112.4655998\n",
      "  -21.58966903   97.61215494   -6.98284777   60.92067888  -49.31365231\n",
      "  -46.29202434   89.31887645  -24.65530237   80.66875121  -55.17862764\n",
      "    9.40014128  -19.48547059   66.28139212   74.2361259    -7.87482566\n",
      "   88.35122749   26.49529829  -30.85276053 -105.11760506  -69.00516231\n",
      "  -14.27690714   37.22527382   49.8461539    17.3161454    -6.61566744\n",
      "  -81.88056995  -27.22198863   11.23256646  -24.00965545  133.87821079\n",
      "   40.20686883  -32.58885823   82.50986706   48.77566381   90.98077458\n",
      "  -53.10834252   92.29981582  -18.27103111   45.11029734    4.9266867\n",
      "   66.49709461  -73.2429767     1.73773607    6.18342404   94.64331885\n",
      "  111.81715537  108.17434958    8.32259843   37.89698654   -6.14979516\n",
      "  -66.25932128 -102.3059667    58.25837029  -54.79779867  -50.02844068\n",
      "  -40.44972128  -38.42349791  -39.15505221  -14.44391374  -46.06092638\n",
      "  -14.3765723    91.99351209   69.81863601   49.77051029   37.66297715\n",
      "  -22.25575926 -111.03167231  -80.72637983   37.18106173   27.1858594\n",
      "   19.32323729   -1.02148224  -62.42790572   46.43767397  -68.93070028\n",
      "  -94.09098431    2.98972441   17.90040326  -12.9371076   -13.79995962\n",
      "   -8.93574061   13.2127337    -2.66202688  -35.26505539   73.49753273\n",
      "  -46.34406046   82.70684166   69.07026557   64.68211927  -14.15773079\n",
      "  -28.83380149]\n"
     ]
    },
    {
     "data": {
      "image/png": "[encoded data removed]",
      "text/plain": [
       "<Figure size 432x288 with 1 Axes>"
      ]
     },
     "metadata": {},
     "output_type": "display_data"
    }
   ],
   "source": [
    "phis_psis = ga.optimize(10)"
   ]
  },
  {
   "cell_type": "markdown",
   "metadata": {},
   "source": [
    "## Generate PDB"
   ]
  },
  {
   "cell_type": "code",
   "execution_count": 19,
   "metadata": {},
   "outputs": [],
   "source": [
    "phi_psi_to_pdb('1ROP-F', sequence, phis_psis)"
   ]
  },
  {
   "cell_type": "markdown",
   "metadata": {},
   "source": [
    "Done!"
   ]
  }
 ],
 "metadata": {
  "kernelspec": {
   "display_name": "Python 3",
   "language": "python",
   "name": "python3"
  },
  "language_info": {
   "codemirror_mode": {
    "name": "ipython",
    "version": 3
   },
   "file_extension": ".py",
   "mimetype": "text/x-python",
   "name": "python",
   "nbconvert_exporter": "python",
   "pygments_lexer": "ipython3",
   "version": "3.6.5"
  }
 },
 "nbformat": 4,
 "nbformat_minor": 2
}
