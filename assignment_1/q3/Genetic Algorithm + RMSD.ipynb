{
 "cells": [
  {
   "cell_type": "markdown",
   "metadata": {},
   "source": [
    "**CMP585 - Structural Bioinformatics**\n",
    "\n",
    "Cristian Lopes\n",
    "\n",
    "*Assignment 1: Q3*"
   ]
  },
  {
   "cell_type": "code",
   "execution_count": 1,
   "metadata": {},
   "outputs": [],
   "source": [
    "import pandas as pd\n",
    "import numpy as np"
   ]
  },
  {
   "cell_type": "markdown",
   "metadata": {},
   "source": [
    "# Load Data"
   ]
  },
  {
   "cell_type": "markdown",
   "metadata": {},
   "source": [
    "## Read Molecules"
   ]
  },
  {
   "cell_type": "code",
   "execution_count": 2,
   "metadata": {},
   "outputs": [],
   "source": [
    "reference_path = 'data/reference.pdb'\n",
    "model_paths = ['data/1ACW-0%s.pdb' % (1 + n) for n in range(6)]"
   ]
  },
  {
   "cell_type": "code",
   "execution_count": 3,
   "metadata": {},
   "outputs": [],
   "source": [
    "def read_molecule(path):\n",
    "    atoms = []\n",
    "    with open(path, 'r') as f:\n",
    "        for line in f:\n",
    "            if line.startswith('ATOM'):\n",
    "                atoms.append({'atom_name': line[12:16].strip(), \n",
    "                             'residue_name': line[17:20].strip(),\n",
    "                             'residue_seq_number': line[22:26].strip(),\n",
    "                             'x': float(line[30:38].strip()), \n",
    "                             'y': float(line[38:46].strip()),\n",
    "                             'z': float(line[46:54].strip())})\n",
    "    return pd.DataFrame(atoms)"
   ]
  },
  {
   "cell_type": "markdown",
   "metadata": {},
   "source": [
    "## Reference Molecule"
   ]
  },
  {
   "cell_type": "code",
   "execution_count": 4,
   "metadata": {},
   "outputs": [],
   "source": [
    "reference_molecule = read_molecule(reference_path).iloc[:410]"
   ]
  },
  {
   "cell_type": "code",
   "execution_count": 5,
   "metadata": {},
   "outputs": [
    {
     "data": {
      "text/html": [
       "<div>\n",
       "<style scoped>\n",
       "    .dataframe tbody tr th:only-of-type {\n",
       "        vertical-align: middle;\n",
       "    }\n",
       "\n",
       "    .dataframe tbody tr th {\n",
       "        vertical-align: top;\n",
       "    }\n",
       "\n",
       "    .dataframe thead th {\n",
       "        text-align: right;\n",
       "    }\n",
       "</style>\n",
       "<table border=\"1\" class=\"dataframe\">\n",
       "  <thead>\n",
       "    <tr style=\"text-align: right;\">\n",
       "      <th></th>\n",
       "      <th>atom_name</th>\n",
       "      <th>residue_name</th>\n",
       "      <th>residue_seq_number</th>\n",
       "      <th>x</th>\n",
       "      <th>y</th>\n",
       "      <th>z</th>\n",
       "    </tr>\n",
       "  </thead>\n",
       "  <tbody>\n",
       "    <tr>\n",
       "      <th>0</th>\n",
       "      <td>N</td>\n",
       "      <td>VAL</td>\n",
       "      <td>1</td>\n",
       "      <td>0.965</td>\n",
       "      <td>0.298</td>\n",
       "      <td>-0.467</td>\n",
       "    </tr>\n",
       "    <tr>\n",
       "      <th>1</th>\n",
       "      <td>CA</td>\n",
       "      <td>VAL</td>\n",
       "      <td>1</td>\n",
       "      <td>1.811</td>\n",
       "      <td>0.250</td>\n",
       "      <td>-1.701</td>\n",
       "    </tr>\n",
       "    <tr>\n",
       "      <th>2</th>\n",
       "      <td>C</td>\n",
       "      <td>VAL</td>\n",
       "      <td>1</td>\n",
       "      <td>3.290</td>\n",
       "      <td>0.400</td>\n",
       "      <td>-1.320</td>\n",
       "    </tr>\n",
       "    <tr>\n",
       "      <th>3</th>\n",
       "      <td>O</td>\n",
       "      <td>VAL</td>\n",
       "      <td>1</td>\n",
       "      <td>3.628</td>\n",
       "      <td>1.053</td>\n",
       "      <td>-0.346</td>\n",
       "    </tr>\n",
       "    <tr>\n",
       "      <th>4</th>\n",
       "      <td>CB</td>\n",
       "      <td>VAL</td>\n",
       "      <td>1</td>\n",
       "      <td>1.417</td>\n",
       "      <td>1.384</td>\n",
       "      <td>-2.664</td>\n",
       "    </tr>\n",
       "  </tbody>\n",
       "</table>\n",
       "</div>"
      ],
      "text/plain": [
       "  atom_name residue_name residue_seq_number      x      y      z\n",
       "0         N          VAL                  1  0.965  0.298 -0.467\n",
       "1        CA          VAL                  1  1.811  0.250 -1.701\n",
       "2         C          VAL                  1  3.290  0.400 -1.320\n",
       "3         O          VAL                  1  3.628  1.053 -0.346\n",
       "4        CB          VAL                  1  1.417  1.384 -2.664"
      ]
     },
     "execution_count": 5,
     "metadata": {},
     "output_type": "execute_result"
    }
   ],
   "source": [
    "reference_molecule.head()"
   ]
  },
  {
   "cell_type": "markdown",
   "metadata": {},
   "source": [
    "## Model Molecules"
   ]
  },
  {
   "cell_type": "code",
   "execution_count": 6,
   "metadata": {},
   "outputs": [],
   "source": [
    "model_molecules = [read_molecule(path) for path in model_paths]"
   ]
  },
  {
   "cell_type": "code",
   "execution_count": 7,
   "metadata": {},
   "outputs": [
    {
     "data": {
      "text/html": [
       "<div>\n",
       "<style scoped>\n",
       "    .dataframe tbody tr th:only-of-type {\n",
       "        vertical-align: middle;\n",
       "    }\n",
       "\n",
       "    .dataframe tbody tr th {\n",
       "        vertical-align: top;\n",
       "    }\n",
       "\n",
       "    .dataframe thead th {\n",
       "        text-align: right;\n",
       "    }\n",
       "</style>\n",
       "<table border=\"1\" class=\"dataframe\">\n",
       "  <thead>\n",
       "    <tr style=\"text-align: right;\">\n",
       "      <th></th>\n",
       "      <th>atom_name</th>\n",
       "      <th>residue_name</th>\n",
       "      <th>residue_seq_number</th>\n",
       "      <th>x</th>\n",
       "      <th>y</th>\n",
       "      <th>z</th>\n",
       "    </tr>\n",
       "  </thead>\n",
       "  <tbody>\n",
       "    <tr>\n",
       "      <th>0</th>\n",
       "      <td>N</td>\n",
       "      <td>VAL</td>\n",
       "      <td>1</td>\n",
       "      <td>-1.352</td>\n",
       "      <td>-2.044</td>\n",
       "      <td>0.000</td>\n",
       "    </tr>\n",
       "    <tr>\n",
       "      <th>1</th>\n",
       "      <td>H1</td>\n",
       "      <td>VAL</td>\n",
       "      <td>1</td>\n",
       "      <td>-1.990</td>\n",
       "      <td>-1.261</td>\n",
       "      <td>0.000</td>\n",
       "    </tr>\n",
       "    <tr>\n",
       "      <th>2</th>\n",
       "      <td>H2</td>\n",
       "      <td>VAL</td>\n",
       "      <td>1</td>\n",
       "      <td>-1.446</td>\n",
       "      <td>-2.540</td>\n",
       "      <td>0.875</td>\n",
       "    </tr>\n",
       "    <tr>\n",
       "      <th>3</th>\n",
       "      <td>H3</td>\n",
       "      <td>VAL</td>\n",
       "      <td>1</td>\n",
       "      <td>-1.446</td>\n",
       "      <td>-2.540</td>\n",
       "      <td>-0.875</td>\n",
       "    </tr>\n",
       "    <tr>\n",
       "      <th>4</th>\n",
       "      <td>CA</td>\n",
       "      <td>VAL</td>\n",
       "      <td>1</td>\n",
       "      <td>0.000</td>\n",
       "      <td>-1.523</td>\n",
       "      <td>0.000</td>\n",
       "    </tr>\n",
       "  </tbody>\n",
       "</table>\n",
       "</div>"
      ],
      "text/plain": [
       "  atom_name residue_name residue_seq_number      x      y      z\n",
       "0         N          VAL                  1 -1.352 -2.044  0.000\n",
       "1        H1          VAL                  1 -1.990 -1.261  0.000\n",
       "2        H2          VAL                  1 -1.446 -2.540  0.875\n",
       "3        H3          VAL                  1 -1.446 -2.540 -0.875\n",
       "4        CA          VAL                  1  0.000 -1.523  0.000"
      ]
     },
     "execution_count": 7,
     "metadata": {},
     "output_type": "execute_result"
    }
   ],
   "source": [
    "model_molecules[0].head()"
   ]
  },
  {
   "cell_type": "markdown",
   "metadata": {},
   "source": [
    "# Calculate RMSD for translated molecules"
   ]
  },
  {
   "cell_type": "markdown",
   "metadata": {},
   "source": [
    "## Define translation"
   ]
  },
  {
   "cell_type": "code",
   "execution_count": 8,
   "metadata": {},
   "outputs": [],
   "source": [
    "def calculate_translation(ref_atom, model_atom):\n",
    "    return ref_atom[['x', 'y', 'z']] - model_atom[['x', 'y', 'z']]\n",
    "\n",
    "def translate_molecule_to_new_reference(ref_molecule, model_molecule, translation): \n",
    "    translated_model_molecule = model_molecule.copy()\n",
    "    translated_model_molecule['x'] = model_molecule['x'] + translation['x']\n",
    "    translated_model_molecule['y'] = model_molecule['y'] + translation['y']\n",
    "    translated_model_molecule['z'] = model_molecule['z'] + translation['z']\n",
    "    \n",
    "    return translated_model_molecule"
   ]
  },
  {
   "cell_type": "markdown",
   "metadata": {},
   "source": [
    "## Define RMSD"
   ]
  },
  {
   "cell_type": "code",
   "execution_count": 9,
   "metadata": {},
   "outputs": [],
   "source": [
    "def molecules_rmsd(ref_molecule, model_molecule):\n",
    "    molecules_df = pd.merge(ref_molecule, model_molecule, on=['residue_seq_number', 'atom_name'])\n",
    "    \n",
    "    molecules_df['x_distance_squared'] = (molecules_df['x_x'] - molecules_df['x_y']) ** 2\n",
    "    molecules_df['y_distance_squared'] = (molecules_df['y_x'] - molecules_df['y_y']) ** 2\n",
    "    molecules_df['z_distance_squared'] = (molecules_df['z_x'] - molecules_df['z_y']) ** 2\n",
    "    \n",
    "    molecules_df['euclidean_distance_squared'] = (molecules_df['x_distance_squared'] + \n",
    "                                                  molecules_df['y_distance_squared'] +\n",
    "                                                  molecules_df['z_distance_squared'])\n",
    "    \n",
    "    return np.sqrt(np.mean(molecules_df['euclidean_distance_squared']))"
   ]
  },
  {
   "cell_type": "markdown",
   "metadata": {},
   "source": [
    "# Genetic Algorithm"
   ]
  },
  {
   "cell_type": "code",
   "execution_count": 10,
   "metadata": {},
   "outputs": [],
   "source": [
    "model_molecule = model_molecules[0]"
   ]
  },
  {
   "cell_type": "markdown",
   "metadata": {},
   "source": [
    "## Genetic Algorithm Step by Step"
   ]
  },
  {
   "cell_type": "markdown",
   "metadata": {},
   "source": [
    "### Initialization"
   ]
  },
  {
   "cell_type": "code",
   "execution_count": 11,
   "metadata": {},
   "outputs": [],
   "source": [
    "DIM_POPULATION = 3\n",
    "N_POPULATION = 10"
   ]
  },
  {
   "cell_type": "code",
   "execution_count": 12,
   "metadata": {},
   "outputs": [],
   "source": [
    "def initialize_population(reference_molecule, model_molecule):\n",
    "    # This method considers the first Alpha Carbon as system reference\n",
    "    ref_system_ref = reference_molecule[reference_molecule.atom_name == 'CA'].iloc[0]\n",
    "    molecule_system_ref = model_molecule[model_molecule.atom_name == 'CA'].iloc[0]\n",
    "\n",
    "    initial_magnitude = calculate_translation(ref_system_ref, molecule_system_ref)\n",
    "    initial_population = [initial_magnitude * np.random.uniform(-1, 1, DIM_POPULATION)\n",
    "                          for _ in range(N_POPULATION)]\n",
    "\n",
    "    return initial_population"
   ]
  },
  {
   "cell_type": "code",
   "execution_count": 13,
   "metadata": {},
   "outputs": [],
   "source": [
    "initial_population = initialize_population(reference_molecule, model_molecule)"
   ]
  },
  {
   "cell_type": "code",
   "execution_count": 14,
   "metadata": {},
   "outputs": [
    {
     "data": {
      "text/html": [
       "<div>\n",
       "<style scoped>\n",
       "    .dataframe tbody tr th:only-of-type {\n",
       "        vertical-align: middle;\n",
       "    }\n",
       "\n",
       "    .dataframe tbody tr th {\n",
       "        vertical-align: top;\n",
       "    }\n",
       "\n",
       "    .dataframe thead th {\n",
       "        text-align: right;\n",
       "    }\n",
       "</style>\n",
       "<table border=\"1\" class=\"dataframe\">\n",
       "  <thead>\n",
       "    <tr style=\"text-align: right;\">\n",
       "      <th></th>\n",
       "      <th>x</th>\n",
       "      <th>y</th>\n",
       "      <th>z</th>\n",
       "    </tr>\n",
       "  </thead>\n",
       "  <tbody>\n",
       "    <tr>\n",
       "      <th>0</th>\n",
       "      <td>-0.939931</td>\n",
       "      <td>1.348071</td>\n",
       "      <td>1.132427</td>\n",
       "    </tr>\n",
       "    <tr>\n",
       "      <th>1</th>\n",
       "      <td>0.053960</td>\n",
       "      <td>1.082299</td>\n",
       "      <td>-1.271295</td>\n",
       "    </tr>\n",
       "    <tr>\n",
       "      <th>2</th>\n",
       "      <td>-1.720649</td>\n",
       "      <td>0.839037</td>\n",
       "      <td>-0.948324</td>\n",
       "    </tr>\n",
       "    <tr>\n",
       "      <th>3</th>\n",
       "      <td>-1.678878</td>\n",
       "      <td>0.768482</td>\n",
       "      <td>-0.913947</td>\n",
       "    </tr>\n",
       "    <tr>\n",
       "      <th>4</th>\n",
       "      <td>-0.169963</td>\n",
       "      <td>-1.086532</td>\n",
       "      <td>-1.063963</td>\n",
       "    </tr>\n",
       "    <tr>\n",
       "      <th>5</th>\n",
       "      <td>1.525452</td>\n",
       "      <td>-0.211527</td>\n",
       "      <td>-0.549096</td>\n",
       "    </tr>\n",
       "    <tr>\n",
       "      <th>6</th>\n",
       "      <td>0.880129</td>\n",
       "      <td>1.508413</td>\n",
       "      <td>-1.599898</td>\n",
       "    </tr>\n",
       "    <tr>\n",
       "      <th>7</th>\n",
       "      <td>-0.758998</td>\n",
       "      <td>-1.761677</td>\n",
       "      <td>0.443970</td>\n",
       "    </tr>\n",
       "    <tr>\n",
       "      <th>8</th>\n",
       "      <td>0.242570</td>\n",
       "      <td>-0.258912</td>\n",
       "      <td>1.038927</td>\n",
       "    </tr>\n",
       "    <tr>\n",
       "      <th>9</th>\n",
       "      <td>0.166745</td>\n",
       "      <td>-0.174647</td>\n",
       "      <td>1.487495</td>\n",
       "    </tr>\n",
       "  </tbody>\n",
       "</table>\n",
       "</div>"
      ],
      "text/plain": [
       "          x         y         z\n",
       "0 -0.939931  1.348071  1.132427\n",
       "1  0.053960  1.082299 -1.271295\n",
       "2 -1.720649  0.839037 -0.948324\n",
       "3 -1.678878  0.768482 -0.913947\n",
       "4 -0.169963 -1.086532 -1.063963\n",
       "5  1.525452 -0.211527 -0.549096\n",
       "6  0.880129  1.508413 -1.599898\n",
       "7 -0.758998 -1.761677  0.443970\n",
       "8  0.242570 -0.258912  1.038927\n",
       "9  0.166745 -0.174647  1.487495"
      ]
     },
     "execution_count": 14,
     "metadata": {},
     "output_type": "execute_result"
    }
   ],
   "source": [
    "pd.DataFrame(initial_population)"
   ]
  },
  {
   "cell_type": "markdown",
   "metadata": {},
   "source": [
    "### Fitness Function"
   ]
  },
  {
   "cell_type": "code",
   "execution_count": 15,
   "metadata": {},
   "outputs": [],
   "source": [
    "def individual_fitness(reference_molecule, model_molecule, translation, atoms=['C', 'N', 'O']):\n",
    "    translated_model_molecule = translate_molecule_to_new_reference(reference_molecule, model_molecule, translation)\n",
    "    \n",
    "    # Selecting atoms of interest\n",
    "    reference_molecule_filtered = reference_molecule[reference_molecule.atom_name.isin(atoms)]\n",
    "    translated_model_molecule_filtered = translated_model_molecule[translated_model_molecule.atom_name.isin(atoms)]\n",
    "\n",
    "    return molecules_rmsd(reference_molecule_filtered, translated_model_molecule_filtered)"
   ]
  },
  {
   "cell_type": "code",
   "execution_count": 16,
   "metadata": {
    "scrolled": false
   },
   "outputs": [],
   "source": [
    "population = initial_population\n",
    "\n",
    "fitness = [individual_fitness(reference_molecule, model_molecule, individual) \n",
    "                      for individual in population]"
   ]
  },
  {
   "cell_type": "code",
   "execution_count": 17,
   "metadata": {},
   "outputs": [
    {
     "data": {
      "text/html": [
       "<div>\n",
       "<style scoped>\n",
       "    .dataframe tbody tr th:only-of-type {\n",
       "        vertical-align: middle;\n",
       "    }\n",
       "\n",
       "    .dataframe tbody tr th {\n",
       "        vertical-align: top;\n",
       "    }\n",
       "\n",
       "    .dataframe thead th {\n",
       "        text-align: right;\n",
       "    }\n",
       "</style>\n",
       "<table border=\"1\" class=\"dataframe\">\n",
       "  <thead>\n",
       "    <tr style=\"text-align: right;\">\n",
       "      <th></th>\n",
       "      <th>fitness</th>\n",
       "    </tr>\n",
       "  </thead>\n",
       "  <tbody>\n",
       "    <tr>\n",
       "      <th>0</th>\n",
       "      <td>22.498588</td>\n",
       "    </tr>\n",
       "    <tr>\n",
       "      <th>1</th>\n",
       "      <td>23.543758</td>\n",
       "    </tr>\n",
       "    <tr>\n",
       "      <th>2</th>\n",
       "      <td>23.808348</td>\n",
       "    </tr>\n",
       "    <tr>\n",
       "      <th>3</th>\n",
       "      <td>23.821679</td>\n",
       "    </tr>\n",
       "    <tr>\n",
       "      <th>4</th>\n",
       "      <td>24.684095</td>\n",
       "    </tr>\n",
       "    <tr>\n",
       "      <th>5</th>\n",
       "      <td>23.782393</td>\n",
       "    </tr>\n",
       "    <tr>\n",
       "      <th>6</th>\n",
       "      <td>23.394216</td>\n",
       "    </tr>\n",
       "    <tr>\n",
       "      <th>7</th>\n",
       "      <td>24.541927</td>\n",
       "    </tr>\n",
       "    <tr>\n",
       "      <th>8</th>\n",
       "      <td>23.266211</td>\n",
       "    </tr>\n",
       "    <tr>\n",
       "      <th>9</th>\n",
       "      <td>23.056183</td>\n",
       "    </tr>\n",
       "  </tbody>\n",
       "</table>\n",
       "</div>"
      ],
      "text/plain": [
       "     fitness\n",
       "0  22.498588\n",
       "1  23.543758\n",
       "2  23.808348\n",
       "3  23.821679\n",
       "4  24.684095\n",
       "5  23.782393\n",
       "6  23.394216\n",
       "7  24.541927\n",
       "8  23.266211\n",
       "9  23.056183"
      ]
     },
     "execution_count": 17,
     "metadata": {},
     "output_type": "execute_result"
    }
   ],
   "source": [
    "pd.DataFrame(fitness, columns=['fitness'])"
   ]
  },
  {
   "cell_type": "markdown",
   "metadata": {},
   "source": [
    "### Selection"
   ]
  },
  {
   "cell_type": "code",
   "execution_count": 18,
   "metadata": {},
   "outputs": [],
   "source": [
    "def fitness_proportionate_selection(population, fitness):\n",
    "    probabilities = (np.max(fitness) - fitness) / np.sum(np.max(fitness) - fitness)\n",
    "    idx = np.random.choice(N_POPULATION, replace=True, p=probabilities)\n",
    "    \n",
    "    return population[idx]"
   ]
  },
  {
   "cell_type": "code",
   "execution_count": 19,
   "metadata": {},
   "outputs": [],
   "source": [
    "parent = fitness_proportionate_selection(population, fitness)"
   ]
  },
  {
   "cell_type": "code",
   "execution_count": 20,
   "metadata": {},
   "outputs": [
    {
     "data": {
      "text/html": [
       "<div>\n",
       "<style scoped>\n",
       "    .dataframe tbody tr th:only-of-type {\n",
       "        vertical-align: middle;\n",
       "    }\n",
       "\n",
       "    .dataframe tbody tr th {\n",
       "        vertical-align: top;\n",
       "    }\n",
       "\n",
       "    .dataframe thead th {\n",
       "        text-align: right;\n",
       "    }\n",
       "</style>\n",
       "<table border=\"1\" class=\"dataframe\">\n",
       "  <thead>\n",
       "    <tr style=\"text-align: right;\">\n",
       "      <th></th>\n",
       "      <th>0</th>\n",
       "    </tr>\n",
       "  </thead>\n",
       "  <tbody>\n",
       "    <tr>\n",
       "      <th>x</th>\n",
       "      <td>1.52545</td>\n",
       "    </tr>\n",
       "    <tr>\n",
       "      <th>y</th>\n",
       "      <td>-0.211527</td>\n",
       "    </tr>\n",
       "    <tr>\n",
       "      <th>z</th>\n",
       "      <td>-0.549096</td>\n",
       "    </tr>\n",
       "  </tbody>\n",
       "</table>\n",
       "</div>"
      ],
      "text/plain": [
       "          0\n",
       "x   1.52545\n",
       "y -0.211527\n",
       "z -0.549096"
      ]
     },
     "execution_count": 20,
     "metadata": {},
     "output_type": "execute_result"
    }
   ],
   "source": [
    "pd.DataFrame(parent)"
   ]
  },
  {
   "cell_type": "markdown",
   "metadata": {},
   "source": [
    "### Crossover"
   ]
  },
  {
   "cell_type": "code",
   "execution_count": 21,
   "metadata": {},
   "outputs": [],
   "source": [
    "def intermediate_recombination(population, fitness):\n",
    "    p = 0.1\n",
    "    alpha = np.random.uniform(-p, 1+p)\n",
    "    beta = np.random.uniform(-p, 1+p)\n",
    "    \n",
    "    parent_1 = fitness_proportionate_selection(population, fitness)\n",
    "    parent_2 = fitness_proportionate_selection(population, fitness)\n",
    "    \n",
    "    children_1 = alpha * parent_1 + (1 - alpha) * parent_2\n",
    "    children_2 = beta * parent_1 + (1 - beta) * parent_2   \n",
    "    \n",
    "    return [children_1, children_2]"
   ]
  },
  {
   "cell_type": "code",
   "execution_count": 22,
   "metadata": {},
   "outputs": [],
   "source": [
    "childrens = intermediate_recombination(population, fitness)"
   ]
  },
  {
   "cell_type": "code",
   "execution_count": 23,
   "metadata": {},
   "outputs": [
    {
     "data": {
      "text/html": [
       "<div>\n",
       "<style scoped>\n",
       "    .dataframe tbody tr th:only-of-type {\n",
       "        vertical-align: middle;\n",
       "    }\n",
       "\n",
       "    .dataframe tbody tr th {\n",
       "        vertical-align: top;\n",
       "    }\n",
       "\n",
       "    .dataframe thead th {\n",
       "        text-align: right;\n",
       "    }\n",
       "</style>\n",
       "<table border=\"1\" class=\"dataframe\">\n",
       "  <thead>\n",
       "    <tr style=\"text-align: right;\">\n",
       "      <th></th>\n",
       "      <th>x</th>\n",
       "      <th>y</th>\n",
       "      <th>z</th>\n",
       "    </tr>\n",
       "  </thead>\n",
       "  <tbody>\n",
       "    <tr>\n",
       "      <th>0</th>\n",
       "      <td>0.044032</td>\n",
       "      <td>1.192938</td>\n",
       "      <td>-1.514128</td>\n",
       "    </tr>\n",
       "    <tr>\n",
       "      <th>1</th>\n",
       "      <td>0.169284</td>\n",
       "      <td>-0.202943</td>\n",
       "      <td>1.549600</td>\n",
       "    </tr>\n",
       "  </tbody>\n",
       "</table>\n",
       "</div>"
      ],
      "text/plain": [
       "          x         y         z\n",
       "0  0.044032  1.192938 -1.514128\n",
       "1  0.169284 -0.202943  1.549600"
      ]
     },
     "execution_count": 23,
     "metadata": {},
     "output_type": "execute_result"
    }
   ],
   "source": [
    "pd.DataFrame(childrens)"
   ]
  },
  {
   "cell_type": "markdown",
   "metadata": {},
   "source": [
    "### Mutation"
   ]
  },
  {
   "cell_type": "code",
   "execution_count": 24,
   "metadata": {},
   "outputs": [],
   "source": [
    "def gaussian_convolution(children):\n",
    "    p = np.random.rand(DIM_POPULATION)\n",
    "    sigma = 1\n",
    "    noise = np.random.randn(DIM_POPULATION)\n",
    "    \n",
    "    return children + noise * (p > 0.5)"
   ]
  },
  {
   "cell_type": "code",
   "execution_count": 25,
   "metadata": {},
   "outputs": [],
   "source": [
    "mutated_children = gaussian_convolution(childrens[0])"
   ]
  },
  {
   "cell_type": "code",
   "execution_count": 26,
   "metadata": {},
   "outputs": [
    {
     "data": {
      "text/html": [
       "<div>\n",
       "<style scoped>\n",
       "    .dataframe tbody tr th:only-of-type {\n",
       "        vertical-align: middle;\n",
       "    }\n",
       "\n",
       "    .dataframe tbody tr th {\n",
       "        vertical-align: top;\n",
       "    }\n",
       "\n",
       "    .dataframe thead th {\n",
       "        text-align: right;\n",
       "    }\n",
       "</style>\n",
       "<table border=\"1\" class=\"dataframe\">\n",
       "  <thead>\n",
       "    <tr style=\"text-align: right;\">\n",
       "      <th></th>\n",
       "      <th>x</th>\n",
       "      <th>y</th>\n",
       "      <th>z</th>\n",
       "    </tr>\n",
       "  </thead>\n",
       "  <tbody>\n",
       "    <tr>\n",
       "      <th>0</th>\n",
       "      <td>-0.939931</td>\n",
       "      <td>1.348071</td>\n",
       "      <td>1.132427</td>\n",
       "    </tr>\n",
       "    <tr>\n",
       "      <th>1</th>\n",
       "      <td>0.053960</td>\n",
       "      <td>1.082299</td>\n",
       "      <td>-1.271295</td>\n",
       "    </tr>\n",
       "    <tr>\n",
       "      <th>2</th>\n",
       "      <td>-1.720649</td>\n",
       "      <td>0.839037</td>\n",
       "      <td>-0.948324</td>\n",
       "    </tr>\n",
       "    <tr>\n",
       "      <th>3</th>\n",
       "      <td>-1.678878</td>\n",
       "      <td>0.768482</td>\n",
       "      <td>-0.913947</td>\n",
       "    </tr>\n",
       "    <tr>\n",
       "      <th>4</th>\n",
       "      <td>-0.169963</td>\n",
       "      <td>-1.086532</td>\n",
       "      <td>-1.063963</td>\n",
       "    </tr>\n",
       "    <tr>\n",
       "      <th>5</th>\n",
       "      <td>1.525452</td>\n",
       "      <td>-0.211527</td>\n",
       "      <td>-0.549096</td>\n",
       "    </tr>\n",
       "    <tr>\n",
       "      <th>6</th>\n",
       "      <td>0.880129</td>\n",
       "      <td>1.508413</td>\n",
       "      <td>-1.599898</td>\n",
       "    </tr>\n",
       "    <tr>\n",
       "      <th>7</th>\n",
       "      <td>-0.758998</td>\n",
       "      <td>-1.761677</td>\n",
       "      <td>0.443970</td>\n",
       "    </tr>\n",
       "    <tr>\n",
       "      <th>8</th>\n",
       "      <td>0.242570</td>\n",
       "      <td>-0.258912</td>\n",
       "      <td>1.038927</td>\n",
       "    </tr>\n",
       "    <tr>\n",
       "      <th>9</th>\n",
       "      <td>0.166745</td>\n",
       "      <td>-0.174647</td>\n",
       "      <td>1.487495</td>\n",
       "    </tr>\n",
       "  </tbody>\n",
       "</table>\n",
       "</div>"
      ],
      "text/plain": [
       "          x         y         z\n",
       "0 -0.939931  1.348071  1.132427\n",
       "1  0.053960  1.082299 -1.271295\n",
       "2 -1.720649  0.839037 -0.948324\n",
       "3 -1.678878  0.768482 -0.913947\n",
       "4 -0.169963 -1.086532 -1.063963\n",
       "5  1.525452 -0.211527 -0.549096\n",
       "6  0.880129  1.508413 -1.599898\n",
       "7 -0.758998 -1.761677  0.443970\n",
       "8  0.242570 -0.258912  1.038927\n",
       "9  0.166745 -0.174647  1.487495"
      ]
     },
     "execution_count": 26,
     "metadata": {},
     "output_type": "execute_result"
    }
   ],
   "source": [
    "pd.DataFrame(population)"
   ]
  },
  {
   "cell_type": "markdown",
   "metadata": {},
   "source": [
    "## Genetic Algorithm Implementation"
   ]
  },
  {
   "cell_type": "code",
   "execution_count": 27,
   "metadata": {},
   "outputs": [],
   "source": [
    "class GeneticAlgorithm:\n",
    "    def __init__(self, dim_populaton, n_population, ref_molecule, molecule, atoms):\n",
    "        self.DIM_POPULATION = 3\n",
    "        self.N_POPULATION = 30\n",
    "\n",
    "        self.ref_molecule = ref_molecule\n",
    "        self.molecule = molecule\n",
    "        self.atoms = atoms\n",
    "\n",
    "        self.population = self.initialize_population()\n",
    "        self.fitness = self.compute_population_fitness()\n",
    "\n",
    "    def compute_translation(self, ref_atom, atom):\n",
    "        return ref_atom[['x', 'y', 'z']] - atom[['x', 'y', 'z']]\n",
    "\n",
    "    def translate_molecule_to_new_reference(self, ref_molecule, molecule, translation):\n",
    "        translated_molecule = molecule.copy()\n",
    "        translated_molecule['x'] = molecule['x'] + translation['x']\n",
    "        translated_molecule['y'] = molecule['y'] + translation['y']\n",
    "        translated_molecule['z'] = molecule['z'] + translation['z']\n",
    "\n",
    "        return translated_molecule\n",
    "\n",
    "    def compute_rmsd(self, ref_molecule, molecule):\n",
    "        molecules_df = pd.merge(ref_molecule, molecule, on=['residue_seq_number', 'atom_name'])\n",
    "\n",
    "        molecules_df['x_distance_squared'] = (molecules_df['x_x'] - molecules_df['x_y']) ** 2\n",
    "        molecules_df['y_distance_squared'] = (molecules_df['y_x'] - molecules_df['y_y']) ** 2\n",
    "        molecules_df['z_distance_squared'] = (molecules_df['z_x'] - molecules_df['z_y']) ** 2\n",
    "\n",
    "        molecules_df['euclidean_distance_squared'] = (molecules_df['x_distance_squared'] +\n",
    "                                                      molecules_df['y_distance_squared'] +\n",
    "                                                      molecules_df['z_distance_squared'])\n",
    "\n",
    "        return np.sqrt(np.mean(molecules_df['euclidean_distance_squared']))\n",
    "    \n",
    "    # Initialization\n",
    "    def initialize_population(self):\n",
    "        # This method considers the first Alpha Carbon as system reference\n",
    "        ref_system_ref = self.ref_molecule[self.ref_molecule.atom_name == 'CA'].iloc[0]\n",
    "        molecule_system_ref = self.molecule[self.molecule.atom_name == 'CA'].iloc[0]\n",
    "\n",
    "        initial_magnitude = self.compute_translation(ref_system_ref, molecule_system_ref)\n",
    "        initial_population = [initial_magnitude * np.random.uniform(-1, 1, self.DIM_POPULATION)\n",
    "                              for _ in range(self.N_POPULATION)]\n",
    "\n",
    "        return initial_population\n",
    "    \n",
    "    def generate_new_population(self):\n",
    "        new_population = []\n",
    "        for _ in range(self.N_POPULATION // 2):\n",
    "            childrens = self.intermediate_recombination()\n",
    "            new_population.extend([self.gaussian_convolution(children) for children in childrens])\n",
    "\n",
    "        return new_population\n",
    "\n",
    "    # Fitness\n",
    "    def individual_fitness(self, translation):\n",
    "        translated_molecule = self.translate_molecule_to_new_reference(self.ref_molecule, self.molecule, translation)\n",
    "\n",
    "        # Selecting atoms of interest\n",
    "        ref_molecule_filtered = self.ref_molecule[self.ref_molecule.atom_name.isin(self.atoms)]\n",
    "        translated_molecule_filtered = translated_molecule[translated_molecule.atom_name.isin(self.atoms)]\n",
    "\n",
    "        return self.compute_rmsd(ref_molecule_filtered, translated_molecule_filtered)\n",
    "\n",
    "    def compute_population_fitness(self):\n",
    "        return [self.individual_fitness(individual)\n",
    "                for individual in self.population]\n",
    "\n",
    "\n",
    "    # Selection\n",
    "    def fitness_proportionate_selection(self):\n",
    "        probabilities = (np.max(self.fitness) - self.fitness) / np.sum(np.max(self.fitness) - self.fitness)\n",
    "        idx = np.random.choice(self.N_POPULATION, replace=True, p=probabilities)\n",
    "\n",
    "        return self.population[idx]\n",
    "\n",
    "    # Crossover\n",
    "    def intermediate_recombination(self):\n",
    "        p = 0.1\n",
    "        alpha = np.random.uniform(-p, 1+p)\n",
    "        beta = np.random.uniform(-p, 1+p)\n",
    "\n",
    "        parent_1 = self.fitness_proportionate_selection()\n",
    "        parent_2 = self.fitness_proportionate_selection()\n",
    "\n",
    "        children_1 = alpha * parent_1 + (1 - alpha) * parent_2\n",
    "        children_2 = beta * parent_1 + (1 - beta) * parent_2\n",
    "\n",
    "        return [children_1, children_2]\n",
    "\n",
    "    # Mutation\n",
    "    def gaussian_convolution(self, children):\n",
    "        add_noise_prob = np.random.rand(self.DIM_POPULATION)\n",
    "        \n",
    "        sigma = 0.2\n",
    "        noise = sigma * np.random.randn(self.DIM_POPULATION)\n",
    "\n",
    "        return children + noise * (add_noise_prob > 0.5)\n",
    "\n",
    "    def optimize(self):\n",
    "        # Stop criterion is missing\n",
    "        for _ in range(100):\n",
    "            self.population = self.generate_new_population()\n",
    "            self.fitness = self.compute_population_fitness()\n",
    "            \n",
    "        print('Optimal Solution:')\n",
    "        pd.DataFrame(self.population[np.argmin(self.fitness)])\n",
    "        print('Optimized RMSD: %.2f' % np.min(self.fitness))"
   ]
  },
  {
   "cell_type": "markdown",
   "metadata": {},
   "source": [
    "# Q3 - a) Backbone"
   ]
  },
  {
   "cell_type": "code",
   "execution_count": 28,
   "metadata": {},
   "outputs": [],
   "source": [
    "atoms = ['C', 'N', 'O']"
   ]
  },
  {
   "cell_type": "code",
   "execution_count": 29,
   "metadata": {},
   "outputs": [],
   "source": [
    "genetic_algorithm = GeneticAlgorithm(DIM_POPULATION, N_POPULATION, reference_molecule, model_molecule, atoms)"
   ]
  },
  {
   "cell_type": "code",
   "execution_count": 30,
   "metadata": {},
   "outputs": [
    {
     "name": "stdout",
     "output_type": "stream",
     "text": [
      "Optimal Solution:\n",
      "Optimized RMSD: 17.41\n"
     ]
    }
   ],
   "source": [
    "genetic_algorithm.optimize()"
   ]
  },
  {
   "cell_type": "markdown",
   "metadata": {},
   "source": [
    "# Q3 - b) Alpha Carbon"
   ]
  },
  {
   "cell_type": "code",
   "execution_count": 31,
   "metadata": {},
   "outputs": [],
   "source": [
    "atoms = ['CA']"
   ]
  },
  {
   "cell_type": "code",
   "execution_count": 32,
   "metadata": {},
   "outputs": [],
   "source": [
    "genetic_algorithm = GeneticAlgorithm(DIM_POPULATION, N_POPULATION, reference_molecule, model_molecule, atoms)"
   ]
  },
  {
   "cell_type": "code",
   "execution_count": 33,
   "metadata": {},
   "outputs": [
    {
     "name": "stdout",
     "output_type": "stream",
     "text": [
      "Optimal Solution:\n",
      "Optimized RMSD: 17.59\n"
     ]
    }
   ],
   "source": [
    "genetic_algorithm.optimize()"
   ]
  },
  {
   "cell_type": "markdown",
   "metadata": {},
   "source": [
    "# Q3 - c) Polypeptide"
   ]
  },
  {
   "cell_type": "code",
   "execution_count": 34,
   "metadata": {},
   "outputs": [],
   "source": [
    "atoms = ['C', 'N', 'O', 'H']"
   ]
  },
  {
   "cell_type": "code",
   "execution_count": 35,
   "metadata": {},
   "outputs": [],
   "source": [
    "genetic_algorithm = GeneticAlgorithm(DIM_POPULATION, N_POPULATION, reference_molecule, model_molecule, atoms)"
   ]
  },
  {
   "cell_type": "code",
   "execution_count": 36,
   "metadata": {},
   "outputs": [
    {
     "name": "stdout",
     "output_type": "stream",
     "text": [
      "Optimal Solution:\n",
      "Optimized RMSD: 17.46\n"
     ]
    }
   ],
   "source": [
    "genetic_algorithm.optimize()"
   ]
  },
  {
   "cell_type": "markdown",
   "metadata": {},
   "source": [
    "Done!"
   ]
  }
 ],
 "metadata": {
  "kernelspec": {
   "display_name": "Python 3",
   "language": "python",
   "name": "python3"
  },
  "language_info": {
   "codemirror_mode": {
    "name": "ipython",
    "version": 3
   },
   "file_extension": ".py",
   "mimetype": "text/x-python",
   "name": "python",
   "nbconvert_exporter": "python",
   "pygments_lexer": "ipython3",
   "version": "3.6.5"
  }
 },
 "nbformat": 4,
 "nbformat_minor": 2
}
