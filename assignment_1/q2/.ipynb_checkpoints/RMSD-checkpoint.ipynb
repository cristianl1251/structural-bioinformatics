{
 "cells": [
  {
   "cell_type": "markdown",
   "metadata": {},
   "source": [
    "# CMP585 - Structural Bioinformatics\n",
    "\n",
    "Cristian Lopes"
   ]
  },
  {
   "cell_type": "markdown",
   "metadata": {},
   "source": [
    "# Assignment 1: Q2"
   ]
  },
  {
   "cell_type": "code",
   "execution_count": 1,
   "metadata": {},
   "outputs": [],
   "source": [
    "import pandas as pd\n",
    "import numpy as np"
   ]
  },
  {
   "cell_type": "markdown",
   "metadata": {},
   "source": [
    "# Load Data"
   ]
  },
  {
   "cell_type": "markdown",
   "metadata": {},
   "source": [
    "## Read Molecules"
   ]
  },
  {
   "cell_type": "code",
   "execution_count": 2,
   "metadata": {},
   "outputs": [],
   "source": [
    "reference_path = 'data/reference.pdb'\n",
    "model_paths = ['data/1ACW-0%s.pdb' % (1 + n) for n in range(6)]"
   ]
  },
  {
   "cell_type": "code",
   "execution_count": 3,
   "metadata": {},
   "outputs": [],
   "source": [
    "def read_molecule(path):\n",
    "    atoms = []\n",
    "    with open(path, 'r') as f:\n",
    "        for line in f:\n",
    "            if line.startswith('ATOM'):\n",
    "                atoms.append({'atom_name': line[12:16].strip(), \n",
    "                             'residue_name': line[17:20].strip(),\n",
    "                             'residue_seq_number': line[22:26].strip(),\n",
    "                             'x': float(line[30:38].strip()), \n",
    "                             'y': float(line[38:46].strip()),\n",
    "                             'z': float(line[46:54].strip())})\n",
    "    return pd.DataFrame(atoms)"
   ]
  },
  {
   "cell_type": "markdown",
   "metadata": {},
   "source": [
    "### Reference Molecule"
   ]
  },
  {
   "cell_type": "markdown",
   "metadata": {},
   "source": [
    "Given that all model molecules have 29 residues, we consider only the first 29 residues from the reference molecule."
   ]
  },
  {
   "cell_type": "code",
   "execution_count": 4,
   "metadata": {},
   "outputs": [],
   "source": [
    "reference_molecule = read_molecule(reference_path).iloc[0:410] # considering only the first 29 residues"
   ]
  },
  {
   "cell_type": "code",
   "execution_count": 5,
   "metadata": {},
   "outputs": [
    {
     "data": {
      "text/html": [
       "<div>\n",
       "<style scoped>\n",
       "    .dataframe tbody tr th:only-of-type {\n",
       "        vertical-align: middle;\n",
       "    }\n",
       "\n",
       "    .dataframe tbody tr th {\n",
       "        vertical-align: top;\n",
       "    }\n",
       "\n",
       "    .dataframe thead th {\n",
       "        text-align: right;\n",
       "    }\n",
       "</style>\n",
       "<table border=\"1\" class=\"dataframe\">\n",
       "  <thead>\n",
       "    <tr style=\"text-align: right;\">\n",
       "      <th></th>\n",
       "      <th>atom_name</th>\n",
       "      <th>residue_name</th>\n",
       "      <th>residue_seq_number</th>\n",
       "      <th>x</th>\n",
       "      <th>y</th>\n",
       "      <th>z</th>\n",
       "    </tr>\n",
       "  </thead>\n",
       "  <tbody>\n",
       "    <tr>\n",
       "      <th>0</th>\n",
       "      <td>N</td>\n",
       "      <td>VAL</td>\n",
       "      <td>1</td>\n",
       "      <td>0.965</td>\n",
       "      <td>0.298</td>\n",
       "      <td>-0.467</td>\n",
       "    </tr>\n",
       "    <tr>\n",
       "      <th>1</th>\n",
       "      <td>CA</td>\n",
       "      <td>VAL</td>\n",
       "      <td>1</td>\n",
       "      <td>1.811</td>\n",
       "      <td>0.250</td>\n",
       "      <td>-1.701</td>\n",
       "    </tr>\n",
       "    <tr>\n",
       "      <th>2</th>\n",
       "      <td>C</td>\n",
       "      <td>VAL</td>\n",
       "      <td>1</td>\n",
       "      <td>3.290</td>\n",
       "      <td>0.400</td>\n",
       "      <td>-1.320</td>\n",
       "    </tr>\n",
       "    <tr>\n",
       "      <th>3</th>\n",
       "      <td>O</td>\n",
       "      <td>VAL</td>\n",
       "      <td>1</td>\n",
       "      <td>3.628</td>\n",
       "      <td>1.053</td>\n",
       "      <td>-0.346</td>\n",
       "    </tr>\n",
       "    <tr>\n",
       "      <th>4</th>\n",
       "      <td>CB</td>\n",
       "      <td>VAL</td>\n",
       "      <td>1</td>\n",
       "      <td>1.417</td>\n",
       "      <td>1.384</td>\n",
       "      <td>-2.664</td>\n",
       "    </tr>\n",
       "  </tbody>\n",
       "</table>\n",
       "</div>"
      ],
      "text/plain": [
       "  atom_name residue_name residue_seq_number      x      y      z\n",
       "0         N          VAL                  1  0.965  0.298 -0.467\n",
       "1        CA          VAL                  1  1.811  0.250 -1.701\n",
       "2         C          VAL                  1  3.290  0.400 -1.320\n",
       "3         O          VAL                  1  3.628  1.053 -0.346\n",
       "4        CB          VAL                  1  1.417  1.384 -2.664"
      ]
     },
     "execution_count": 5,
     "metadata": {},
     "output_type": "execute_result"
    }
   ],
   "source": [
    "reference_molecule.head()"
   ]
  },
  {
   "cell_type": "markdown",
   "metadata": {},
   "source": [
    "### Model Molecules"
   ]
  },
  {
   "cell_type": "code",
   "execution_count": 6,
   "metadata": {},
   "outputs": [],
   "source": [
    "model_molecules = [read_molecule(path) for path in model_paths] "
   ]
  },
  {
   "cell_type": "code",
   "execution_count": 7,
   "metadata": {
    "scrolled": false
   },
   "outputs": [
    {
     "data": {
      "text/html": [
       "<div>\n",
       "<style scoped>\n",
       "    .dataframe tbody tr th:only-of-type {\n",
       "        vertical-align: middle;\n",
       "    }\n",
       "\n",
       "    .dataframe tbody tr th {\n",
       "        vertical-align: top;\n",
       "    }\n",
       "\n",
       "    .dataframe thead th {\n",
       "        text-align: right;\n",
       "    }\n",
       "</style>\n",
       "<table border=\"1\" class=\"dataframe\">\n",
       "  <thead>\n",
       "    <tr style=\"text-align: right;\">\n",
       "      <th></th>\n",
       "      <th>atom_name</th>\n",
       "      <th>residue_name</th>\n",
       "      <th>residue_seq_number</th>\n",
       "      <th>x</th>\n",
       "      <th>y</th>\n",
       "      <th>z</th>\n",
       "    </tr>\n",
       "  </thead>\n",
       "  <tbody>\n",
       "    <tr>\n",
       "      <th>0</th>\n",
       "      <td>N</td>\n",
       "      <td>VAL</td>\n",
       "      <td>1</td>\n",
       "      <td>-1.352</td>\n",
       "      <td>-2.044</td>\n",
       "      <td>0.000</td>\n",
       "    </tr>\n",
       "    <tr>\n",
       "      <th>1</th>\n",
       "      <td>H1</td>\n",
       "      <td>VAL</td>\n",
       "      <td>1</td>\n",
       "      <td>-1.990</td>\n",
       "      <td>-1.261</td>\n",
       "      <td>0.000</td>\n",
       "    </tr>\n",
       "    <tr>\n",
       "      <th>2</th>\n",
       "      <td>H2</td>\n",
       "      <td>VAL</td>\n",
       "      <td>1</td>\n",
       "      <td>-1.446</td>\n",
       "      <td>-2.540</td>\n",
       "      <td>0.875</td>\n",
       "    </tr>\n",
       "    <tr>\n",
       "      <th>3</th>\n",
       "      <td>H3</td>\n",
       "      <td>VAL</td>\n",
       "      <td>1</td>\n",
       "      <td>-1.446</td>\n",
       "      <td>-2.540</td>\n",
       "      <td>-0.875</td>\n",
       "    </tr>\n",
       "    <tr>\n",
       "      <th>4</th>\n",
       "      <td>CA</td>\n",
       "      <td>VAL</td>\n",
       "      <td>1</td>\n",
       "      <td>0.000</td>\n",
       "      <td>-1.523</td>\n",
       "      <td>0.000</td>\n",
       "    </tr>\n",
       "  </tbody>\n",
       "</table>\n",
       "</div>"
      ],
      "text/plain": [
       "  atom_name residue_name residue_seq_number      x      y      z\n",
       "0         N          VAL                  1 -1.352 -2.044  0.000\n",
       "1        H1          VAL                  1 -1.990 -1.261  0.000\n",
       "2        H2          VAL                  1 -1.446 -2.540  0.875\n",
       "3        H3          VAL                  1 -1.446 -2.540 -0.875\n",
       "4        CA          VAL                  1  0.000 -1.523  0.000"
      ]
     },
     "execution_count": 7,
     "metadata": {},
     "output_type": "execute_result"
    }
   ],
   "source": [
    "model_molecules[0].head()"
   ]
  },
  {
   "cell_type": "markdown",
   "metadata": {},
   "source": [
    "# a) Calculate RMSD"
   ]
  },
  {
   "cell_type": "code",
   "execution_count": 8,
   "metadata": {},
   "outputs": [],
   "source": [
    "def euclidean_distance(p1, p2):\n",
    "    squared_axis_distances = [(a - b) ** 2 for a, b in zip(p1, p2)]        \n",
    "    return np.sqrt(np.sum(squared_axis_distances))\n",
    "\n",
    "def rmsd(distances):\n",
    "    squared_distances = [d ** 2 for d in distances]\n",
    "    return np.sqrt(np.mean(squared_distances))\n",
    "\n",
    "def molecules_rmsd(ref_molecule, model_molecule):  \n",
    "    molecules_df = pd.merge(ref_molecule, model_molecule, on='residue_seq_number')\n",
    "    \n",
    "    euclidean_distances = []\n",
    "    for idx, row in molecules_df.iterrows():\n",
    "        p1 = [row.x_x, row.y_x, row.z_x]\n",
    "        p2 = [row.x_y, row.y_y, row.z_y]\n",
    "        euclidean_distances.append(euclidean_distance(p1, p2))\n",
    "        \n",
    "    return rmsd(euclidean_distances)"
   ]
  },
  {
   "cell_type": "markdown",
   "metadata": {},
   "source": [
    "### Calculate RMSD for each model molecule"
   ]
  },
  {
   "cell_type": "markdown",
   "metadata": {},
   "source": [
    "Let's calculate the RMSD between the reference molecule and the model molecule considering only the Alpha Carbons."
   ]
  },
  {
   "cell_type": "code",
   "execution_count": 9,
   "metadata": {
    "scrolled": true
   },
   "outputs": [
    {
     "name": "stdout",
     "output_type": "stream",
     "text": [
      "RMSD between reference molecule and model molecule 1: 23.5192\n",
      "RMSD between reference molecule and model molecule 2: 35.7089\n",
      "RMSD between reference molecule and model molecule 3: 23.6157\n",
      "RMSD between reference molecule and model molecule 4: 20.7876\n",
      "RMSD between reference molecule and model molecule 5: 22.1190\n",
      "RMSD between reference molecule and model molecule 6: 25.3267\n"
     ]
    }
   ],
   "source": [
    "for i, model_molecule in enumerate(model_molecules):\n",
    "    # Selecting only the Alpha Carbons\n",
    "    reference_molecule_ca = reference_molecule[reference_molecule.atom_name == 'CA']\n",
    "    model_molecule_ca = model_molecule[model_molecule.atom_name == 'CA']\n",
    "\n",
    "    print('RMSD between reference molecule and model molecule %d: %.4f' % \n",
    "          ((i + 1), molecules_rmsd(reference_molecule_ca, model_molecule_ca)))"
   ]
  },
  {
   "cell_type": "markdown",
   "metadata": {},
   "source": [
    "# b) Translate 3D Structure to Reference and Calculate RMSD"
   ]
  },
  {
   "cell_type": "code",
   "execution_count": 10,
   "metadata": {},
   "outputs": [],
   "source": [
    "def calculate_translations(ref_atom, model_atom):\n",
    "    t_x = ref_atom.x - model_atom.x\n",
    "    t_y = ref_atom.y - model_atom.y\n",
    "    t_z = ref_atom.z - model_atom.z\n",
    "    return t_x, t_y, t_z\n",
    "\n",
    "def translate_molecule_to_reference(ref_molecule, model_molecule):\n",
    "    # Taking the first Alpha Carbon from reference molecule and model molecule as system reference\n",
    "    ref_atom = ref_molecule[ref_molecule.atom_name == 'CA'].iloc[0]\n",
    "    model_atom = model_molecule[model_molecule.atom_name == 'CA'].iloc[0]\n",
    "    \n",
    "    t_x, t_y, t_z = calculate_translations(ref_atom, model_atom)\n",
    "    \n",
    "    translated_model_molecule = model_molecule.copy()\n",
    "    translated_model_molecule['x'] = model_molecule['x'] + t_x\n",
    "    translated_model_molecule['y'] = model_molecule['y'] + t_y\n",
    "    translated_model_molecule['z'] = model_molecule['z'] + t_z\n",
    "    \n",
    "    return translated_model_molecule"
   ]
  },
  {
   "cell_type": "markdown",
   "metadata": {},
   "source": [
    "### Translate each model molecule"
   ]
  },
  {
   "cell_type": "code",
   "execution_count": 11,
   "metadata": {},
   "outputs": [],
   "source": [
    "translated_model_molecules = []\n",
    "\n",
    "for model_molecule in model_molecules:\n",
    "    translated_model_molecules.append(\n",
    "        translate_molecule_to_reference(reference_molecule, model_molecule))"
   ]
  },
  {
   "cell_type": "markdown",
   "metadata": {},
   "source": [
    "### Calculate RMSD for each translated model molecule"
   ]
  },
  {
   "cell_type": "code",
   "execution_count": 12,
   "metadata": {},
   "outputs": [
    {
     "name": "stdout",
     "output_type": "stream",
     "text": [
      "RMSD between reference molecule and translated model molecule 1: 23.2142\n",
      "RMSD between reference molecule and translated model molecule 2: 33.8033\n",
      "RMSD between reference molecule and translated model molecule 3: 24.4166\n",
      "RMSD between reference molecule and translated model molecule 4: 19.7216\n",
      "RMSD between reference molecule and translated model molecule 5: 23.5102\n",
      "RMSD between reference molecule and translated model molecule 6: 25.9930\n"
     ]
    }
   ],
   "source": [
    "for i, translated_model_molecule in enumerate(translated_model_molecules):\n",
    "    # Selecting only the Alpha Carbons\n",
    "    reference_molecule_ca = reference_molecule[reference_molecule.atom_name == 'CA']\n",
    "    translated_model_molecule_ca = translated_model_molecule[translated_model_molecule.atom_name == 'CA']\n",
    "\n",
    "    print('RMSD between reference molecule and translated model molecule %d: %.4f' % \n",
    "          ((i + 1), molecules_rmsd(reference_molecule_ca, translated_model_molecule_ca)))"
   ]
  },
  {
   "cell_type": "markdown",
   "metadata": {},
   "source": [
    "Done!"
   ]
  }
 ],
 "metadata": {
  "kernelspec": {
   "display_name": "Python 3",
   "language": "python",
   "name": "python3"
  },
  "language_info": {
   "codemirror_mode": {
    "name": "ipython",
    "version": 3
   },
   "file_extension": ".py",
   "mimetype": "text/x-python",
   "name": "python",
   "nbconvert_exporter": "python",
   "pygments_lexer": "ipython3",
   "version": "3.6.5"
  }
 },
 "nbformat": 4,
 "nbformat_minor": 2
}
